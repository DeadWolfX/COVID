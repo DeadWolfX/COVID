{
 "cells": [
  {
   "cell_type": "code",
   "execution_count": 8,
   "id": "6478d628-1429-4ad5-9355-d943e10ddc59",
   "metadata": {
    "tags": []
   },
   "outputs": [],
   "source": [
    "import pandas as pd\n",
    "import numpy as np\n",
    "import matplotlib.pyplot as plt\n",
    "from ast import literal_eval\n",
    "import matplotlib.patches as patches\n",
    "from pydicom import dcmread, read_file\n",
    "import skimage as sk\n",
    "import cv2\n",
    "import shutil\n",
    "import os"
   ]
  },
  {
   "cell_type": "code",
   "execution_count": 10,
   "id": "193e2429-49e0-4934-8c11-4a442ff87bfc",
   "metadata": {
    "tags": []
   },
   "outputs": [],
   "source": [
    "#extraer info de imagenes sin hallazgos para adjuntarlas al dataset\n",
    "todo= pd.read_csv(\"/media/deadwolf/BEC4-9B89/chext14/Todas.csv\")\n",
    "bboxes=pd.read_csv(\"/media/deadwolf/BEC4-9B89/chext14/bboxes.csv\")\n",
    "data=pd.read_csv(\"/media/deadwolf/BEC4-9B89/chext14/Data.csv\")"
   ]
  },
  {
   "cell_type": "code",
   "execution_count": 6,
   "id": "41cb4860-3b6a-41ac-9eae-a3aba0c87a75",
   "metadata": {
    "tags": []
   },
   "outputs": [],
   "source": [
    "NoOpacities=data[data['Finding Labels']=='No Finding']"
   ]
  },
  {
   "cell_type": "code",
   "execution_count": 8,
   "id": "6134da7a-4cee-4610-80f1-bbeb97e71136",
   "metadata": {
    "tags": []
   },
   "outputs": [],
   "source": [
    "paths=NoOpacities['Image Index']\n",
    "labels=NoOpacities['Finding Labels']"
   ]
  },
  {
   "cell_type": "code",
   "execution_count": 9,
   "id": "d7c63817-c190-4346-b1d2-ca51f7d88174",
   "metadata": {
    "tags": []
   },
   "outputs": [],
   "source": [
    "df = pd.DataFrame({'id': paths, 'label': labels})"
   ]
  },
  {
   "cell_type": "code",
   "execution_count": 11,
   "id": "cd8d64b6-5082-4256-975e-8e4ecd71434b",
   "metadata": {
    "tags": []
   },
   "outputs": [],
   "source": [
    "df.to_csv('/media/deadwolf/BEC4-9B89/chext14/NoOp.csv', index=False)"
   ]
  },
  {
   "cell_type": "code",
   "execution_count": 3,
   "id": "41871b12-97c9-48f6-9bd9-34b8bb1ee738",
   "metadata": {
    "tags": []
   },
   "outputs": [
    {
     "data": {
      "text/html": [
       "<div>\n",
       "<style scoped>\n",
       "    .dataframe tbody tr th:only-of-type {\n",
       "        vertical-align: middle;\n",
       "    }\n",
       "\n",
       "    .dataframe tbody tr th {\n",
       "        vertical-align: top;\n",
       "    }\n",
       "\n",
       "    .dataframe thead th {\n",
       "        text-align: right;\n",
       "    }\n",
       "</style>\n",
       "<table border=\"1\" class=\"dataframe\">\n",
       "  <thead>\n",
       "    <tr style=\"text-align: right;\">\n",
       "      <th></th>\n",
       "      <th>id</th>\n",
       "      <th>label</th>\n",
       "      <th>bboxes</th>\n",
       "    </tr>\n",
       "  </thead>\n",
       "  <tbody>\n",
       "    <tr>\n",
       "      <th>0</th>\n",
       "      <td>00013118_008.png</td>\n",
       "      <td>Atelectasis</td>\n",
       "      <td>[[225.084745762712,547.019216763771,86.7796610...</td>\n",
       "    </tr>\n",
       "    <tr>\n",
       "      <th>1</th>\n",
       "      <td>00014716_007.png</td>\n",
       "      <td>Atelectasis</td>\n",
       "      <td>[[686.101694915254,131.543498411017,185.491525...</td>\n",
       "    </tr>\n",
       "    <tr>\n",
       "      <th>2</th>\n",
       "      <td>00029817_009.png</td>\n",
       "      <td>Atelectasis</td>\n",
       "      <td>[[221.830508474576,317.053115068856,155.118644...</td>\n",
       "    </tr>\n",
       "    <tr>\n",
       "      <th>3</th>\n",
       "      <td>00014687_001.png</td>\n",
       "      <td>Atelectasis</td>\n",
       "      <td>[[726.237288135593,494.951420153602,141.016949...</td>\n",
       "    </tr>\n",
       "    <tr>\n",
       "      <th>4</th>\n",
       "      <td>00017877_001.png</td>\n",
       "      <td>Atelectasis</td>\n",
       "      <td>[[660.067796610169,569.78078654661,200.6779661...</td>\n",
       "    </tr>\n",
       "  </tbody>\n",
       "</table>\n",
       "</div>"
      ],
      "text/plain": [
       "                 id        label  \\\n",
       "0  00013118_008.png  Atelectasis   \n",
       "1  00014716_007.png  Atelectasis   \n",
       "2  00029817_009.png  Atelectasis   \n",
       "3  00014687_001.png  Atelectasis   \n",
       "4  00017877_001.png  Atelectasis   \n",
       "\n",
       "                                              bboxes  \n",
       "0  [[225.084745762712,547.019216763771,86.7796610...  \n",
       "1  [[686.101694915254,131.543498411017,185.491525...  \n",
       "2  [[221.830508474576,317.053115068856,155.118644...  \n",
       "3  [[726.237288135593,494.951420153602,141.016949...  \n",
       "4  [[660.067796610169,569.78078654661,200.6779661...  "
      ]
     },
     "execution_count": 3,
     "metadata": {},
     "output_type": "execute_result"
    }
   ],
   "source": [
    "info= pd.read_csv(\"bboxes.csv\")\n",
    "info.head()"
   ]
  }
 ],
 "metadata": {
  "kernelspec": {
   "display_name": "Python 3 (ipykernel)",
   "language": "python",
   "name": "python3"
  },
  "language_info": {
   "codemirror_mode": {
    "name": "ipython",
    "version": 3
   },
   "file_extension": ".py",
   "mimetype": "text/x-python",
   "name": "python",
   "nbconvert_exporter": "python",
   "pygments_lexer": "ipython3",
   "version": "3.11.4"
  }
 },
 "nbformat": 4,
 "nbformat_minor": 5
}
