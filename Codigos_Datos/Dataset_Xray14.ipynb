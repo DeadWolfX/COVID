{
 "cells": [
  {
   "cell_type": "code",
   "execution_count": 24,
   "id": "6478d628-1429-4ad5-9355-d943e10ddc59",
   "metadata": {
    "tags": []
   },
   "outputs": [],
   "source": [
    "import pandas as pd\n",
    "import numpy as np\n",
    "import matplotlib.pyplot as plt\n",
    "from ast import literal_eval\n",
    "import matplotlib.patches as patches\n",
    "from pydicom import dcmread, read_file\n",
    "import skimage as sk\n",
    "import cv2\n",
    "import shutil\n",
    "import os\n",
    "from tqdm import tqdm"
   ]
  },
  {
   "cell_type": "code",
   "execution_count": 10,
   "id": "193e2429-49e0-4934-8c11-4a442ff87bfc",
   "metadata": {
    "tags": []
   },
   "outputs": [],
   "source": [
    "#extraer info de imagenes sin hallazgos para adjuntarlas al dataset\n",
    "todo= pd.read_csv(\"/media/deadwolf/BEC4-9B89/chext14/Todas.csv\")\n",
    "bboxes=pd.read_csv(\"/media/deadwolf/BEC4-9B89/chext14/bboxes.csv\")\n",
    "data=pd.read_csv(\"/media/deadwolf/BEC4-9B89/chext14/Data.csv\")"
   ]
  },
  {
   "cell_type": "code",
   "execution_count": 6,
   "id": "41cb4860-3b6a-41ac-9eae-a3aba0c87a75",
   "metadata": {
    "tags": []
   },
   "outputs": [],
   "source": [
    "NoOpacities=data[data['Finding Labels']=='No Finding']"
   ]
  },
  {
   "cell_type": "code",
   "execution_count": 8,
   "id": "6134da7a-4cee-4610-80f1-bbeb97e71136",
   "metadata": {
    "tags": []
   },
   "outputs": [],
   "source": [
    "paths=NoOpacities['Image Index']\n",
    "labels=NoOpacities['Finding Labels']"
   ]
  },
  {
   "cell_type": "code",
   "execution_count": 9,
   "id": "d7c63817-c190-4346-b1d2-ca51f7d88174",
   "metadata": {
    "tags": []
   },
   "outputs": [],
   "source": [
    "df = pd.DataFrame({'id': paths, 'label': labels})"
   ]
  },
  {
   "cell_type": "code",
   "execution_count": 11,
   "id": "cd8d64b6-5082-4256-975e-8e4ecd71434b",
   "metadata": {
    "tags": []
   },
   "outputs": [],
   "source": [
    "df.to_csv('/media/deadwolf/BEC4-9B89/chext14/NoOp.csv', index=False)"
   ]
  },
  {
   "cell_type": "code",
   "execution_count": 10,
   "id": "41871b12-97c9-48f6-9bd9-34b8bb1ee738",
   "metadata": {
    "tags": []
   },
   "outputs": [
    {
     "data": {
      "text/html": [
       "<div>\n",
       "<style scoped>\n",
       "    .dataframe tbody tr th:only-of-type {\n",
       "        vertical-align: middle;\n",
       "    }\n",
       "\n",
       "    .dataframe tbody tr th {\n",
       "        vertical-align: top;\n",
       "    }\n",
       "\n",
       "    .dataframe thead th {\n",
       "        text-align: right;\n",
       "    }\n",
       "</style>\n",
       "<table border=\"1\" class=\"dataframe\">\n",
       "  <thead>\n",
       "    <tr style=\"text-align: right;\">\n",
       "      <th></th>\n",
       "      <th>id</th>\n",
       "      <th>label</th>\n",
       "      <th>bboxes</th>\n",
       "    </tr>\n",
       "  </thead>\n",
       "  <tbody>\n",
       "    <tr>\n",
       "      <th>0</th>\n",
       "      <td>00016568_026.png</td>\n",
       "      <td>Pneumothorax</td>\n",
       "      <td>[[99.6910052910053,91.0222222222222,254.645502...</td>\n",
       "    </tr>\n",
       "    <tr>\n",
       "      <th>1</th>\n",
       "      <td>00025252_032.png</td>\n",
       "      <td>Pneumothorax</td>\n",
       "      <td>[[756.053333333333,681.851267361111,201.386666...</td>\n",
       "    </tr>\n",
       "    <tr>\n",
       "      <th>2</th>\n",
       "      <td>00001946_029.png</td>\n",
       "      <td>Pneumothorax</td>\n",
       "      <td>[[289.564444444444,396.269045138889,72.8177777...</td>\n",
       "    </tr>\n",
       "    <tr>\n",
       "      <th>3</th>\n",
       "      <td>00017137_016.png</td>\n",
       "      <td>Pneumothorax</td>\n",
       "      <td>[[170.097777777778,147.095711805556,287.857777...</td>\n",
       "    </tr>\n",
       "    <tr>\n",
       "      <th>4</th>\n",
       "      <td>00014822_039.png</td>\n",
       "      <td>Pneumothorax</td>\n",
       "      <td>[[644.551111111111,205.122378472222,194.56,623...</td>\n",
       "    </tr>\n",
       "  </tbody>\n",
       "</table>\n",
       "</div>"
      ],
      "text/plain": [
       "                 id         label  \\\n",
       "0  00016568_026.png  Pneumothorax   \n",
       "1  00025252_032.png  Pneumothorax   \n",
       "2  00001946_029.png  Pneumothorax   \n",
       "3  00017137_016.png  Pneumothorax   \n",
       "4  00014822_039.png  Pneumothorax   \n",
       "\n",
       "                                              bboxes  \n",
       "0  [[99.6910052910053,91.0222222222222,254.645502...  \n",
       "1  [[756.053333333333,681.851267361111,201.386666...  \n",
       "2  [[289.564444444444,396.269045138889,72.8177777...  \n",
       "3  [[170.097777777778,147.095711805556,287.857777...  \n",
       "4  [[644.551111111111,205.122378472222,194.56,623...  "
      ]
     },
     "execution_count": 10,
     "metadata": {},
     "output_type": "execute_result"
    }
   ],
   "source": [
    "info= pd.read_csv(\"bboxes.csv\")\n",
    "info.head()"
   ]
  },
  {
   "cell_type": "code",
   "execution_count": 9,
   "id": "a9549ae1-a7fd-4ff1-a011-44a09c0abaf8",
   "metadata": {
    "tags": []
   },
   "outputs": [
    {
     "data": {
      "text/plain": [
       "label\n",
       "Atelectasis     180\n",
       "Effusion        153\n",
       "Cardiomegaly    146\n",
       "Infiltrate      123\n",
       "No Finding      122\n",
       "Pneumonia       120\n",
       "Pneumothorax     98\n",
       "Mass             85\n",
       "Nodule           79\n",
       "Name: count, dtype: int64"
      ]
     },
     "execution_count": 9,
     "metadata": {},
     "output_type": "execute_result"
    }
   ],
   "source": [
    "#Determinemos la cantidad de elementos por etiqueta para distribuirlos equitativamente en los conjuntos de entrenamiento, prueba y validación\n",
    "# train 0.6  validation 0.3 test 0.1\n",
    "conteo = info['label'].value_counts()\n",
    "conteo"
   ]
  },
  {
   "cell_type": "code",
   "execution_count": 22,
   "id": "5c78d322-9866-42bb-8480-c7fe939b8135",
   "metadata": {
    "tags": []
   },
   "outputs": [],
   "source": [
    "# reformateando imagenes del tipo (1024,1024,n) a (1024,1024)\n",
    "root='/home/jair/COVID/NIHX14/images1024/'\n",
    "for idd in info['id']:\n",
    "    r=root+idd\n",
    "    img=sk.io.imread(r)\n",
    "    if img.shape == (1024,1024):\n",
    "        pass\n",
    "    else:\n",
    "        imgr=img[...,0]\n",
    "        sk.io.imsave('/home/jair/COVID/NIHX14/'+idd, imgr)"
   ]
  },
  {
   "cell_type": "code",
   "execution_count": 32,
   "id": "29f4fb63-a790-4850-bd55-dbbfe5a68965",
   "metadata": {
    "tags": []
   },
   "outputs": [
    {
     "name": "stderr",
     "output_type": "stream",
     "text": [
      "100%|███████████████████████████████████████| 109/109 [00:00<00:00, 1438.15it/s]\n"
     ]
    }
   ],
   "source": [
    "#mover a carpetas de train / test / validation (recordemos que una imagen puede presentar dos clases distintas)\n",
    "rootd='/home/jair/COVID/NIHX14/images/1024/'\n",
    "rooto='/home/jair/COVID/NIHX14/images1024/'\n",
    "mode='test'\n",
    "csv=pd.read_csv(mode+\"_ord.csv\")\n",
    "for idd in tqdm(csv['id']):\n",
    "    if os.path.exists(rootd+mode+'/'+idd):\n",
    "        pass\n",
    "    else:\n",
    "        rd=rootd+mode\n",
    "        ro=rooto+idd\n",
    "        shutil.copy(ro, rd)"
   ]
  },
  {
   "cell_type": "code",
   "execution_count": 50,
   "id": "576bfc54-7090-4dee-b3b1-7d884d998719",
   "metadata": {},
   "outputs": [
    {
     "name": "stderr",
     "output_type": "stream",
     "text": [
      "109it [00:16,  6.55it/s]\n"
     ]
    }
   ],
   "source": [
    "import pandas as pd\n",
    "import numpy as np\n",
    "import matplotlib.pyplot as plt\n",
    "from ast import literal_eval\n",
    "import matplotlib.patches as patches\n",
    "from pydicom import dcmread, read_file\n",
    "import skimage as sk\n",
    "import cv2\n",
    "import shutil\n",
    "import os\n",
    "from tqdm import tqdm\n",
    "\n",
    "mode='test'\n",
    "ro='/home/jair/COVID/NIHX14/images/1024/'+mode+'/'\n",
    "rd='/home/jair/COVID/NIHX14/datasets/yolo/640/images/'+mode+'/'\n",
    "ra='/home/jair/COVID/NIHX14/'+mode+'_ord.csv'\n",
    "anno={'Atelectasis':0,'Effusion':1,'Cardiomegaly':2,'Infiltrate':3,'No Finding':4,'Pneumonia':5,'Pneumothorax':6,'Mass':7,'Nodule':8}\n",
    "\n",
    "info=pd.read_csv(ra)\n",
    "\n",
    "#funcion para pasar bbox a formato de yolo\n",
    "def xywh_yolo(bb,size):\n",
    "    cx=bb[0]+bb[2]/2\n",
    "    cy=bb[1]+bb[3]/2\n",
    "    xc=cx/size\n",
    "    yc=cy/size\n",
    "    wc=bb[2]/size\n",
    "    hc=bb[3]/size\n",
    "    return [xc,yc,wc,hc]\n",
    "\n",
    "#redimensionando imagenes y creando dataset para YOLO\n",
    "for indice, fila in tqdm(info.iterrows()):\n",
    "    ri=ro+fila['id']\n",
    "    img=sk.io.imread(ri)\n",
    "    imgr=sk.transform.resize(img,(640,640))\n",
    "    rgb = np.zeros((640,640,3))\n",
    "    rgb[...,0] =imgr\n",
    "    rgb[...,1] =imgr\n",
    "    rgb[...,2] =imgr\n",
    "    rgb=(rgb*255).astype(np.uint8)\n",
    "    sk.io.imsave(rd+fila['id'],rgb)\n",
    "    for bbox in literal_eval(fila['bboxes']):\n",
    "        #que los transforme del tamaño de imagenes originales normalizados ya no importa escala solo al recuperarlos multiplicar por escala adecuada\n",
    "        bboxy=xywh_yolo(bbox,1024)\n",
    "        with open(rd.replace('images','labels')+fila['id'].replace('png','txt'), 'a') as file:\n",
    "            if fila['label'] !='No Finding':\n",
    "                file.write(str(anno[fila['label']])+' '+str(bboxy[0])+' '+str(bboxy[1])+' '+str(bboxy[2])+' '+str(bboxy[3])+'\\n')\n",
    "            else:\n",
    "                file.write(str(anno[fila['label']])+' 0.500781 0.500781 0.9946 0.9946\\n')"
   ]
  },
  {
   "cell_type": "code",
   "execution_count": 56,
   "id": "b2b4ffc0-74a1-46ac-a4d2-7ef271cd0519",
   "metadata": {
    "tags": []
   },
   "outputs": [
    {
     "name": "stderr",
     "output_type": "stream",
     "text": [
      "0it [00:00, ?it/s]"
     ]
    },
    {
     "name": "stdout",
     "output_type": "stream",
     "text": [
      "[149.152542372881, 518.815826933263, 112.813559322034, 45.5593220338983]\n",
      "[59357.28813559296, 317463.14618644083, 72200.67796610176, 29157.96610169491]\n",
      "[59357.28813559296, 317463.14618644083, 131557.96610169474, 346621.11228813574]\n"
     ]
    },
    {
     "name": "stderr",
     "output_type": "stream",
     "text": [
      "\n"
     ]
    }
   ],
   "source": [
    "import pandas as pd\n",
    "import numpy as np\n",
    "import matplotlib.pyplot as plt\n",
    "from ast import literal_eval\n",
    "import matplotlib.patches as patches\n",
    "from pydicom import dcmread, read_file\n",
    "import skimage as sk\n",
    "import cv2\n",
    "import shutil\n",
    "import os\n",
    "from tqdm import tqdm\n",
    "\n",
    "mode='train'\n",
    "ro='/home/jair/COVID/NIHX14/images/1024/'+mode+'/'\n",
    "rd='/home/jair/COVID/NIHX14/datasets/yolo/640/images/'+mode+'/'\n",
    "ra='/home/jair/COVID/NIHX14/'+mode+'_ord.csv'\n",
    "anno={'Atelectasis':0,'Effusion':1,'Cardiomegaly':2,'Infiltrate':3,'No Finding':4,'Pneumonia':5,'Pneumothorax':6,'Mass':7,'Nodule':8}\n",
    "\n",
    "info=pd.read_csv(ra)\n",
    "\n",
    "def xywh_yolo(bb,size):\n",
    "    cx=bb[0]+bb[2]/2\n",
    "    cy=bb[1]+bb[3]/2\n",
    "    xc=cx/size\n",
    "    yc=cy/size\n",
    "    wc=bb[2]/size\n",
    "    hc=bb[3]/size\n",
    "    return [xc,yc,wc,hc]\n",
    "\n",
    "def yolon_to_xywh(bb,size):\n",
    "    x=bb[0]*size-bb[2]*size/2\n",
    "    y=bb[1]*size-bb[3]*size/2\n",
    "    wp=bb[2]*size\n",
    "    hp=bb[3]*size\n",
    "    return [x, y, wp, hp]\n",
    "\n",
    "def xywh_xiyixfyf(bbox):\n",
    "    x1=bbox[0]\n",
    "    y1=bbox[1]\n",
    "    x2=bbox[0]+bbox[2]\n",
    "    y2=bbox[1]+bbox[3]\n",
    "    return [x1,y1,x2,y2]\n",
    "\n",
    "#crear csv para retinanet\n",
    "data = pd.DataFrame(columns=['path','x1','y1','x2','y2','class'])\n",
    "pth=[]\n",
    "x1=[]\n",
    "y1=[]\n",
    "x2=[]\n",
    "y2=[]\n",
    "c=[]\n",
    "for indice, fila in tqdm(info.iterrows()):\n",
    "    for bbox in literal_eval(fila['bboxes']):\n",
    "        pth.append(rd+fila['id'])\n",
    "        bboxy=xywh_yolo(bbox,1024)\n",
    "        bboxo=yolon_to_xywh(bbox,640)\n",
    "        bboxr=xywh_xiyixfyf(bboxy)\n",
    "        if fila['label'] !='No Finding':\n",
    "            x1.append(int(bboxr[0]))\n",
    "            y1.append(int(bboxr[1]))\n",
    "            x2.append(int(bboxr[2]))\n",
    "            y2.append(int(bboxr[3]))\n",
    "            c.append(fila['label'])\n",
    "        else:\n",
    "            x1.append(0)\n",
    "            y1.append(0)\n",
    "            x2.append(640)\n",
    "            y2.append(640)\n",
    "            c.append(fila['label'])\n",
    "         \n",
    "\n",
    "\n",
    "data['path']=pth\n",
    "data['x1']=x1\n",
    "data['y1']=y1\n",
    "data['x2']=x2\n",
    "data['y2']=y2\n",
    "data['class']=c\n",
    "\n",
    "data=data.sample(frac=1).reset_index(drop=True)\n",
    "data.to_csv('/home/jair/COVID/NIHX14/datasets/retinanet/640/'+mode+'.csv', index=False)"
   ]
  },
  {
   "cell_type": "code",
   "execution_count": null,
   "id": "1e1fb245-fbf6-4869-aa1c-33ffa37e2557",
   "metadata": {},
   "outputs": [],
   "source": []
  }
 ],
 "metadata": {
  "kernelspec": {
   "display_name": "Python 3 (ipykernel)",
   "language": "python",
   "name": "python3"
  },
  "language_info": {
   "codemirror_mode": {
    "name": "ipython",
    "version": 3
   },
   "file_extension": ".py",
   "mimetype": "text/x-python",
   "name": "python",
   "nbconvert_exporter": "python",
   "pygments_lexer": "ipython3",
   "version": "3.11.4"
  }
 },
 "nbformat": 4,
 "nbformat_minor": 5
}
