{
 "cells": [
  {
   "cell_type": "code",
   "execution_count": 24,
   "id": "6478d628-1429-4ad5-9355-d943e10ddc59",
   "metadata": {
    "tags": []
   },
   "outputs": [],
   "source": [
    "import pandas as pd\n",
    "import numpy as np\n",
    "import matplotlib.pyplot as plt\n",
    "from ast import literal_eval\n",
    "import matplotlib.patches as patches\n",
    "from pydicom import dcmread, read_file\n",
    "import skimage as sk\n",
    "import cv2\n",
    "import shutil\n",
    "import os\n",
    "from tqdm import tqdm"
   ]
  },
  {
   "cell_type": "code",
   "execution_count": 10,
   "id": "193e2429-49e0-4934-8c11-4a442ff87bfc",
   "metadata": {
    "tags": []
   },
   "outputs": [],
   "source": [
    "#extraer info de imagenes sin hallazgos para adjuntarlas al dataset\n",
    "todo= pd.read_csv(\"/media/deadwolf/BEC4-9B89/chext14/Todas.csv\")\n",
    "bboxes=pd.read_csv(\"/media/deadwolf/BEC4-9B89/chext14/bboxes.csv\")\n",
    "data=pd.read_csv(\"/media/deadwolf/BEC4-9B89/chext14/Data.csv\")"
   ]
  },
  {
   "cell_type": "code",
   "execution_count": 6,
   "id": "41cb4860-3b6a-41ac-9eae-a3aba0c87a75",
   "metadata": {
    "tags": []
   },
   "outputs": [],
   "source": [
    "NoOpacities=data[data['Finding Labels']=='No Finding']"
   ]
  },
  {
   "cell_type": "code",
   "execution_count": 8,
   "id": "6134da7a-4cee-4610-80f1-bbeb97e71136",
   "metadata": {
    "tags": []
   },
   "outputs": [],
   "source": [
    "paths=NoOpacities['Image Index']\n",
    "labels=NoOpacities['Finding Labels']"
   ]
  },
  {
   "cell_type": "code",
   "execution_count": 9,
   "id": "d7c63817-c190-4346-b1d2-ca51f7d88174",
   "metadata": {
    "tags": []
   },
   "outputs": [],
   "source": [
    "df = pd.DataFrame({'id': paths, 'label': labels})"
   ]
  },
  {
   "cell_type": "code",
   "execution_count": 11,
   "id": "cd8d64b6-5082-4256-975e-8e4ecd71434b",
   "metadata": {
    "tags": []
   },
   "outputs": [],
   "source": [
    "df.to_csv('/media/deadwolf/BEC4-9B89/chext14/NoOp.csv', index=False)"
   ]
  },
  {
   "cell_type": "code",
   "execution_count": 10,
   "id": "41871b12-97c9-48f6-9bd9-34b8bb1ee738",
   "metadata": {
    "tags": []
   },
   "outputs": [
    {
     "data": {
      "text/html": [
       "<div>\n",
       "<style scoped>\n",
       "    .dataframe tbody tr th:only-of-type {\n",
       "        vertical-align: middle;\n",
       "    }\n",
       "\n",
       "    .dataframe tbody tr th {\n",
       "        vertical-align: top;\n",
       "    }\n",
       "\n",
       "    .dataframe thead th {\n",
       "        text-align: right;\n",
       "    }\n",
       "</style>\n",
       "<table border=\"1\" class=\"dataframe\">\n",
       "  <thead>\n",
       "    <tr style=\"text-align: right;\">\n",
       "      <th></th>\n",
       "      <th>id</th>\n",
       "      <th>label</th>\n",
       "      <th>bboxes</th>\n",
       "    </tr>\n",
       "  </thead>\n",
       "  <tbody>\n",
       "    <tr>\n",
       "      <th>0</th>\n",
       "      <td>00016568_026.png</td>\n",
       "      <td>Pneumothorax</td>\n",
       "      <td>[[99.6910052910053,91.0222222222222,254.645502...</td>\n",
       "    </tr>\n",
       "    <tr>\n",
       "      <th>1</th>\n",
       "      <td>00025252_032.png</td>\n",
       "      <td>Pneumothorax</td>\n",
       "      <td>[[756.053333333333,681.851267361111,201.386666...</td>\n",
       "    </tr>\n",
       "    <tr>\n",
       "      <th>2</th>\n",
       "      <td>00001946_029.png</td>\n",
       "      <td>Pneumothorax</td>\n",
       "      <td>[[289.564444444444,396.269045138889,72.8177777...</td>\n",
       "    </tr>\n",
       "    <tr>\n",
       "      <th>3</th>\n",
       "      <td>00017137_016.png</td>\n",
       "      <td>Pneumothorax</td>\n",
       "      <td>[[170.097777777778,147.095711805556,287.857777...</td>\n",
       "    </tr>\n",
       "    <tr>\n",
       "      <th>4</th>\n",
       "      <td>00014822_039.png</td>\n",
       "      <td>Pneumothorax</td>\n",
       "      <td>[[644.551111111111,205.122378472222,194.56,623...</td>\n",
       "    </tr>\n",
       "  </tbody>\n",
       "</table>\n",
       "</div>"
      ],
      "text/plain": [
       "                 id         label  \\\n",
       "0  00016568_026.png  Pneumothorax   \n",
       "1  00025252_032.png  Pneumothorax   \n",
       "2  00001946_029.png  Pneumothorax   \n",
       "3  00017137_016.png  Pneumothorax   \n",
       "4  00014822_039.png  Pneumothorax   \n",
       "\n",
       "                                              bboxes  \n",
       "0  [[99.6910052910053,91.0222222222222,254.645502...  \n",
       "1  [[756.053333333333,681.851267361111,201.386666...  \n",
       "2  [[289.564444444444,396.269045138889,72.8177777...  \n",
       "3  [[170.097777777778,147.095711805556,287.857777...  \n",
       "4  [[644.551111111111,205.122378472222,194.56,623...  "
      ]
     },
     "execution_count": 10,
     "metadata": {},
     "output_type": "execute_result"
    }
   ],
   "source": [
    "info= pd.read_csv(\"bboxes.csv\")\n",
    "info.head()"
   ]
  },
  {
   "cell_type": "code",
   "execution_count": 9,
   "id": "a9549ae1-a7fd-4ff1-a011-44a09c0abaf8",
   "metadata": {
    "tags": []
   },
   "outputs": [
    {
     "data": {
      "text/plain": [
       "label\n",
       "Atelectasis     180\n",
       "Effusion        153\n",
       "Cardiomegaly    146\n",
       "Infiltrate      123\n",
       "No Finding      122\n",
       "Pneumonia       120\n",
       "Pneumothorax     98\n",
       "Mass             85\n",
       "Nodule           79\n",
       "Name: count, dtype: int64"
      ]
     },
     "execution_count": 9,
     "metadata": {},
     "output_type": "execute_result"
    }
   ],
   "source": [
    "#Determinemos la cantidad de elementos por etiqueta para distribuirlos equitativamente en los conjuntos de entrenamiento, prueba y validación\n",
    "# train 0.6  validation 0.3 test 0.1\n",
    "conteo = info['label'].value_counts()\n",
    "conteo"
   ]
  },
  {
   "cell_type": "code",
   "execution_count": 22,
   "id": "5c78d322-9866-42bb-8480-c7fe939b8135",
   "metadata": {
    "tags": []
   },
   "outputs": [],
   "source": [
    "# reformateando imagenes del tipo (1024,1024,n) a (1024,1024)\n",
    "root='/home/jair/COVID/NIHX14/images1024/'\n",
    "for idd in info['id']:\n",
    "    r=root+idd\n",
    "    img=sk.io.imread(r)\n",
    "    if img.shape == (1024,1024):\n",
    "        pass\n",
    "    else:\n",
    "        imgr=img[...,0]\n",
    "        sk.io.imsave('/home/jair/COVID/NIHX14/'+idd, imgr)"
   ]
  },
  {
   "cell_type": "code",
   "execution_count": 32,
   "id": "29f4fb63-a790-4850-bd55-dbbfe5a68965",
   "metadata": {
    "tags": []
   },
   "outputs": [
    {
     "name": "stderr",
     "output_type": "stream",
     "text": [
      "100%|███████████████████████████████████████| 109/109 [00:00<00:00, 1438.15it/s]\n"
     ]
    }
   ],
   "source": [
    "#mover a carpetas de train / test / validation (recordemos que una imagen puede presentar dos clases distintas)\n",
    "rootd='/home/jair/COVID/NIHX14/images/1024/'\n",
    "rooto='/home/jair/COVID/NIHX14/images1024/'\n",
    "mode='test'\n",
    "csv=pd.read_csv(mode+\"_ord.csv\")\n",
    "for idd in tqdm(csv['id']):\n",
    "    if os.path.exists(rootd+mode+'/'+idd):\n",
    "        pass\n",
    "    else:\n",
    "        rd=rootd+mode\n",
    "        ro=rooto+idd\n",
    "        shutil.copy(ro, rd)"
   ]
  },
  {
   "cell_type": "code",
   "execution_count": null,
   "id": "576bfc54-7090-4dee-b3b1-7d884d998719",
   "metadata": {},
   "outputs": [],
   "source": []
  }
 ],
 "metadata": {
  "kernelspec": {
   "display_name": "Python 3 (ipykernel)",
   "language": "python",
   "name": "python3"
  },
  "language_info": {
   "codemirror_mode": {
    "name": "ipython",
    "version": 3
   },
   "file_extension": ".py",
   "mimetype": "text/x-python",
   "name": "python",
   "nbconvert_exporter": "python",
   "pygments_lexer": "ipython3",
   "version": "3.11.4"
  }
 },
 "nbformat": 4,
 "nbformat_minor": 5
}
