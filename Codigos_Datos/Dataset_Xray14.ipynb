{
 "cells": [
  {
   "cell_type": "code",
   "execution_count": 1,
   "id": "6478d628-1429-4ad5-9355-d943e10ddc59",
   "metadata": {
    "tags": []
   },
   "outputs": [],
   "source": [
    "import pandas as pd\n",
    "import numpy as np\n",
    "import matplotlib.pyplot as plt\n",
    "from ast import literal_eval\n",
    "import matplotlib.patches as patches\n",
    "from pydicom import dcmread, read_file\n",
    "import skimage as sk\n",
    "import cv2"
   ]
  },
  {
   "cell_type": "code",
   "execution_count": 10,
   "id": "193e2429-49e0-4934-8c11-4a442ff87bfc",
   "metadata": {
    "tags": []
   },
   "outputs": [],
   "source": [
    "#extraer info de imagenes sin hallazgos para adjuntarlas al dataset\n",
    "todo= pd.read_csv(\"/media/deadwolf/BEC4-9B89/chext14/Todas.csv\")\n",
    "bboxes=pd.read_csv(\"/media/deadwolf/BEC4-9B89/chext14/bboxes.csv\")\n",
    "data=pd.read_csv(\"/media/deadwolf/BEC4-9B89/chext14/Data.csv\")"
   ]
  },
  {
   "cell_type": "code",
   "execution_count": 6,
   "id": "41cb4860-3b6a-41ac-9eae-a3aba0c87a75",
   "metadata": {
    "tags": []
   },
   "outputs": [],
   "source": [
    "NoOpacities=data[data['Finding Labels']=='No Finding']"
   ]
  },
  {
   "cell_type": "code",
   "execution_count": 8,
   "id": "6134da7a-4cee-4610-80f1-bbeb97e71136",
   "metadata": {
    "tags": []
   },
   "outputs": [],
   "source": [
    "paths=NoOpacities['Image Index']\n",
    "labels=NoOpacities['Finding Labels']"
   ]
  },
  {
   "cell_type": "code",
   "execution_count": 9,
   "id": "d7c63817-c190-4346-b1d2-ca51f7d88174",
   "metadata": {
    "tags": []
   },
   "outputs": [],
   "source": [
    "df = pd.DataFrame({'id': paths, 'label': labels})"
   ]
  },
  {
   "cell_type": "code",
   "execution_count": 11,
   "id": "cd8d64b6-5082-4256-975e-8e4ecd71434b",
   "metadata": {
    "tags": []
   },
   "outputs": [],
   "source": [
    "df.to_csv('/media/deadwolf/BEC4-9B89/chext14/NoOp.csv', index=False)"
   ]
  }
 ],
 "metadata": {
  "kernelspec": {
   "display_name": "Python 3 (ipykernel)",
   "language": "python",
   "name": "python3"
  },
  "language_info": {
   "codemirror_mode": {
    "name": "ipython",
    "version": 3
   },
   "file_extension": ".py",
   "mimetype": "text/x-python",
   "name": "python",
   "nbconvert_exporter": "python",
   "pygments_lexer": "ipython3",
   "version": "3.11.4"
  }
 },
 "nbformat": 4,
 "nbformat_minor": 5
}
