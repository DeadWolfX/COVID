{
 "cells": [
  {
   "cell_type": "code",
   "execution_count": 37,
   "id": "8ffa04ea-da5c-4eff-bdb7-ec95b3dc709a",
   "metadata": {},
   "outputs": [],
   "source": [
    "import pandas as pd\n",
    "import numpy as np\n",
    "from pydicom import dcmread, read_file\n",
    "from ast import literal_eval\n",
    "import skimage as sk\n",
    "import os\n",
    "from tqdm import tqdm"
   ]
  },
  {
   "cell_type": "code",
   "execution_count": null,
   "id": "b2bd8fd2-95a0-4a82-ba68-15ec86165cda",
   "metadata": {},
   "outputs": [],
   "source": [
    "#crear lista de rutas para imagenes\n",
    "rutas=open ('rutas.txt','w')\n",
    "for dir_nom, _, arch_noms in os.walk('siim-covid19-detection/train'):\n",
    "    for arch_nom in arch_noms:\n",
    "        rutas.write(os.path.join(dir_nom, arch_nom)+'\\n')\n",
    "\n",
    "rutas.close() "
   ]
  },
  {
   "cell_type": "code",
   "execution_count": null,
   "id": "89d2105f-dd29-4c4b-9266-bb1460695a13",
   "metadata": {},
   "outputs": [],
   "source": [
    "#Guardar info de interes sobre dataset\n",
    "with open('rutas.txt', 'r') as archivo:\n",
    "    # Itera sobre cada línea en el archivo\n",
    "    #tamaño imagen\n",
    "    tam=[]\n",
    "    #modo monocrome\n",
    "    mode=[]\n",
    "    for ruta in tqdm(archivo):\n",
    "        # Procesa la línea\n",
    "        dicom=dcmread(ruta.replace('\\n',''))\n",
    "        mod=dicom.PhotometricInterpretation\n",
    "        img=dicom.pixel_array\n",
    "        tam.append(img.shape)\n",
    "        mode.append(mod)\n",
    "        \n",
    "#guardar tamaños en csv\n",
    "df = pd.DataFrame(tam, columns=['width', 'height'])\n",
    "#Guardar DataFrame como CSV\n",
    "df.to_csv('tams.csv', index=False)\n",
    "\n",
    "#guardar modo en csv\n",
    "df = pd.DataFrame(mod, columns=['mode'])\n",
    "#Guardar DataFrame como CSV\n",
    "df.to_csv('mod.csv', index=False)"
   ]
  },
  {
   "cell_type": "code",
   "execution_count": null,
   "id": "3aa4d4ec-f5c7-4673-a26a-d131e1416116",
   "metadata": {},
   "outputs": [],
   "source": [
    "#pasa a monocromo 2 y a png \n",
    "def monochromo_png(ruta):\n",
    "  dicom=dcmread(ruta)\n",
    "  img=dicom.pixel_array\n",
    "  img=(np.maximum(img,0)/img.max())*255.0 #normaliza [0,255] si no salen png totalmente negros\n",
    "\n",
    "  if dicom.PhotometricInterpretation=='MONOCHROME1':\n",
    "    #pasa a monocromo2\n",
    "    img=np.amax(img)-img\n",
    "\n",
    "  #guarda como png\n",
    "  cv2.imwrite(ruta.replace('.dcm','.png'),img)   "
   ]
  },
  {
   "cell_type": "code",
   "execution_count": 38,
   "id": "a3c4aec9-08a0-4559-8504-ca7fdcc1a34e",
   "metadata": {
    "tags": []
   },
   "outputs": [
    {
     "data": {
      "text/html": [
       "<div>\n",
       "<style scoped>\n",
       "    .dataframe tbody tr th:only-of-type {\n",
       "        vertical-align: middle;\n",
       "    }\n",
       "\n",
       "    .dataframe tbody tr th {\n",
       "        vertical-align: top;\n",
       "    }\n",
       "\n",
       "    .dataframe thead th {\n",
       "        text-align: right;\n",
       "    }\n",
       "</style>\n",
       "<table border=\"1\" class=\"dataframe\">\n",
       "  <thead>\n",
       "    <tr style=\"text-align: right;\">\n",
       "      <th></th>\n",
       "      <th>rutas</th>\n",
       "      <th>width</th>\n",
       "      <th>height</th>\n",
       "      <th>mode</th>\n",
       "      <th>label</th>\n",
       "    </tr>\n",
       "  </thead>\n",
       "  <tbody>\n",
       "    <tr>\n",
       "      <th>0</th>\n",
       "      <td>cd5dd5e6f3f5/b2ee36aa2df5/d8ba599611e5.dcm</td>\n",
       "      <td>2336</td>\n",
       "      <td>2836</td>\n",
       "      <td>MONOCHROME1</td>\n",
       "      <td>Negative for Pneumonia</td>\n",
       "    </tr>\n",
       "    <tr>\n",
       "      <th>1</th>\n",
       "      <td>49358afcfb80/60a49211f5df/29b23a11d1e4.dcm</td>\n",
       "      <td>3488</td>\n",
       "      <td>4256</td>\n",
       "      <td>MONOCHROME2</td>\n",
       "      <td>Typical Appearance</td>\n",
       "    </tr>\n",
       "    <tr>\n",
       "      <th>2</th>\n",
       "      <td>e4b50e7402c3/59f646771321/8174f49500a5.dcm</td>\n",
       "      <td>2330</td>\n",
       "      <td>2846</td>\n",
       "      <td>MONOCHROME2</td>\n",
       "      <td>Negative for Pneumonia</td>\n",
       "    </tr>\n",
       "    <tr>\n",
       "      <th>3</th>\n",
       "      <td>e4b50e7402c3/d289a11b2e85/d54f6204b044.dcm</td>\n",
       "      <td>2330</td>\n",
       "      <td>2846</td>\n",
       "      <td>MONOCHROME2</td>\n",
       "      <td>Negative for Pneumonia</td>\n",
       "    </tr>\n",
       "    <tr>\n",
       "      <th>4</th>\n",
       "      <td>92aad2d01be8/60fe0c912619/d51cadde8626.dcm</td>\n",
       "      <td>3488</td>\n",
       "      <td>4256</td>\n",
       "      <td>MONOCHROME2</td>\n",
       "      <td>Typical Appearance</td>\n",
       "    </tr>\n",
       "  </tbody>\n",
       "</table>\n",
       "</div>"
      ],
      "text/plain": [
       "                                        rutas  width  height         mode  \\\n",
       "0  cd5dd5e6f3f5/b2ee36aa2df5/d8ba599611e5.dcm   2336    2836  MONOCHROME1   \n",
       "1  49358afcfb80/60a49211f5df/29b23a11d1e4.dcm   3488    4256  MONOCHROME2   \n",
       "2  e4b50e7402c3/59f646771321/8174f49500a5.dcm   2330    2846  MONOCHROME2   \n",
       "3  e4b50e7402c3/d289a11b2e85/d54f6204b044.dcm   2330    2846  MONOCHROME2   \n",
       "4  92aad2d01be8/60fe0c912619/d51cadde8626.dcm   3488    4256  MONOCHROME2   \n",
       "\n",
       "                    label  \n",
       "0  Negative for Pneumonia  \n",
       "1      Typical Appearance  \n",
       "2  Negative for Pneumonia  \n",
       "3  Negative for Pneumonia  \n",
       "4      Typical Appearance  "
      ]
     },
     "execution_count": 38,
     "metadata": {},
     "output_type": "execute_result"
    }
   ],
   "source": [
    "info=pd.read_csv(\"SIIM/info.csv\")\n",
    "info.head()"
   ]
  },
  {
   "cell_type": "code",
   "execution_count": 39,
   "id": "9df8f11d-63d6-4cc3-916c-4e7556728899",
   "metadata": {
    "tags": []
   },
   "outputs": [
    {
     "data": {
      "text/html": [
       "<div>\n",
       "<style scoped>\n",
       "    .dataframe tbody tr th:only-of-type {\n",
       "        vertical-align: middle;\n",
       "    }\n",
       "\n",
       "    .dataframe tbody tr th {\n",
       "        vertical-align: top;\n",
       "    }\n",
       "\n",
       "    .dataframe thead th {\n",
       "        text-align: right;\n",
       "    }\n",
       "</style>\n",
       "<table border=\"1\" class=\"dataframe\">\n",
       "  <thead>\n",
       "    <tr style=\"text-align: right;\">\n",
       "      <th></th>\n",
       "      <th>id_study</th>\n",
       "      <th>label</th>\n",
       "    </tr>\n",
       "  </thead>\n",
       "  <tbody>\n",
       "    <tr>\n",
       "      <th>0</th>\n",
       "      <td>00086460a852</td>\n",
       "      <td>Typical Appearance</td>\n",
       "    </tr>\n",
       "    <tr>\n",
       "      <th>1</th>\n",
       "      <td>000c9c05fd14</td>\n",
       "      <td>Atypical Appearance</td>\n",
       "    </tr>\n",
       "    <tr>\n",
       "      <th>2</th>\n",
       "      <td>00292f8c37bd</td>\n",
       "      <td>Negative for Pneumonia</td>\n",
       "    </tr>\n",
       "    <tr>\n",
       "      <th>3</th>\n",
       "      <td>005057b3f880</td>\n",
       "      <td>Negative for Pneumonia</td>\n",
       "    </tr>\n",
       "    <tr>\n",
       "      <th>4</th>\n",
       "      <td>0051d9b12e72</td>\n",
       "      <td>Atypical Appearance</td>\n",
       "    </tr>\n",
       "  </tbody>\n",
       "</table>\n",
       "</div>"
      ],
      "text/plain": [
       "       id_study                   label\n",
       "0  00086460a852      Typical Appearance\n",
       "1  000c9c05fd14     Atypical Appearance\n",
       "2  00292f8c37bd  Negative for Pneumonia\n",
       "3  005057b3f880  Negative for Pneumonia\n",
       "4  0051d9b12e72     Atypical Appearance"
      ]
     },
     "execution_count": 39,
     "metadata": {},
     "output_type": "execute_result"
    }
   ],
   "source": [
    "info_study=pd.read_csv(\"SIIM/train_study_level.csv\")\n",
    "info_study.head()"
   ]
  },
  {
   "cell_type": "code",
   "execution_count": 40,
   "id": "22f0bd77-cccd-491f-ac38-82f4e1f17d4e",
   "metadata": {
    "tags": []
   },
   "outputs": [
    {
     "data": {
      "text/html": [
       "<div>\n",
       "<style scoped>\n",
       "    .dataframe tbody tr th:only-of-type {\n",
       "        vertical-align: middle;\n",
       "    }\n",
       "\n",
       "    .dataframe tbody tr th {\n",
       "        vertical-align: top;\n",
       "    }\n",
       "\n",
       "    .dataframe thead th {\n",
       "        text-align: right;\n",
       "    }\n",
       "</style>\n",
       "<table border=\"1\" class=\"dataframe\">\n",
       "  <thead>\n",
       "    <tr style=\"text-align: right;\">\n",
       "      <th></th>\n",
       "      <th>id</th>\n",
       "      <th>boxes</th>\n",
       "      <th>label</th>\n",
       "      <th>StudyInstanceUID</th>\n",
       "    </tr>\n",
       "  </thead>\n",
       "  <tbody>\n",
       "    <tr>\n",
       "      <th>0</th>\n",
       "      <td>000a312787f2</td>\n",
       "      <td>[[ 789.28836,  582.43035,  1026.65662,  1917.3...</td>\n",
       "      <td>opacity 1 789.28836 582.43035 1815.94498 2499....</td>\n",
       "      <td>5776db0cec75</td>\n",
       "    </tr>\n",
       "    <tr>\n",
       "      <th>1</th>\n",
       "      <td>000c3a3f293f</td>\n",
       "      <td>[[]]</td>\n",
       "      <td>[[]]</td>\n",
       "      <td>ff0879eb20ed</td>\n",
       "    </tr>\n",
       "    <tr>\n",
       "      <th>2</th>\n",
       "      <td>0012ff7358bc</td>\n",
       "      <td>[[ 677.42216,  197.97662,  867.79767,  999.782...</td>\n",
       "      <td>opacity 1 677.42216 197.97662 1545.21983 1197....</td>\n",
       "      <td>9d514ce429a7</td>\n",
       "    </tr>\n",
       "    <tr>\n",
       "      <th>3</th>\n",
       "      <td>001398f4ff4f</td>\n",
       "      <td>[[ 2729,  2181.33331,  948.00012,  604]]</td>\n",
       "      <td>opacity 1 2729 2181.33331 3677.00012 2785.33331</td>\n",
       "      <td>28dddc8559b2</td>\n",
       "    </tr>\n",
       "    <tr>\n",
       "      <th>4</th>\n",
       "      <td>001bd15d1891</td>\n",
       "      <td>[[ 623.23328,  1050,  714,  1106], [ 2578.5666...</td>\n",
       "      <td>opacity 1 623.23328 1050 1337.23328 2156 opaci...</td>\n",
       "      <td>dfd9fdd85a3e</td>\n",
       "    </tr>\n",
       "  </tbody>\n",
       "</table>\n",
       "</div>"
      ],
      "text/plain": [
       "             id                                              boxes  \\\n",
       "0  000a312787f2  [[ 789.28836,  582.43035,  1026.65662,  1917.3...   \n",
       "1  000c3a3f293f                                               [[]]   \n",
       "2  0012ff7358bc  [[ 677.42216,  197.97662,  867.79767,  999.782...   \n",
       "3  001398f4ff4f           [[ 2729,  2181.33331,  948.00012,  604]]   \n",
       "4  001bd15d1891  [[ 623.23328,  1050,  714,  1106], [ 2578.5666...   \n",
       "\n",
       "                                               label StudyInstanceUID  \n",
       "0  opacity 1 789.28836 582.43035 1815.94498 2499....     5776db0cec75  \n",
       "1                                               [[]]     ff0879eb20ed  \n",
       "2  opacity 1 677.42216 197.97662 1545.21983 1197....     9d514ce429a7  \n",
       "3    opacity 1 2729 2181.33331 3677.00012 2785.33331     28dddc8559b2  \n",
       "4  opacity 1 623.23328 1050 1337.23328 2156 opaci...     dfd9fdd85a3e  "
      ]
     },
     "execution_count": 40,
     "metadata": {},
     "output_type": "execute_result"
    }
   ],
   "source": [
    "info_img=pd.read_csv(\"SIIM/train_image_level.csv\")\n",
    "info_img.head()"
   ]
  },
  {
   "cell_type": "code",
   "execution_count": 41,
   "id": "73a900b3-ad66-4ab1-bc71-4bf3470b7427",
   "metadata": {
    "tags": []
   },
   "outputs": [],
   "source": [
    "Id=list(info_study['id_study'])\n",
    "label=list(info_study['label'])"
   ]
  },
  {
   "cell_type": "code",
   "execution_count": 23,
   "id": "cb2528f5-1e62-46db-b6c2-8d71236e58d9",
   "metadata": {
    "tags": []
   },
   "outputs": [
    {
     "name": "stderr",
     "output_type": "stream",
     "text": [
      "100%|█████████████████████████████████████| 6334/6334 [00:01<00:00, 5917.16it/s]\n"
     ]
    }
   ],
   "source": [
    "#Obten clase de cada imagen para agregar a la información del data set\n",
    "clases=[]\n",
    "for ruta in tqdm(info['rutas']):\n",
    "    id_study=ruta.split('/')[0]\n",
    "    if id_study in Id:\n",
    "        indice = Id.index(id_study)\n",
    "        clase=label[indice]\n",
    "        clases.append(clase)\n",
    "        \n",
    "info['label']=clases\n",
    "info.to_csv(\"SIIM/info.csv\",index=False)"
   ]
  },
  {
   "cell_type": "code",
   "execution_count": 43,
   "id": "3fd4ea66-279a-40e7-baf8-39a1c7772eae",
   "metadata": {
    "tags": []
   },
   "outputs": [],
   "source": [
    "Id=list(info_img['id'])\n",
    "bboxes=list(info_img['boxes'])"
   ]
  },
  {
   "cell_type": "code",
   "execution_count": null,
   "id": "749d7964-f28f-45c5-8772-eb6b17cf08f2",
   "metadata": {
    "tags": []
   },
   "outputs": [
    {
     "name": "stderr",
     "output_type": "stream",
     "text": [
      "100%|█████████████████████████████████████| 6334/6334 [00:01<00:00, 5432.78it/s]\n"
     ]
    }
   ],
   "source": [
    "#agregando bboxes a la informacion del conjunto de datos\n",
    "bbs=[]\n",
    "for ruta in tqdm(info['rutas']):\n",
    "    id_img=ruta.split('/')[-1].replace('.dcm','')\n",
    "    if id_img in Id:\n",
    "        indice = Id.index(id_img)\n",
    "        bb=bboxes[indice]\n",
    "        bbs.append(bb)\n",
    "info['boxes']=bbs\n",
    "info.to_csv(\"SIIM/info.csv\",index=False)        "
   ]
  },
  {
   "cell_type": "code",
   "execution_count": null,
   "id": "58899f9e-5192-48a1-88cb-31a2990c1cdc",
   "metadata": {},
   "outputs": [],
   "source": []
  }
 ],
 "metadata": {
  "kernelspec": {
   "display_name": "Python 3 (ipykernel)",
   "language": "python",
   "name": "python3"
  },
  "language_info": {
   "codemirror_mode": {
    "name": "ipython",
    "version": 3
   },
   "file_extension": ".py",
   "mimetype": "text/x-python",
   "name": "python",
   "nbconvert_exporter": "python",
   "pygments_lexer": "ipython3",
   "version": "3.11.4"
  }
 },
 "nbformat": 4,
 "nbformat_minor": 5
}
