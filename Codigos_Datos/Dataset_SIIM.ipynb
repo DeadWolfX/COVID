{
 "cells": [
  {
   "cell_type": "code",
   "execution_count": 64,
   "id": "8ffa04ea-da5c-4eff-bdb7-ec95b3dc709a",
   "metadata": {
    "tags": []
   },
   "outputs": [],
   "source": [
    "import pandas as pd\n",
    "import numpy as np\n",
    "from pydicom import dcmread, read_file\n",
    "from ast import literal_eval\n",
    "import skimage as sk\n",
    "import os\n",
    "from tqdm import tqdm\n",
    "import matplotlib.pyplot as plt\n",
    "import shutil"
   ]
  },
  {
   "cell_type": "code",
   "execution_count": 48,
   "id": "b2bd8fd2-95a0-4a82-ba68-15ec86165cda",
   "metadata": {
    "tags": []
   },
   "outputs": [],
   "source": [
    "#crear lista de rutas para imagenes\n",
    "rutas=open ('rutas.txt','w')\n",
    "for dir_nom, _, arch_noms in os.walk('/home/jair/COVID/siimcovid/imagesdcm'):\n",
    "    for arch_nom in arch_noms:\n",
    "        rutas.write(os.path.join(dir_nom, arch_nom)+'\\n')\n",
    "\n",
    "rutas.close() "
   ]
  },
  {
   "cell_type": "code",
   "execution_count": null,
   "id": "89d2105f-dd29-4c4b-9266-bb1460695a13",
   "metadata": {},
   "outputs": [],
   "source": [
    "#Guardar info de interes sobre dataset\n",
    "with open('rutas.txt', 'r') as archivo:\n",
    "    # Itera sobre cada línea en el archivo\n",
    "    #tamaño imagen\n",
    "    tam=[]\n",
    "    #modo monocrome\n",
    "    mode=[]\n",
    "    for ruta in tqdm(archivo):\n",
    "        # Procesa la línea\n",
    "        dicom=dcmread(ruta.replace('\\n',''))\n",
    "        mod=dicom.PhotometricInterpretation\n",
    "        img=dicom.pixel_array\n",
    "        tam.append(img.shape)\n",
    "        mode.append(mod)\n",
    "        \n",
    "#guardar tamaños en csv\n",
    "df = pd.DataFrame(tam, columns=['width', 'height'])\n",
    "#Guardar DataFrame como CSV\n",
    "df.to_csv('tams.csv', index=False)\n",
    "\n",
    "#guardar modo en csv\n",
    "df = pd.DataFrame(mod, columns=['mode'])\n",
    "#Guardar DataFrame como CSV\n",
    "df.to_csv('mod.csv', index=False)"
   ]
  },
  {
   "cell_type": "code",
   "execution_count": 38,
   "id": "a3c4aec9-08a0-4559-8504-ca7fdcc1a34e",
   "metadata": {
    "tags": []
   },
   "outputs": [
    {
     "data": {
      "text/html": [
       "<div>\n",
       "<style scoped>\n",
       "    .dataframe tbody tr th:only-of-type {\n",
       "        vertical-align: middle;\n",
       "    }\n",
       "\n",
       "    .dataframe tbody tr th {\n",
       "        vertical-align: top;\n",
       "    }\n",
       "\n",
       "    .dataframe thead th {\n",
       "        text-align: right;\n",
       "    }\n",
       "</style>\n",
       "<table border=\"1\" class=\"dataframe\">\n",
       "  <thead>\n",
       "    <tr style=\"text-align: right;\">\n",
       "      <th></th>\n",
       "      <th>rutas</th>\n",
       "      <th>width</th>\n",
       "      <th>height</th>\n",
       "      <th>mode</th>\n",
       "      <th>label</th>\n",
       "    </tr>\n",
       "  </thead>\n",
       "  <tbody>\n",
       "    <tr>\n",
       "      <th>0</th>\n",
       "      <td>cd5dd5e6f3f5/b2ee36aa2df5/d8ba599611e5.dcm</td>\n",
       "      <td>2336</td>\n",
       "      <td>2836</td>\n",
       "      <td>MONOCHROME1</td>\n",
       "      <td>Negative for Pneumonia</td>\n",
       "    </tr>\n",
       "    <tr>\n",
       "      <th>1</th>\n",
       "      <td>49358afcfb80/60a49211f5df/29b23a11d1e4.dcm</td>\n",
       "      <td>3488</td>\n",
       "      <td>4256</td>\n",
       "      <td>MONOCHROME2</td>\n",
       "      <td>Typical Appearance</td>\n",
       "    </tr>\n",
       "    <tr>\n",
       "      <th>2</th>\n",
       "      <td>e4b50e7402c3/59f646771321/8174f49500a5.dcm</td>\n",
       "      <td>2330</td>\n",
       "      <td>2846</td>\n",
       "      <td>MONOCHROME2</td>\n",
       "      <td>Negative for Pneumonia</td>\n",
       "    </tr>\n",
       "    <tr>\n",
       "      <th>3</th>\n",
       "      <td>e4b50e7402c3/d289a11b2e85/d54f6204b044.dcm</td>\n",
       "      <td>2330</td>\n",
       "      <td>2846</td>\n",
       "      <td>MONOCHROME2</td>\n",
       "      <td>Negative for Pneumonia</td>\n",
       "    </tr>\n",
       "    <tr>\n",
       "      <th>4</th>\n",
       "      <td>92aad2d01be8/60fe0c912619/d51cadde8626.dcm</td>\n",
       "      <td>3488</td>\n",
       "      <td>4256</td>\n",
       "      <td>MONOCHROME2</td>\n",
       "      <td>Typical Appearance</td>\n",
       "    </tr>\n",
       "  </tbody>\n",
       "</table>\n",
       "</div>"
      ],
      "text/plain": [
       "                                        rutas  width  height         mode  \\\n",
       "0  cd5dd5e6f3f5/b2ee36aa2df5/d8ba599611e5.dcm   2336    2836  MONOCHROME1   \n",
       "1  49358afcfb80/60a49211f5df/29b23a11d1e4.dcm   3488    4256  MONOCHROME2   \n",
       "2  e4b50e7402c3/59f646771321/8174f49500a5.dcm   2330    2846  MONOCHROME2   \n",
       "3  e4b50e7402c3/d289a11b2e85/d54f6204b044.dcm   2330    2846  MONOCHROME2   \n",
       "4  92aad2d01be8/60fe0c912619/d51cadde8626.dcm   3488    4256  MONOCHROME2   \n",
       "\n",
       "                    label  \n",
       "0  Negative for Pneumonia  \n",
       "1      Typical Appearance  \n",
       "2  Negative for Pneumonia  \n",
       "3  Negative for Pneumonia  \n",
       "4      Typical Appearance  "
      ]
     },
     "execution_count": 38,
     "metadata": {},
     "output_type": "execute_result"
    }
   ],
   "source": [
    "info=pd.read_csv(\"SIIM/info.csv\")\n",
    "info.head()"
   ]
  },
  {
   "cell_type": "code",
   "execution_count": 39,
   "id": "9df8f11d-63d6-4cc3-916c-4e7556728899",
   "metadata": {
    "tags": []
   },
   "outputs": [
    {
     "data": {
      "text/html": [
       "<div>\n",
       "<style scoped>\n",
       "    .dataframe tbody tr th:only-of-type {\n",
       "        vertical-align: middle;\n",
       "    }\n",
       "\n",
       "    .dataframe tbody tr th {\n",
       "        vertical-align: top;\n",
       "    }\n",
       "\n",
       "    .dataframe thead th {\n",
       "        text-align: right;\n",
       "    }\n",
       "</style>\n",
       "<table border=\"1\" class=\"dataframe\">\n",
       "  <thead>\n",
       "    <tr style=\"text-align: right;\">\n",
       "      <th></th>\n",
       "      <th>id_study</th>\n",
       "      <th>label</th>\n",
       "    </tr>\n",
       "  </thead>\n",
       "  <tbody>\n",
       "    <tr>\n",
       "      <th>0</th>\n",
       "      <td>00086460a852</td>\n",
       "      <td>Typical Appearance</td>\n",
       "    </tr>\n",
       "    <tr>\n",
       "      <th>1</th>\n",
       "      <td>000c9c05fd14</td>\n",
       "      <td>Atypical Appearance</td>\n",
       "    </tr>\n",
       "    <tr>\n",
       "      <th>2</th>\n",
       "      <td>00292f8c37bd</td>\n",
       "      <td>Negative for Pneumonia</td>\n",
       "    </tr>\n",
       "    <tr>\n",
       "      <th>3</th>\n",
       "      <td>005057b3f880</td>\n",
       "      <td>Negative for Pneumonia</td>\n",
       "    </tr>\n",
       "    <tr>\n",
       "      <th>4</th>\n",
       "      <td>0051d9b12e72</td>\n",
       "      <td>Atypical Appearance</td>\n",
       "    </tr>\n",
       "  </tbody>\n",
       "</table>\n",
       "</div>"
      ],
      "text/plain": [
       "       id_study                   label\n",
       "0  00086460a852      Typical Appearance\n",
       "1  000c9c05fd14     Atypical Appearance\n",
       "2  00292f8c37bd  Negative for Pneumonia\n",
       "3  005057b3f880  Negative for Pneumonia\n",
       "4  0051d9b12e72     Atypical Appearance"
      ]
     },
     "execution_count": 39,
     "metadata": {},
     "output_type": "execute_result"
    }
   ],
   "source": [
    "info_study=pd.read_csv(\"SIIM/train_study_level.csv\")\n",
    "info_study.head()"
   ]
  },
  {
   "cell_type": "code",
   "execution_count": 40,
   "id": "22f0bd77-cccd-491f-ac38-82f4e1f17d4e",
   "metadata": {
    "tags": []
   },
   "outputs": [
    {
     "data": {
      "text/html": [
       "<div>\n",
       "<style scoped>\n",
       "    .dataframe tbody tr th:only-of-type {\n",
       "        vertical-align: middle;\n",
       "    }\n",
       "\n",
       "    .dataframe tbody tr th {\n",
       "        vertical-align: top;\n",
       "    }\n",
       "\n",
       "    .dataframe thead th {\n",
       "        text-align: right;\n",
       "    }\n",
       "</style>\n",
       "<table border=\"1\" class=\"dataframe\">\n",
       "  <thead>\n",
       "    <tr style=\"text-align: right;\">\n",
       "      <th></th>\n",
       "      <th>id</th>\n",
       "      <th>boxes</th>\n",
       "      <th>label</th>\n",
       "      <th>StudyInstanceUID</th>\n",
       "    </tr>\n",
       "  </thead>\n",
       "  <tbody>\n",
       "    <tr>\n",
       "      <th>0</th>\n",
       "      <td>000a312787f2</td>\n",
       "      <td>[[ 789.28836,  582.43035,  1026.65662,  1917.3...</td>\n",
       "      <td>opacity 1 789.28836 582.43035 1815.94498 2499....</td>\n",
       "      <td>5776db0cec75</td>\n",
       "    </tr>\n",
       "    <tr>\n",
       "      <th>1</th>\n",
       "      <td>000c3a3f293f</td>\n",
       "      <td>[[]]</td>\n",
       "      <td>[[]]</td>\n",
       "      <td>ff0879eb20ed</td>\n",
       "    </tr>\n",
       "    <tr>\n",
       "      <th>2</th>\n",
       "      <td>0012ff7358bc</td>\n",
       "      <td>[[ 677.42216,  197.97662,  867.79767,  999.782...</td>\n",
       "      <td>opacity 1 677.42216 197.97662 1545.21983 1197....</td>\n",
       "      <td>9d514ce429a7</td>\n",
       "    </tr>\n",
       "    <tr>\n",
       "      <th>3</th>\n",
       "      <td>001398f4ff4f</td>\n",
       "      <td>[[ 2729,  2181.33331,  948.00012,  604]]</td>\n",
       "      <td>opacity 1 2729 2181.33331 3677.00012 2785.33331</td>\n",
       "      <td>28dddc8559b2</td>\n",
       "    </tr>\n",
       "    <tr>\n",
       "      <th>4</th>\n",
       "      <td>001bd15d1891</td>\n",
       "      <td>[[ 623.23328,  1050,  714,  1106], [ 2578.5666...</td>\n",
       "      <td>opacity 1 623.23328 1050 1337.23328 2156 opaci...</td>\n",
       "      <td>dfd9fdd85a3e</td>\n",
       "    </tr>\n",
       "  </tbody>\n",
       "</table>\n",
       "</div>"
      ],
      "text/plain": [
       "             id                                              boxes  \\\n",
       "0  000a312787f2  [[ 789.28836,  582.43035,  1026.65662,  1917.3...   \n",
       "1  000c3a3f293f                                               [[]]   \n",
       "2  0012ff7358bc  [[ 677.42216,  197.97662,  867.79767,  999.782...   \n",
       "3  001398f4ff4f           [[ 2729,  2181.33331,  948.00012,  604]]   \n",
       "4  001bd15d1891  [[ 623.23328,  1050,  714,  1106], [ 2578.5666...   \n",
       "\n",
       "                                               label StudyInstanceUID  \n",
       "0  opacity 1 789.28836 582.43035 1815.94498 2499....     5776db0cec75  \n",
       "1                                               [[]]     ff0879eb20ed  \n",
       "2  opacity 1 677.42216 197.97662 1545.21983 1197....     9d514ce429a7  \n",
       "3    opacity 1 2729 2181.33331 3677.00012 2785.33331     28dddc8559b2  \n",
       "4  opacity 1 623.23328 1050 1337.23328 2156 opaci...     dfd9fdd85a3e  "
      ]
     },
     "execution_count": 40,
     "metadata": {},
     "output_type": "execute_result"
    }
   ],
   "source": [
    "info_img=pd.read_csv(\"SIIM/train_image_level.csv\")\n",
    "info_img.head()"
   ]
  },
  {
   "cell_type": "code",
   "execution_count": 41,
   "id": "73a900b3-ad66-4ab1-bc71-4bf3470b7427",
   "metadata": {
    "tags": []
   },
   "outputs": [],
   "source": [
    "Id=list(info_study['id_study'])\n",
    "label=list(info_study['label'])"
   ]
  },
  {
   "cell_type": "code",
   "execution_count": 23,
   "id": "cb2528f5-1e62-46db-b6c2-8d71236e58d9",
   "metadata": {
    "tags": []
   },
   "outputs": [
    {
     "name": "stderr",
     "output_type": "stream",
     "text": [
      "100%|█████████████████████████████████████| 6334/6334 [00:01<00:00, 5917.16it/s]\n"
     ]
    }
   ],
   "source": [
    "#Obten clase de cada imagen para agregar a la información del data set\n",
    "clases=[]\n",
    "for ruta in tqdm(info['rutas']):\n",
    "    id_study=ruta.split('/')[0]\n",
    "    if id_study in Id:\n",
    "        indice = Id.index(id_study)\n",
    "        clase=label[indice]\n",
    "        clases.append(clase)\n",
    "        \n",
    "info['label']=clases\n",
    "info.to_csv(\"SIIM/info.csv\",index=False)"
   ]
  },
  {
   "cell_type": "code",
   "execution_count": 43,
   "id": "3fd4ea66-279a-40e7-baf8-39a1c7772eae",
   "metadata": {
    "tags": []
   },
   "outputs": [],
   "source": [
    "Id=list(info_img['id'])\n",
    "bboxes=list(info_img['boxes'])"
   ]
  },
  {
   "cell_type": "code",
   "execution_count": null,
   "id": "749d7964-f28f-45c5-8772-eb6b17cf08f2",
   "metadata": {
    "tags": []
   },
   "outputs": [
    {
     "name": "stderr",
     "output_type": "stream",
     "text": [
      "100%|█████████████████████████████████████| 6334/6334 [00:01<00:00, 5432.78it/s]\n"
     ]
    }
   ],
   "source": [
    "#agregando bboxes a la informacion del conjunto de datos\n",
    "bbs=[]\n",
    "for ruta in tqdm(info['rutas']):\n",
    "    id_img=ruta.split('/')[-1].replace('.dcm','')\n",
    "    if id_img in Id:\n",
    "        indice = Id.index(id_img)\n",
    "        bb=bboxes[indice]\n",
    "        bbs.append(bb)\n",
    "info['boxes']=bbs\n",
    "info.to_csv(\"SIIM/info.csv\",index=False)        "
   ]
  },
  {
   "cell_type": "code",
   "execution_count": 60,
   "id": "58899f9e-5192-48a1-88cb-31a2990c1cdc",
   "metadata": {
    "tags": []
   },
   "outputs": [
    {
     "data": {
      "text/html": [
       "<div>\n",
       "<style scoped>\n",
       "    .dataframe tbody tr th:only-of-type {\n",
       "        vertical-align: middle;\n",
       "    }\n",
       "\n",
       "    .dataframe tbody tr th {\n",
       "        vertical-align: top;\n",
       "    }\n",
       "\n",
       "    .dataframe thead th {\n",
       "        text-align: right;\n",
       "    }\n",
       "</style>\n",
       "<table border=\"1\" class=\"dataframe\">\n",
       "  <thead>\n",
       "    <tr style=\"text-align: right;\">\n",
       "      <th></th>\n",
       "      <th>rutas</th>\n",
       "      <th>width</th>\n",
       "      <th>height</th>\n",
       "      <th>mode</th>\n",
       "      <th>label</th>\n",
       "      <th>boxes</th>\n",
       "    </tr>\n",
       "  </thead>\n",
       "  <tbody>\n",
       "    <tr>\n",
       "      <th>0</th>\n",
       "      <td>478ecae73c0f/ab1c8393562f/a6f2e4c387f0.dcm</td>\n",
       "      <td>2320</td>\n",
       "      <td>2832</td>\n",
       "      <td>MONOCHROME2</td>\n",
       "      <td>Atypical Appearance</td>\n",
       "      <td>[[ 595.53935,  414.11282,  608.29559,  330.458...</td>\n",
       "    </tr>\n",
       "    <tr>\n",
       "      <th>1</th>\n",
       "      <td>81711d215ec7/786be0021629/293dfd740406.dcm</td>\n",
       "      <td>2320</td>\n",
       "      <td>2832</td>\n",
       "      <td>MONOCHROME2</td>\n",
       "      <td>Atypical Appearance</td>\n",
       "      <td>[[ 719.19628,  1348.36085,  468.92651,  648.06...</td>\n",
       "    </tr>\n",
       "    <tr>\n",
       "      <th>2</th>\n",
       "      <td>55f9624fef0e/db0f28511428/41bbf4072fe2.dcm</td>\n",
       "      <td>2539</td>\n",
       "      <td>3050</td>\n",
       "      <td>MONOCHROME2</td>\n",
       "      <td>Atypical Appearance</td>\n",
       "      <td>[[ 211.91156,  1458.23742,  1040.94028,  776.1...</td>\n",
       "    </tr>\n",
       "    <tr>\n",
       "      <th>3</th>\n",
       "      <td>2c94d957e11e/e30e6ee21ab6/76bb17698bfa.dcm</td>\n",
       "      <td>3488</td>\n",
       "      <td>4256</td>\n",
       "      <td>MONOCHROME2</td>\n",
       "      <td>Atypical Appearance</td>\n",
       "      <td>[[ 2560,  1740.8,  953.6001,  921.59985]]</td>\n",
       "    </tr>\n",
       "    <tr>\n",
       "      <th>4</th>\n",
       "      <td>f2241ca2d0ff/32d0196a8616/cd588a3e1a88.dcm</td>\n",
       "      <td>3032</td>\n",
       "      <td>2520</td>\n",
       "      <td>MONOCHROME2</td>\n",
       "      <td>Atypical Appearance</td>\n",
       "      <td>[[ 330.04627,  673.77778,  510.14603,  813.346...</td>\n",
       "    </tr>\n",
       "  </tbody>\n",
       "</table>\n",
       "</div>"
      ],
      "text/plain": [
       "                                        rutas  width  height         mode  \\\n",
       "0  478ecae73c0f/ab1c8393562f/a6f2e4c387f0.dcm   2320    2832  MONOCHROME2   \n",
       "1  81711d215ec7/786be0021629/293dfd740406.dcm   2320    2832  MONOCHROME2   \n",
       "2  55f9624fef0e/db0f28511428/41bbf4072fe2.dcm   2539    3050  MONOCHROME2   \n",
       "3  2c94d957e11e/e30e6ee21ab6/76bb17698bfa.dcm   3488    4256  MONOCHROME2   \n",
       "4  f2241ca2d0ff/32d0196a8616/cd588a3e1a88.dcm   3032    2520  MONOCHROME2   \n",
       "\n",
       "                 label                                              boxes  \n",
       "0  Atypical Appearance  [[ 595.53935,  414.11282,  608.29559,  330.458...  \n",
       "1  Atypical Appearance  [[ 719.19628,  1348.36085,  468.92651,  648.06...  \n",
       "2  Atypical Appearance  [[ 211.91156,  1458.23742,  1040.94028,  776.1...  \n",
       "3  Atypical Appearance          [[ 2560,  1740.8,  953.6001,  921.59985]]  \n",
       "4  Atypical Appearance  [[ 330.04627,  673.77778,  510.14603,  813.346...  "
      ]
     },
     "execution_count": 60,
     "metadata": {},
     "output_type": "execute_result"
    }
   ],
   "source": [
    "info=pd.read_csv(\"info.csv\")\n",
    "info.head()"
   ]
  },
  {
   "cell_type": "code",
   "execution_count": 47,
   "id": "0e87ebd8-bcae-4a4b-a3b7-0203774c4bb9",
   "metadata": {
    "tags": []
   },
   "outputs": [
    {
     "name": "stderr",
     "output_type": "stream",
     "text": [
      "/home/jair/anaconda3/envs/envj/lib/python3.11/site-packages/pydicom/pixel_data_handlers/numpy_handler.py:250: UserWarning: The length of the pixel data in the dataset (13262360 bytes) indicates it contains excess padding. 216296 bytes will be removed from the end of the data\n",
      "  warnings.warn(msg)\n"
     ]
    }
   ],
   "source": [
    "#redimensionando cada imagen y pasandolas a monocromo2 y png 1024\n",
    "root='/home/jair/COVID/siimcovid/imagesdcm/'\n",
    "rootd='/home/jair/COVID/siimcovid/images/1024/'\n",
    "tam=(1024,1024)\n",
    "for indice, fila in info.iterrows():\n",
    "    r=root+fila['rutas'].split('/')[-1]\n",
    "    dicom=dcmread(r)\n",
    "    img=dicom.pixel_array\n",
    "    imgr=sk.transform.resize(img, tam)\n",
    "    if fila['mode']=='MONOCHROME1':\n",
    "        imgr=np.amax(imgr)-imgr\n",
    "    imgr=(np.maximum(imgr,0)/imgr.max())*255.0\n",
    "    imgr=imgr.astype(np.uint8)\n",
    "    sk.io.imsave(rootd+fila['rutas'].split('/')[-1].replace('dcm','png'), imgr)"
   ]
  },
  {
   "cell_type": "code",
   "execution_count": 66,
   "id": "48e48112-dc24-4e0c-889d-46f26d24a97d",
   "metadata": {
    "tags": []
   },
   "outputs": [
    {
     "name": "stderr",
     "output_type": "stream",
     "text": [
      "100%|████████████████████████████████████| 5778/5778 [00:00<00:00, 19512.33it/s]\n"
     ]
    }
   ],
   "source": [
    "rooto='/home/jair/COVID/siimcovid/images/1024/'\n",
    "rootd='/home/jair/COVID/siimcovid/1024/'\n",
    "\n",
    "for idd in tqdm(info['rutas']):\n",
    "    ro=rooto+idd.split('/')[-1].replace('dcm','png')\n",
    "    shutil.move(ro, rootd)"
   ]
  },
  {
   "cell_type": "code",
   "execution_count": 13,
   "id": "205c6fc8-c414-4466-8ae8-49619c409d2b",
   "metadata": {
    "tags": []
   },
   "outputs": [
    {
     "name": "stderr",
     "output_type": "stream",
     "text": [
      "1155it [02:14,  8.59it/s]\n"
     ]
    }
   ],
   "source": [
    "import pandas as pd\n",
    "import numpy as np\n",
    "from pydicom import dcmread, read_file\n",
    "from ast import literal_eval\n",
    "import skimage as sk\n",
    "import os\n",
    "from tqdm import tqdm\n",
    "import matplotlib.pyplot as plt\n",
    "import shutil\n",
    "\n",
    "def escala_bbox(bbox, widthO, heightO, resize):\n",
    "    sy = resize / widthO\n",
    "    sx = resize / heightO\n",
    "    xr = bbox[0] * sx\n",
    "    yr = bbox[1] * sy\n",
    "    wr = bbox[2] * sx\n",
    "    hr = bbox[3] * sy\n",
    "    \n",
    "    # Ajuste para asegurar que w y h no excedan los límites de la imagen\n",
    "    if xr + wr > resize and resize - xr>0:\n",
    "        wr = resize - xr-2\n",
    "    if yr + hr > resize and resize - yr>0:\n",
    "        hr = resize - yr-2\n",
    "    \n",
    "    return [xr, yr, wr, hr]\n",
    "\n",
    "def xywh_yolo(bb,size):\n",
    "    cx=bb[0]+(bb[2]/2)\n",
    "    cy=bb[1]+(bb[3]/2)\n",
    "    xc=cx/size\n",
    "    yc=cy/size\n",
    "    wc=bb[2]/size\n",
    "    hc=bb[3]/size\n",
    "    return [xc,yc,wc,hc]\n",
    "\n",
    "def yolon_to_xywh(bb,size):\n",
    "    xc=bb[0] * size\n",
    "    yc=bb[1] * size\n",
    "    wp=bb[2] * size\n",
    "    hp=bb[3] * size\n",
    "    x = xc - w/2\n",
    "    y = yc - h/ 2\n",
    "    return [x, y, wp, hp]\n",
    "\n",
    "def xywh_xiyixfyf(bbox):\n",
    "    x1=bbox[0]\n",
    "    y1=bbox[1]\n",
    "    x2=bbox[0]+bbox[2]\n",
    "    y2=bbox[1]+bbox[3]\n",
    "    return [x1,y1,x2,y2]\n",
    "\n",
    "mode='validation'\n",
    "ri='/home/jair/COVID/siimcovid/'+mode+'_ord.csv'\n",
    "ro='/home/jair/COVID/siimcovid/images/640/'\n",
    "rd='/home/jair/COVID/siimcovid/datasets/yolo/images/'+mode+'/'\n",
    "anno={'Typical Appearance':0,'Negative for Pneumonia':1,'Indeterminate Appearance':2,'Atypical Appearance':3}\n",
    "data=pd.read_csv(ri)\n",
    "#creando dataset para YOLO las imagenes ya se redimensionaron por ende solo se redmensionan bboxes\n",
    "for indice, fila in tqdm(data.iterrows()):\n",
    "    if not os.path.exists(rd+fila['rutas'].split('/')[-1].replace('dcm','png')):\n",
    "        r=ro+fila['rutas'].split('/')[-1].replace('dcm','png')   \n",
    "        img=sk.io.imread(r)\n",
    "        rgb = np.zeros((640,640,3))\n",
    "        rgb[...,0] =img\n",
    "        rgb[...,1] =img\n",
    "        rgb[...,2] =img\n",
    "        rgb=(rgb*-255).astype(np.uint8)\n",
    "        sk.io.imsave(rd+fila['rutas'].split('/')[-1].replace('dcm','png'),rgb)\n",
    "    if fila['label'] != 'Negative for Pneumonia':\n",
    "        for bbox in literal_eval(fila['boxes']):\n",
    "            bbr=escala_bbox(bbox,fila['width'],fila['height'],640)\n",
    "            bby=xywh_yolo(bbr,640)\n",
    "            \n",
    "            with open(rd.replace('images','labels')+fila['rutas'].split('/')[-1].replace('dcm','txt'), 'a') as file:\n",
    "                file.write(str(anno[fila['label']])+' '+str(bby[0])+' '+str(bby[1])+' '+str(bby[2])+' '+str(bby[3])+'\\n')\n",
    "    else:\n",
    "        with open(rd.replace('images','labels')+fila['rutas'].split('/')[-1].replace('dcm','txt'), 'a') as file:\n",
    "            file.write(str(anno[fila['label']])+' 0.500781 0.500781 0.9946 0.9946\\n')\n",
    "            \n",
    "\n",
    "            "
   ]
  },
  {
   "cell_type": "code",
   "execution_count": 16,
   "id": "3754df8e-bfc3-43cb-aa4c-258fc571b1d1",
   "metadata": {
    "tags": []
   },
   "outputs": [
    {
     "name": "stderr",
     "output_type": "stream",
     "text": [
      "1155it [00:00, 5604.43it/s]\n"
     ]
    }
   ],
   "source": [
    "import pandas as pd\n",
    "import numpy as np\n",
    "from pydicom import dcmread, read_file\n",
    "from ast import literal_eval\n",
    "import skimage as sk\n",
    "import os\n",
    "from tqdm import tqdm\n",
    "import matplotlib.pyplot as plt\n",
    "import shutil\n",
    "\n",
    "def escala_bbox(bbox, widthO, heightO, resize):\n",
    "    sy = resize / widthO\n",
    "    sx = resize / heightO\n",
    "    xr = bbox[0] * sx\n",
    "    yr = bbox[1] * sy\n",
    "    wr = bbox[2] * sx\n",
    "    hr = bbox[3] * sy\n",
    "    \n",
    "    # Ajuste para asegurar que w y h no excedan los límites de la imagen\n",
    "    if xr + wr > resize and resize - xr>0:\n",
    "        wr = resize - xr-2\n",
    "    if yr + hr > resize and resize - yr>0:\n",
    "        hr = resize - yr-2\n",
    "    \n",
    "    return [xr, yr, wr, hr]\n",
    "\n",
    "def xywh_yolo(bb,size):\n",
    "    cx=bb[0]+bb[2]/2\n",
    "    cy=bb[1]+bb[3]/2\n",
    "    xc=cx/size\n",
    "    yc=cy/size\n",
    "    wc=bb[2]/size\n",
    "    hc=bb[3]/size\n",
    "    return [xc,yc,wc,hc]\n",
    "\n",
    "def yolon_to_xywh(bb,size):\n",
    "    x=bb[0]*size-bb[2]*size/2\n",
    "    y=bb[1]*size-bb[3]*size/2\n",
    "    wp=bb[2]*size\n",
    "    hp=bb[3]*size\n",
    "    return [x, y, wp, hp]\n",
    "\n",
    "def xywh_xiyixfyf(bbox):\n",
    "    x1=bbox[0]\n",
    "    y1=bbox[1]\n",
    "    x2=bbox[0]+bbox[2]\n",
    "    y2=bbox[1]+bbox[3]\n",
    "    return [x1,y1,x2,y2]\n",
    "\n",
    "mode='validation'\n",
    "ri='/home/jair/COVID/siimcovid/'+mode+'_ord.csv'\n",
    "ro='/home/jair/COVID/siimcovid/images/640/'\n",
    "rd='/home/jair/COVID/NIHX14/datasets/yolo/640/images/'+mode+'/'\n",
    "anno={'Typical Appearance':0,'Negative for Pneumonia':1,'Indeterminate Appearance':2,'Atypical Appearance':3}\n",
    "data=pd.read_csv(ri)\n",
    "\n",
    "#creando dataset para Retiannet las imagenes ya se redimensionaron por ende solo se redmensionan bboxes\n",
    "\n",
    "info = pd.DataFrame(columns=['path','x1','y1','x2','y2','class'])\n",
    "pth=[]\n",
    "x1=[]\n",
    "y1=[]\n",
    "x2=[]\n",
    "y2=[]\n",
    "c=[]\n",
    "for indice, fila in tqdm(data.iterrows()):\n",
    "    name=fila['rutas'].split('/')[-1].replace('dcm','png') \n",
    "    for bbox in literal_eval(fila['boxes']):\n",
    "        pth.append(rd+name)\n",
    "        if fila['label'] !='Negative for Pneumonia':\n",
    "            bbr=escala_bbox(bbox,fila['width'],fila['height'],640)\n",
    "            bbrf=xywh_xiyixfyf(bbr)\n",
    "            x1.append(int(bbrf[0]))\n",
    "            y1.append(int(bbrf[1]))\n",
    "            x2.append(int(bbrf[2]))\n",
    "            y2.append(int(bbrf[3]))\n",
    "            c.append(fila['label'])\n",
    "        else:\n",
    "            x1.append(0)\n",
    "            y1.append(0)\n",
    "            x2.append(640)\n",
    "            y2.append(640)\n",
    "            c.append(fila['label'])      \n",
    "\n",
    "info['path']=pth\n",
    "info['x1']=x1\n",
    "info['y1']=y1\n",
    "info['x2']=x2\n",
    "info['y2']=y2\n",
    "info['class']=c\n",
    "\n",
    "info=info.sample(frac=1).reset_index(drop=True)\n",
    "info.to_csv('/home/jair/COVID/siimcovid/datasets/retinanet/'+mode+'.csv', index=False)"
   ]
  },
  {
   "cell_type": "code",
   "execution_count": null,
   "id": "bc24a1e4-6b5d-41fa-8bf2-8620765e3469",
   "metadata": {},
   "outputs": [],
   "source": []
  }
 ],
 "metadata": {
  "kernelspec": {
   "display_name": "Python 3 (ipykernel)",
   "language": "python",
   "name": "python3"
  },
  "language_info": {
   "codemirror_mode": {
    "name": "ipython",
    "version": 3
   },
   "file_extension": ".py",
   "mimetype": "text/x-python",
   "name": "python",
   "nbconvert_exporter": "python",
   "pygments_lexer": "ipython3",
   "version": "3.11.4"
  }
 },
 "nbformat": 4,
 "nbformat_minor": 5
}
