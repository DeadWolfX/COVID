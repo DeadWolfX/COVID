{
 "cells": [
  {
   "cell_type": "markdown",
   "id": "0459bfbe-4b77-483c-979f-1c8ec8e01f5c",
   "metadata": {},
   "source": [
    "<h1>Entrenar YOLOv8</h1>"
   ]
  },
  {
   "cell_type": "code",
   "execution_count": 1,
   "id": "176dcf3d-0cf5-4146-b10d-299fb8cd0d3b",
   "metadata": {},
   "outputs": [
    {
     "name": "stdout",
     "output_type": "stream",
     "text": [
      "New https://pypi.org/project/ultralytics/8.2.10 available 😃 Update with 'pip install -U ultralytics'\n",
      "Ultralytics YOLOv8.2.5 🚀 Python-3.8.18 torch-2.1.2+cu118 CUDA:0 (NVIDIA GeForce RTX 3090 Ti, 24214MiB)\n",
      "\u001b[34m\u001b[1mengine/trainer: \u001b[0mtask=detect, mode=train, model=yolov8x.pt, data=/home/jair/COVID/rsna/yolo_train_data/rsna640opacity_sano.yml, epochs=350, time=None, patience=50, batch=-1, imgsz=640, save=True, save_period=-1, cache=False, device=0, workers=8, project=None, name=train, exist_ok=False, pretrained=True, optimizer=AdamW, verbose=True, seed=0, deterministic=True, single_cls=False, rect=False, cos_lr=False, close_mosaic=10, resume=False, amp=True, fraction=1.0, profile=False, freeze=None, multi_scale=False, overlap_mask=True, mask_ratio=4, dropout=0.0, val=True, split=val, save_json=False, save_hybrid=False, conf=None, iou=0.7, max_det=300, half=False, dnn=False, plots=True, source=None, vid_stride=1, stream_buffer=False, visualize=False, augment=True, agnostic_nms=False, classes=None, retina_masks=False, embed=None, show=False, save_frames=False, save_txt=False, save_conf=False, save_crop=False, show_labels=True, show_conf=True, show_boxes=True, line_width=None, format=torchscript, keras=False, optimize=False, int8=False, dynamic=False, simplify=False, opset=None, workspace=4, nms=False, lr0=0.001, lrf=0.001, momentum=0.001, weight_decay=0.0005, warmup_epochs=3.0, warmup_momentum=0.001, warmup_bias_lr=0.1, box=7.5, cls=0.5, dfl=1.5, pose=12.0, kobj=1.0, label_smoothing=0.0, nbs=64, hsv_h=0.015, hsv_s=0.7, hsv_v=0.4, degrees=0.0, translate=0.1, scale=0.5, shear=0.0, perspective=0.0, flipud=0.0, fliplr=0.5, bgr=0.0, mosaic=1.0, mixup=0.0, copy_paste=0.0, auto_augment=autoaugment, erasing=0.4, crop_fraction=1.0, cfg=None, tracker=botsort.yaml, save_dir=runs/detect/train\n",
      "Overriding model.yaml nc=80 with nc=2\n",
      "\n",
      "                   from  n    params  module                                       arguments                     \n",
      "  0                  -1  1      2320  ultralytics.nn.modules.conv.Conv             [3, 80, 3, 2]                 \n",
      "  1                  -1  1    115520  ultralytics.nn.modules.conv.Conv             [80, 160, 3, 2]               \n",
      "  2                  -1  3    436800  ultralytics.nn.modules.block.C2f             [160, 160, 3, True]           \n",
      "  3                  -1  1    461440  ultralytics.nn.modules.conv.Conv             [160, 320, 3, 2]              \n",
      "  4                  -1  6   3281920  ultralytics.nn.modules.block.C2f             [320, 320, 6, True]           \n",
      "  5                  -1  1   1844480  ultralytics.nn.modules.conv.Conv             [320, 640, 3, 2]              \n",
      "  6                  -1  6  13117440  ultralytics.nn.modules.block.C2f             [640, 640, 6, True]           \n",
      "  7                  -1  1   3687680  ultralytics.nn.modules.conv.Conv             [640, 640, 3, 2]              \n",
      "  8                  -1  3   6969600  ultralytics.nn.modules.block.C2f             [640, 640, 3, True]           \n",
      "  9                  -1  1   1025920  ultralytics.nn.modules.block.SPPF            [640, 640, 5]                 \n",
      " 10                  -1  1         0  torch.nn.modules.upsampling.Upsample         [None, 2, 'nearest']          \n",
      " 11             [-1, 6]  1         0  ultralytics.nn.modules.conv.Concat           [1]                           \n",
      " 12                  -1  3   7379200  ultralytics.nn.modules.block.C2f             [1280, 640, 3]                \n",
      " 13                  -1  1         0  torch.nn.modules.upsampling.Upsample         [None, 2, 'nearest']          \n",
      " 14             [-1, 4]  1         0  ultralytics.nn.modules.conv.Concat           [1]                           \n",
      " 15                  -1  3   1948800  ultralytics.nn.modules.block.C2f             [960, 320, 3]                 \n",
      " 16                  -1  1    922240  ultralytics.nn.modules.conv.Conv             [320, 320, 3, 2]              \n",
      " 17            [-1, 12]  1         0  ultralytics.nn.modules.conv.Concat           [1]                           \n",
      " 18                  -1  3   7174400  ultralytics.nn.modules.block.C2f             [960, 640, 3]                 \n",
      " 19                  -1  1   3687680  ultralytics.nn.modules.conv.Conv             [640, 640, 3, 2]              \n",
      " 20             [-1, 9]  1         0  ultralytics.nn.modules.conv.Concat           [1]                           \n",
      " 21                  -1  3   7379200  ultralytics.nn.modules.block.C2f             [1280, 640, 3]                \n",
      " 22        [15, 18, 21]  1   8719894  ultralytics.nn.modules.head.Detect           [2, [320, 640, 640]]          \n",
      "Model summary: 365 layers, 68154534 parameters, 68154518 gradients, 258.1 GFLOPs\n",
      "\n",
      "Transferred 589/595 items from pretrained weights\n",
      "Freezing layer 'model.22.dfl.conv.weight'\n",
      "\u001b[34m\u001b[1mAMP: \u001b[0mrunning Automatic Mixed Precision (AMP) checks with YOLOv8n...\n",
      "\u001b[34m\u001b[1mAMP: \u001b[0mchecks passed ✅\n",
      "\u001b[34m\u001b[1mAutoBatch: \u001b[0mComputing optimal batch size for imgsz=640\n",
      "\u001b[34m\u001b[1mAutoBatch: \u001b[0mCUDA:0 (NVIDIA GeForce RTX 3090 Ti) 23.65G total, 0.58G reserved, 0.56G allocated, 22.51G free\n",
      "      Params      GFLOPs  GPU_mem (GB)  forward (ms) backward (ms)                   input                  output\n",
      "    68154534       258.1         1.619         43.38         109.9        (1, 3, 640, 640)                    list\n",
      "    68154534       516.3         2.187            29          60.5        (2, 3, 640, 640)                    list\n",
      "    68154534        1033         3.542         35.25         63.88        (4, 3, 640, 640)                    list\n",
      "    68154534        2065         6.434         61.14         83.62        (8, 3, 640, 640)                    list\n",
      "    68154534        4130        12.369         119.1         152.7       (16, 3, 640, 640)                    list\n",
      "\u001b[34m\u001b[1mAutoBatch: \u001b[0mUsing batch-size 17 for CUDA:0 14.16G/23.65G (60%) ✅\n"
     ]
    },
    {
     "name": "stderr",
     "output_type": "stream",
     "text": [
      "\u001b[34m\u001b[1mtrain: \u001b[0mScanning /home/jair/COVID/rsna/datasets/rsna640opacity/labels/train.cache\u001b[0m\n",
      "\u001b[34m\u001b[1mval: \u001b[0mScanning /home/jair/COVID/rsna/datasets/rsna640opacity/labels/validation.ca\u001b[0m\n"
     ]
    },
    {
     "name": "stdout",
     "output_type": "stream",
     "text": [
      "Plotting labels to runs/detect/train/labels.jpg... \n",
      "\u001b[34m\u001b[1moptimizer:\u001b[0m AdamW(lr=0.001, momentum=0.001) with parameter groups 97 weight(decay=0.0), 104 weight(decay=0.00053125), 103 bias(decay=0.0)\n",
      "Image sizes 640 train, 640 val\n",
      "Using 8 dataloader workers\n",
      "Logging results to \u001b[1mruns/detect/train\u001b[0m\n",
      "Starting training for 350 epochs...\n",
      "\n",
      "      Epoch    GPU_mem   box_loss   cls_loss   dfl_loss  Instances       Size\n"
     ]
    },
    {
     "name": "stderr",
     "output_type": "stream",
     "text": [
      "      1/350      14.1G      0.808      1.283      1.393         45        640: 1\n",
      "                 Class     Images  Instances      Box(P          R      mAP50  m\n"
     ]
    },
    {
     "name": "stdout",
     "output_type": "stream",
     "text": [
      "                   all       2972       3744      0.378      0.576      0.481      0.192\n",
      "\n",
      "      Epoch    GPU_mem   box_loss   cls_loss   dfl_loss  Instances       Size\n"
     ]
    },
    {
     "name": "stderr",
     "output_type": "stream",
     "text": [
      "      2/350      14.3G      0.753      1.098      1.352         50        640: 1\n",
      "                 Class     Images  Instances      Box(P          R      mAP50  m\n"
     ]
    },
    {
     "name": "stdout",
     "output_type": "stream",
     "text": [
      "                   all       2972       3744      0.929      0.421      0.493      0.447\n",
      "\n",
      "      Epoch    GPU_mem   box_loss   cls_loss   dfl_loss  Instances       Size\n"
     ]
    },
    {
     "name": "stderr",
     "output_type": "stream",
     "text": [
      "      3/350      14.7G      0.694       1.01      1.305         51        640: 1\n",
      "                 Class     Images  Instances      Box(P          R      mAP50  m"
     ]
    },
    {
     "name": "stdout",
     "output_type": "stream",
     "text": [
      "                   all       2972       3744       0.91      0.464      0.539      0.489\n"
     ]
    },
    {
     "name": "stderr",
     "output_type": "stream",
     "text": [
      "\n"
     ]
    },
    {
     "name": "stdout",
     "output_type": "stream",
     "text": [
      "\n",
      "      Epoch    GPU_mem   box_loss   cls_loss   dfl_loss  Instances       Size\n"
     ]
    },
    {
     "name": "stderr",
     "output_type": "stream",
     "text": [
      "      4/350      14.7G     0.6513     0.9357      1.269         48        640: 1\n",
      "                 Class     Images  Instances      Box(P          R      mAP50  m\n"
     ]
    },
    {
     "name": "stdout",
     "output_type": "stream",
     "text": [
      "                   all       2972       3744      0.635      0.615      0.636      0.457\n",
      "\n",
      "      Epoch    GPU_mem   box_loss   cls_loss   dfl_loss  Instances       Size\n"
     ]
    },
    {
     "name": "stderr",
     "output_type": "stream",
     "text": [
      "      5/350      14.7G     0.6279     0.8906      1.248         42        640: 1\n",
      "                 Class     Images  Instances      Box(P          R      mAP50  m\n"
     ]
    },
    {
     "name": "stdout",
     "output_type": "stream",
     "text": [
      "                   all       2972       3744       0.49      0.666      0.616      0.484\n",
      "\n",
      "      Epoch    GPU_mem   box_loss   cls_loss   dfl_loss  Instances       Size\n"
     ]
    },
    {
     "name": "stderr",
     "output_type": "stream",
     "text": [
      "      6/350      14.7G     0.6009     0.8461      1.227         60        640: 1\n",
      "                 Class     Images  Instances      Box(P          R      mAP50  m\n"
     ]
    },
    {
     "name": "stdout",
     "output_type": "stream",
     "text": [
      "                   all       2972       3744      0.606      0.689       0.68      0.535\n",
      "\n",
      "      Epoch    GPU_mem   box_loss   cls_loss   dfl_loss  Instances       Size\n"
     ]
    },
    {
     "name": "stderr",
     "output_type": "stream",
     "text": [
      "      7/350      14.7G      0.596       0.84      1.223         49        640: 1\n",
      "                 Class     Images  Instances      Box(P          R      mAP50  m\n"
     ]
    },
    {
     "name": "stdout",
     "output_type": "stream",
     "text": [
      "                   all       2972       3744      0.686      0.717      0.742      0.576\n",
      "\n",
      "      Epoch    GPU_mem   box_loss   cls_loss   dfl_loss  Instances       Size\n"
     ]
    },
    {
     "name": "stderr",
     "output_type": "stream",
     "text": [
      "      8/350      14.7G       0.57     0.7937      1.204         63        640: 1\n",
      "                 Class     Images  Instances      Box(P          R      mAP50  m\n"
     ]
    },
    {
     "name": "stdout",
     "output_type": "stream",
     "text": [
      "                   all       2972       3744      0.646      0.697      0.695      0.543\n",
      "\n",
      "      Epoch    GPU_mem   box_loss   cls_loss   dfl_loss  Instances       Size\n"
     ]
    },
    {
     "name": "stderr",
     "output_type": "stream",
     "text": [
      "      9/350      14.7G     0.5582     0.7808      1.195         45        640: 1\n",
      "                 Class     Images  Instances      Box(P          R      mAP50  m\n"
     ]
    },
    {
     "name": "stdout",
     "output_type": "stream",
     "text": [
      "                   all       2972       3744      0.617      0.675       0.68      0.515\n",
      "\n",
      "      Epoch    GPU_mem   box_loss   cls_loss   dfl_loss  Instances       Size\n"
     ]
    },
    {
     "name": "stderr",
     "output_type": "stream",
     "text": [
      "     10/350      14.7G     0.5519     0.7757      1.194         44        640: 1\n",
      "                 Class     Images  Instances      Box(P          R      mAP50  m\n"
     ]
    },
    {
     "name": "stdout",
     "output_type": "stream",
     "text": [
      "                   all       2972       3744      0.652      0.704      0.715      0.576\n",
      "\n",
      "      Epoch    GPU_mem   box_loss   cls_loss   dfl_loss  Instances       Size\n"
     ]
    },
    {
     "name": "stderr",
     "output_type": "stream",
     "text": [
      "     11/350      14.7G     0.5482     0.7698      1.193         53        640: 1\n",
      "                 Class     Images  Instances      Box(P          R      mAP50  m\n"
     ]
    },
    {
     "name": "stdout",
     "output_type": "stream",
     "text": [
      "                   all       2972       3744      0.732      0.754      0.767      0.606\n",
      "\n",
      "      Epoch    GPU_mem   box_loss   cls_loss   dfl_loss  Instances       Size\n"
     ]
    },
    {
     "name": "stderr",
     "output_type": "stream",
     "text": [
      "     12/350      14.7G     0.5372     0.7482      1.184         40        640: 1\n",
      "                 Class     Images  Instances      Box(P          R      mAP50  m\n"
     ]
    },
    {
     "name": "stdout",
     "output_type": "stream",
     "text": [
      "                   all       2972       3744      0.633      0.673      0.685      0.567\n",
      "\n",
      "      Epoch    GPU_mem   box_loss   cls_loss   dfl_loss  Instances       Size\n"
     ]
    },
    {
     "name": "stderr",
     "output_type": "stream",
     "text": [
      "     13/350      14.7G     0.5352     0.7473      1.185         51        640: 1\n",
      "                 Class     Images  Instances      Box(P          R      mAP50  m\n"
     ]
    },
    {
     "name": "stdout",
     "output_type": "stream",
     "text": [
      "                   all       2972       3744       0.71      0.732      0.752      0.599\n",
      "\n",
      "      Epoch    GPU_mem   box_loss   cls_loss   dfl_loss  Instances       Size\n"
     ]
    },
    {
     "name": "stderr",
     "output_type": "stream",
     "text": [
      "     14/350      14.7G     0.5243     0.7275      1.182         58        640: 1\n",
      "                 Class     Images  Instances      Box(P          R      mAP50  m\n"
     ]
    },
    {
     "name": "stdout",
     "output_type": "stream",
     "text": [
      "                   all       2972       3744      0.628      0.678      0.712      0.579\n",
      "\n",
      "      Epoch    GPU_mem   box_loss   cls_loss   dfl_loss  Instances       Size\n"
     ]
    },
    {
     "name": "stderr",
     "output_type": "stream",
     "text": [
      "     15/350      14.7G     0.5174     0.7152      1.175         34        640: 1\n",
      "                 Class     Images  Instances      Box(P          R      mAP50  m\n"
     ]
    },
    {
     "name": "stdout",
     "output_type": "stream",
     "text": [
      "                   all       2972       3744      0.787      0.749      0.784      0.614\n",
      "\n",
      "      Epoch    GPU_mem   box_loss   cls_loss   dfl_loss  Instances       Size\n"
     ]
    },
    {
     "name": "stderr",
     "output_type": "stream",
     "text": [
      "     16/350      14.7G     0.5231     0.7336       1.18         48        640: 1\n",
      "                 Class     Images  Instances      Box(P          R      mAP50  m\n"
     ]
    },
    {
     "name": "stdout",
     "output_type": "stream",
     "text": [
      "                   all       2972       3744      0.692      0.743      0.757      0.605\n",
      "\n",
      "      Epoch    GPU_mem   box_loss   cls_loss   dfl_loss  Instances       Size\n"
     ]
    },
    {
     "name": "stderr",
     "output_type": "stream",
     "text": [
      "     17/350      14.7G     0.5163      0.714      1.177         49        640: 1\n",
      "                 Class     Images  Instances      Box(P          R      mAP50  m\n"
     ]
    },
    {
     "name": "stdout",
     "output_type": "stream",
     "text": [
      "                   all       2972       3744      0.737      0.749      0.765      0.609\n",
      "\n",
      "      Epoch    GPU_mem   box_loss   cls_loss   dfl_loss  Instances       Size\n"
     ]
    },
    {
     "name": "stderr",
     "output_type": "stream",
     "text": [
      "     18/350      14.7G     0.5025     0.6933      1.167         50        640: 1\n",
      "                 Class     Images  Instances      Box(P          R      mAP50  m\n"
     ]
    },
    {
     "name": "stdout",
     "output_type": "stream",
     "text": [
      "                   all       2972       3744      0.723      0.751       0.76      0.607\n",
      "\n",
      "      Epoch    GPU_mem   box_loss   cls_loss   dfl_loss  Instances       Size\n"
     ]
    },
    {
     "name": "stderr",
     "output_type": "stream",
     "text": [
      "     19/350      14.7G     0.5032      0.697      1.169         39        640: 1\n",
      "                 Class     Images  Instances      Box(P          R      mAP50  m\n"
     ]
    },
    {
     "name": "stdout",
     "output_type": "stream",
     "text": [
      "                   all       2972       3744       0.76      0.757      0.793      0.623\n",
      "\n",
      "      Epoch    GPU_mem   box_loss   cls_loss   dfl_loss  Instances       Size\n"
     ]
    },
    {
     "name": "stderr",
     "output_type": "stream",
     "text": [
      "     20/350      14.7G     0.5118     0.7065      1.176         47        640: 1\n",
      "                 Class     Images  Instances      Box(P          R      mAP50  m\n"
     ]
    },
    {
     "name": "stdout",
     "output_type": "stream",
     "text": [
      "                   all       2972       3744      0.732      0.735      0.759      0.605\n",
      "\n",
      "      Epoch    GPU_mem   box_loss   cls_loss   dfl_loss  Instances       Size\n"
     ]
    },
    {
     "name": "stderr",
     "output_type": "stream",
     "text": [
      "     21/350      14.7G     0.5046      0.694      1.169         48        640: 1\n",
      "                 Class     Images  Instances      Box(P          R      mAP50  m\n"
     ]
    },
    {
     "name": "stdout",
     "output_type": "stream",
     "text": [
      "                   all       2972       3744       0.71      0.746      0.756      0.593\n",
      "\n",
      "      Epoch    GPU_mem   box_loss   cls_loss   dfl_loss  Instances       Size\n"
     ]
    },
    {
     "name": "stderr",
     "output_type": "stream",
     "text": [
      "     22/350      14.7G     0.5051     0.6964      1.169         40        640: 1\n",
      "                 Class     Images  Instances      Box(P          R      mAP50  m\n"
     ]
    },
    {
     "name": "stdout",
     "output_type": "stream",
     "text": [
      "                   all       2972       3744      0.724       0.74      0.767      0.612\n",
      "\n",
      "      Epoch    GPU_mem   box_loss   cls_loss   dfl_loss  Instances       Size\n"
     ]
    },
    {
     "name": "stderr",
     "output_type": "stream",
     "text": [
      "     23/350      14.7G      0.496     0.6865      1.167         52        640: 1\n",
      "                 Class     Images  Instances      Box(P          R      mAP50  m\n"
     ]
    },
    {
     "name": "stdout",
     "output_type": "stream",
     "text": [
      "                   all       2972       3744      0.728       0.74      0.761      0.604\n",
      "\n",
      "      Epoch    GPU_mem   box_loss   cls_loss   dfl_loss  Instances       Size\n"
     ]
    },
    {
     "name": "stderr",
     "output_type": "stream",
     "text": [
      "     24/350      14.7G     0.5027     0.6899       1.17         41        640: 1\n",
      "                 Class     Images  Instances      Box(P          R      mAP50  m\n"
     ]
    },
    {
     "name": "stdout",
     "output_type": "stream",
     "text": [
      "                   all       2972       3744      0.758      0.749       0.78      0.615\n",
      "\n",
      "      Epoch    GPU_mem   box_loss   cls_loss   dfl_loss  Instances       Size\n"
     ]
    },
    {
     "name": "stderr",
     "output_type": "stream",
     "text": [
      "     25/350      14.7G     0.4997     0.6742      1.166         53        640: 1\n",
      "                 Class     Images  Instances      Box(P          R      mAP50  m\n"
     ]
    },
    {
     "name": "stdout",
     "output_type": "stream",
     "text": [
      "                   all       2972       3744      0.743      0.748      0.776      0.616\n",
      "\n",
      "      Epoch    GPU_mem   box_loss   cls_loss   dfl_loss  Instances       Size\n"
     ]
    },
    {
     "name": "stderr",
     "output_type": "stream",
     "text": [
      "     26/350      14.7G     0.4998     0.6808       1.17         45        640: 1\n",
      "                 Class     Images  Instances      Box(P          R      mAP50  m\n"
     ]
    },
    {
     "name": "stdout",
     "output_type": "stream",
     "text": [
      "                   all       2972       3744      0.773      0.759      0.791      0.623\n",
      "\n",
      "      Epoch    GPU_mem   box_loss   cls_loss   dfl_loss  Instances       Size\n"
     ]
    },
    {
     "name": "stderr",
     "output_type": "stream",
     "text": [
      "     27/350      14.7G     0.4908     0.6745      1.164         44        640: 1\n",
      "                 Class     Images  Instances      Box(P          R      mAP50  m\n"
     ]
    },
    {
     "name": "stdout",
     "output_type": "stream",
     "text": [
      "                   all       2972       3744      0.774       0.77        0.8      0.629\n",
      "\n",
      "      Epoch    GPU_mem   box_loss   cls_loss   dfl_loss  Instances       Size\n"
     ]
    },
    {
     "name": "stderr",
     "output_type": "stream",
     "text": [
      "     28/350      14.7G     0.4915     0.6641      1.161         56        640: 1\n",
      "                 Class     Images  Instances      Box(P          R      mAP50  m\n"
     ]
    },
    {
     "name": "stdout",
     "output_type": "stream",
     "text": [
      "                   all       2972       3744      0.776      0.759      0.793      0.626\n",
      "\n",
      "      Epoch    GPU_mem   box_loss   cls_loss   dfl_loss  Instances       Size\n"
     ]
    },
    {
     "name": "stderr",
     "output_type": "stream",
     "text": [
      "     29/350      14.7G     0.4888     0.6638       1.16         49        640: 1\n",
      "                 Class     Images  Instances      Box(P          R      mAP50  m\n"
     ]
    },
    {
     "name": "stdout",
     "output_type": "stream",
     "text": [
      "                   all       2972       3744      0.762      0.771       0.79      0.598\n",
      "\n",
      "      Epoch    GPU_mem   box_loss   cls_loss   dfl_loss  Instances       Size\n"
     ]
    },
    {
     "name": "stderr",
     "output_type": "stream",
     "text": [
      "     30/350      14.7G     0.4879     0.6628       1.16         47        640: 1\n",
      "                 Class     Images  Instances      Box(P          R      mAP50  m\n"
     ]
    },
    {
     "name": "stdout",
     "output_type": "stream",
     "text": [
      "                   all       2972       3744      0.749      0.762      0.776       0.61\n",
      "\n",
      "      Epoch    GPU_mem   box_loss   cls_loss   dfl_loss  Instances       Size\n"
     ]
    },
    {
     "name": "stderr",
     "output_type": "stream",
     "text": [
      "     31/350      14.7G     0.4839     0.6501       1.16         43        640: 1\n",
      "                 Class     Images  Instances      Box(P          R      mAP50  m\n"
     ]
    },
    {
     "name": "stdout",
     "output_type": "stream",
     "text": [
      "                   all       2972       3744      0.735      0.749      0.772      0.614\n",
      "\n",
      "      Epoch    GPU_mem   box_loss   cls_loss   dfl_loss  Instances       Size\n"
     ]
    },
    {
     "name": "stderr",
     "output_type": "stream",
     "text": [
      "     32/350      14.7G     0.4794     0.6502      1.158         43        640: 1\n",
      "                 Class     Images  Instances      Box(P          R      mAP50  m\n"
     ]
    },
    {
     "name": "stdout",
     "output_type": "stream",
     "text": [
      "                   all       2972       3744      0.745      0.757      0.775      0.614\n",
      "\n",
      "      Epoch    GPU_mem   box_loss   cls_loss   dfl_loss  Instances       Size\n"
     ]
    },
    {
     "name": "stderr",
     "output_type": "stream",
     "text": [
      "     33/350      14.7G     0.4872     0.6589      1.162         45        640: 1\n",
      "                 Class     Images  Instances      Box(P          R      mAP50  m\n"
     ]
    },
    {
     "name": "stdout",
     "output_type": "stream",
     "text": [
      "                   all       2972       3744      0.786      0.774      0.802       0.63\n",
      "\n",
      "      Epoch    GPU_mem   box_loss   cls_loss   dfl_loss  Instances       Size\n"
     ]
    },
    {
     "name": "stderr",
     "output_type": "stream",
     "text": [
      "     34/350      14.7G     0.4841     0.6506      1.161         48        640: 1\n",
      "                 Class     Images  Instances      Box(P          R      mAP50  m\n"
     ]
    },
    {
     "name": "stdout",
     "output_type": "stream",
     "text": [
      "                   all       2972       3744      0.781      0.762      0.797      0.627\n",
      "\n",
      "      Epoch    GPU_mem   box_loss   cls_loss   dfl_loss  Instances       Size\n"
     ]
    },
    {
     "name": "stderr",
     "output_type": "stream",
     "text": [
      "     35/350      14.7G     0.4783     0.6394      1.155         58        640: 1\n",
      "                 Class     Images  Instances      Box(P          R      mAP50  m\n"
     ]
    },
    {
     "name": "stdout",
     "output_type": "stream",
     "text": [
      "                   all       2972       3744      0.776      0.755      0.791      0.627\n",
      "\n",
      "      Epoch    GPU_mem   box_loss   cls_loss   dfl_loss  Instances       Size\n"
     ]
    },
    {
     "name": "stderr",
     "output_type": "stream",
     "text": [
      "     36/350      14.7G     0.4775      0.636      1.156         50        640: 1\n",
      "                 Class     Images  Instances      Box(P          R      mAP50  m\n"
     ]
    },
    {
     "name": "stdout",
     "output_type": "stream",
     "text": [
      "                   all       2972       3744      0.765      0.756      0.786      0.623\n",
      "\n",
      "      Epoch    GPU_mem   box_loss   cls_loss   dfl_loss  Instances       Size\n"
     ]
    },
    {
     "name": "stderr",
     "output_type": "stream",
     "text": [
      "     37/350      14.7G     0.4788     0.6338      1.158         46        640: 1\n",
      "                 Class     Images  Instances      Box(P          R      mAP50  m\n"
     ]
    },
    {
     "name": "stdout",
     "output_type": "stream",
     "text": [
      "                   all       2972       3744      0.759      0.764      0.787      0.622\n",
      "\n",
      "      Epoch    GPU_mem   box_loss   cls_loss   dfl_loss  Instances       Size\n"
     ]
    },
    {
     "name": "stderr",
     "output_type": "stream",
     "text": [
      "     38/350      14.7G     0.4818     0.6414       1.16         52        640: 1\n",
      "                 Class     Images  Instances      Box(P          R      mAP50  m\n"
     ]
    },
    {
     "name": "stdout",
     "output_type": "stream",
     "text": [
      "                   all       2972       3744      0.768      0.764      0.796      0.627\n",
      "\n",
      "      Epoch    GPU_mem   box_loss   cls_loss   dfl_loss  Instances       Size\n"
     ]
    },
    {
     "name": "stderr",
     "output_type": "stream",
     "text": [
      "     39/350      14.7G     0.4719     0.6244      1.153         49        640: 1\n",
      "                 Class     Images  Instances      Box(P          R      mAP50  m\n"
     ]
    },
    {
     "name": "stdout",
     "output_type": "stream",
     "text": [
      "                   all       2972       3744      0.781      0.772      0.805       0.63\n",
      "\n",
      "      Epoch    GPU_mem   box_loss   cls_loss   dfl_loss  Instances       Size\n"
     ]
    },
    {
     "name": "stderr",
     "output_type": "stream",
     "text": [
      "     40/350      14.7G      0.477     0.6264      1.157         49        640: 1\n",
      "                 Class     Images  Instances      Box(P          R      mAP50  m\n"
     ]
    },
    {
     "name": "stdout",
     "output_type": "stream",
     "text": [
      "                   all       2972       3744      0.775      0.771        0.8      0.631\n",
      "\n",
      "      Epoch    GPU_mem   box_loss   cls_loss   dfl_loss  Instances       Size\n"
     ]
    },
    {
     "name": "stderr",
     "output_type": "stream",
     "text": [
      "     41/350      14.7G     0.4654     0.6183      1.148         46        640: 1\n",
      "                 Class     Images  Instances      Box(P          R      mAP50  m\n"
     ]
    },
    {
     "name": "stdout",
     "output_type": "stream",
     "text": [
      "                   all       2972       3744       0.78      0.777      0.806      0.633\n",
      "\n",
      "      Epoch    GPU_mem   box_loss   cls_loss   dfl_loss  Instances       Size\n"
     ]
    },
    {
     "name": "stderr",
     "output_type": "stream",
     "text": [
      "     42/350      14.7G     0.4641     0.6123      1.149         51        640: 1\n",
      "                 Class     Images  Instances      Box(P          R      mAP50  m\n"
     ]
    },
    {
     "name": "stdout",
     "output_type": "stream",
     "text": [
      "                   all       2972       3744      0.773       0.76      0.793      0.625\n",
      "\n",
      "      Epoch    GPU_mem   box_loss   cls_loss   dfl_loss  Instances       Size\n"
     ]
    },
    {
     "name": "stderr",
     "output_type": "stream",
     "text": [
      "     43/350      14.7G     0.4655     0.6179      1.152         41        640: 1\n",
      "                 Class     Images  Instances      Box(P          R      mAP50  m\n"
     ]
    },
    {
     "name": "stdout",
     "output_type": "stream",
     "text": [
      "                   all       2972       3744      0.783      0.773      0.802      0.628\n",
      "\n",
      "      Epoch    GPU_mem   box_loss   cls_loss   dfl_loss  Instances       Size\n"
     ]
    },
    {
     "name": "stderr",
     "output_type": "stream",
     "text": [
      "     44/350      14.7G     0.4731     0.6229      1.158         53        640: 1\n",
      "                 Class     Images  Instances      Box(P          R      mAP50  m\n"
     ]
    },
    {
     "name": "stdout",
     "output_type": "stream",
     "text": [
      "                   all       2972       3744      0.783      0.777      0.804      0.631\n",
      "\n",
      "      Epoch    GPU_mem   box_loss   cls_loss   dfl_loss  Instances       Size\n"
     ]
    },
    {
     "name": "stderr",
     "output_type": "stream",
     "text": [
      "     45/350      14.7G      0.468     0.6179      1.152         48        640: 1\n",
      "                 Class     Images  Instances      Box(P          R      mAP50  m"
     ]
    },
    {
     "name": "stdout",
     "output_type": "stream",
     "text": [
      "                   all       2972       3744      0.764      0.766      0.788      0.624\n"
     ]
    },
    {
     "name": "stderr",
     "output_type": "stream",
     "text": [
      "\n"
     ]
    },
    {
     "name": "stdout",
     "output_type": "stream",
     "text": [
      "\n",
      "      Epoch    GPU_mem   box_loss   cls_loss   dfl_loss  Instances       Size\n"
     ]
    },
    {
     "name": "stderr",
     "output_type": "stream",
     "text": [
      "     46/350      14.7G      0.466     0.6082       1.15         47        640: 1\n",
      "                 Class     Images  Instances      Box(P          R      mAP50  m\n"
     ]
    },
    {
     "name": "stdout",
     "output_type": "stream",
     "text": [
      "                   all       2972       3744      0.766      0.772      0.796      0.625\n",
      "\n",
      "      Epoch    GPU_mem   box_loss   cls_loss   dfl_loss  Instances       Size\n"
     ]
    },
    {
     "name": "stderr",
     "output_type": "stream",
     "text": [
      "     47/350      14.7G      0.471     0.6086      1.153         47        640: 1\n",
      "                 Class     Images  Instances      Box(P          R      mAP50  m\n"
     ]
    },
    {
     "name": "stdout",
     "output_type": "stream",
     "text": [
      "                   all       2972       3744      0.764       0.77      0.793      0.625\n",
      "\n",
      "      Epoch    GPU_mem   box_loss   cls_loss   dfl_loss  Instances       Size\n"
     ]
    },
    {
     "name": "stderr",
     "output_type": "stream",
     "text": [
      "     48/350      14.7G     0.4574     0.5966      1.145         46        640: 1\n",
      "                 Class     Images  Instances      Box(P          R      mAP50  m"
     ]
    },
    {
     "name": "stdout",
     "output_type": "stream",
     "text": [
      "                   all       2972       3744      0.787      0.773      0.803       0.63\n"
     ]
    },
    {
     "name": "stderr",
     "output_type": "stream",
     "text": [
      "\n"
     ]
    },
    {
     "name": "stdout",
     "output_type": "stream",
     "text": [
      "\n",
      "      Epoch    GPU_mem   box_loss   cls_loss   dfl_loss  Instances       Size\n"
     ]
    },
    {
     "name": "stderr",
     "output_type": "stream",
     "text": [
      "     49/350      14.7G     0.4553     0.5908      1.143         33        640: 1\n",
      "                 Class     Images  Instances      Box(P          R      mAP50  m"
     ]
    },
    {
     "name": "stdout",
     "output_type": "stream",
     "text": [
      "                   all       2972       3744      0.783      0.769      0.795      0.624\n"
     ]
    },
    {
     "name": "stderr",
     "output_type": "stream",
     "text": [
      "\n"
     ]
    },
    {
     "name": "stdout",
     "output_type": "stream",
     "text": [
      "\n",
      "      Epoch    GPU_mem   box_loss   cls_loss   dfl_loss  Instances       Size\n"
     ]
    },
    {
     "name": "stderr",
     "output_type": "stream",
     "text": [
      "     50/350      14.7G     0.4675     0.6019      1.151         42        640: 1\n",
      "                 Class     Images  Instances      Box(P          R      mAP50  m\n"
     ]
    },
    {
     "name": "stdout",
     "output_type": "stream",
     "text": [
      "                   all       2972       3744      0.779      0.778      0.802       0.63\n",
      "\n",
      "      Epoch    GPU_mem   box_loss   cls_loss   dfl_loss  Instances       Size\n"
     ]
    },
    {
     "name": "stderr",
     "output_type": "stream",
     "text": [
      "     51/350      14.7G     0.4589     0.5912      1.144         43        640: 1\n",
      "                 Class     Images  Instances      Box(P          R      mAP50  m"
     ]
    },
    {
     "name": "stdout",
     "output_type": "stream",
     "text": [
      "                   all       2972       3744      0.783      0.766      0.799      0.629\n"
     ]
    },
    {
     "name": "stderr",
     "output_type": "stream",
     "text": [
      "\n"
     ]
    },
    {
     "name": "stdout",
     "output_type": "stream",
     "text": [
      "\n",
      "      Epoch    GPU_mem   box_loss   cls_loss   dfl_loss  Instances       Size\n"
     ]
    },
    {
     "name": "stderr",
     "output_type": "stream",
     "text": [
      "     52/350      14.7G     0.4559     0.5838      1.145         50        640: 1\n",
      "                 Class     Images  Instances      Box(P          R      mAP50  m"
     ]
    },
    {
     "name": "stdout",
     "output_type": "stream",
     "text": [
      "                   all       2972       3744      0.786      0.769      0.797      0.627\n"
     ]
    },
    {
     "name": "stderr",
     "output_type": "stream",
     "text": [
      "\n"
     ]
    },
    {
     "name": "stdout",
     "output_type": "stream",
     "text": [
      "\n",
      "      Epoch    GPU_mem   box_loss   cls_loss   dfl_loss  Instances       Size\n"
     ]
    },
    {
     "name": "stderr",
     "output_type": "stream",
     "text": [
      "     53/350      14.7G        inf     0.5836      1.149         52        640: 1\n",
      "                 Class     Images  Instances      Box(P          R      mAP50  m\n"
     ]
    },
    {
     "name": "stdout",
     "output_type": "stream",
     "text": [
      "                   all       2972       3744      0.778      0.781      0.796      0.628\n",
      "\n",
      "      Epoch    GPU_mem   box_loss   cls_loss   dfl_loss  Instances       Size\n"
     ]
    },
    {
     "name": "stderr",
     "output_type": "stream",
     "text": [
      "     54/350      14.7G     0.4559     0.5799      1.145         50        640: 1\n",
      "                 Class     Images  Instances      Box(P          R      mAP50  m"
     ]
    },
    {
     "name": "stdout",
     "output_type": "stream",
     "text": [
      "                   all       2972       3744      0.774      0.775      0.792      0.624\n"
     ]
    },
    {
     "name": "stderr",
     "output_type": "stream",
     "text": [
      "\n"
     ]
    },
    {
     "name": "stdout",
     "output_type": "stream",
     "text": [
      "\n",
      "      Epoch    GPU_mem   box_loss   cls_loss   dfl_loss  Instances       Size\n"
     ]
    },
    {
     "name": "stderr",
     "output_type": "stream",
     "text": [
      "     55/350      14.7G     0.4602     0.5778      1.149         41        640: 1\n",
      "                 Class     Images  Instances      Box(P          R      mAP50  m"
     ]
    },
    {
     "name": "stdout",
     "output_type": "stream",
     "text": [
      "                   all       2972       3744      0.782      0.778      0.796      0.625\n"
     ]
    },
    {
     "name": "stderr",
     "output_type": "stream",
     "text": [
      "\n"
     ]
    },
    {
     "name": "stdout",
     "output_type": "stream",
     "text": [
      "\n",
      "      Epoch    GPU_mem   box_loss   cls_loss   dfl_loss  Instances       Size\n"
     ]
    },
    {
     "name": "stderr",
     "output_type": "stream",
     "text": [
      "     56/350      14.7G     0.4556     0.5731      1.143         50        640: 1\n",
      "                 Class     Images  Instances      Box(P          R      mAP50  m"
     ]
    },
    {
     "name": "stdout",
     "output_type": "stream",
     "text": [
      "                   all       2972       3744      0.782      0.785      0.798      0.625\n"
     ]
    },
    {
     "name": "stderr",
     "output_type": "stream",
     "text": [
      "\n"
     ]
    },
    {
     "name": "stdout",
     "output_type": "stream",
     "text": [
      "\n",
      "      Epoch    GPU_mem   box_loss   cls_loss   dfl_loss  Instances       Size\n"
     ]
    },
    {
     "name": "stderr",
     "output_type": "stream",
     "text": [
      "     57/350      14.7G     0.4501     0.5663       1.14         46        640: 1\n",
      "                 Class     Images  Instances      Box(P          R      mAP50  m"
     ]
    },
    {
     "name": "stdout",
     "output_type": "stream",
     "text": [
      "                   all       2972       3744      0.786      0.784      0.802      0.626\n"
     ]
    },
    {
     "name": "stderr",
     "output_type": "stream",
     "text": [
      "\n"
     ]
    },
    {
     "name": "stdout",
     "output_type": "stream",
     "text": [
      "\n",
      "      Epoch    GPU_mem   box_loss   cls_loss   dfl_loss  Instances       Size\n"
     ]
    },
    {
     "name": "stderr",
     "output_type": "stream",
     "text": [
      "     58/350      14.7G      0.458     0.5768      1.144         39        640: 1\n",
      "                 Class     Images  Instances      Box(P          R      mAP50  m\n"
     ]
    },
    {
     "name": "stdout",
     "output_type": "stream",
     "text": [
      "                   all       2972       3744       0.78      0.784      0.798      0.626\n",
      "\n",
      "      Epoch    GPU_mem   box_loss   cls_loss   dfl_loss  Instances       Size\n"
     ]
    },
    {
     "name": "stderr",
     "output_type": "stream",
     "text": [
      "     59/350      14.7G     0.4467     0.5607      1.141         41        640: 1\n",
      "                 Class     Images  Instances      Box(P          R      mAP50  m\n"
     ]
    },
    {
     "name": "stdout",
     "output_type": "stream",
     "text": [
      "                   all       2972       3744      0.782      0.788        0.8      0.625\n",
      "\n",
      "      Epoch    GPU_mem   box_loss   cls_loss   dfl_loss  Instances       Size\n"
     ]
    },
    {
     "name": "stderr",
     "output_type": "stream",
     "text": [
      "     60/350      14.7G     0.4513     0.5622      1.141         48        640: 1\n",
      "                 Class     Images  Instances      Box(P          R      mAP50  m"
     ]
    },
    {
     "name": "stdout",
     "output_type": "stream",
     "text": [
      "                   all       2972       3744       0.79      0.787      0.802      0.623\n"
     ]
    },
    {
     "name": "stderr",
     "output_type": "stream",
     "text": [
      "\n"
     ]
    },
    {
     "name": "stdout",
     "output_type": "stream",
     "text": [
      "\n",
      "      Epoch    GPU_mem   box_loss   cls_loss   dfl_loss  Instances       Size\n"
     ]
    },
    {
     "name": "stderr",
     "output_type": "stream",
     "text": [
      "     61/350      14.7G     0.4491     0.5462       1.14         39        640: 1\n",
      "                 Class     Images  Instances      Box(P          R      mAP50  m"
     ]
    },
    {
     "name": "stdout",
     "output_type": "stream",
     "text": [
      "                   all       2972       3744      0.783      0.786      0.799      0.624\n"
     ]
    },
    {
     "name": "stderr",
     "output_type": "stream",
     "text": [
      "\n"
     ]
    },
    {
     "name": "stdout",
     "output_type": "stream",
     "text": [
      "\n",
      "      Epoch    GPU_mem   box_loss   cls_loss   dfl_loss  Instances       Size\n"
     ]
    },
    {
     "name": "stderr",
     "output_type": "stream",
     "text": [
      "     62/350      14.7G     0.4435      0.545      1.138         46        640: 1\n",
      "                 Class     Images  Instances      Box(P          R      mAP50  m"
     ]
    },
    {
     "name": "stdout",
     "output_type": "stream",
     "text": [
      "                   all       2972       3744      0.784      0.784      0.795      0.622\n"
     ]
    },
    {
     "name": "stderr",
     "output_type": "stream",
     "text": [
      "\n"
     ]
    },
    {
     "name": "stdout",
     "output_type": "stream",
     "text": [
      "\n",
      "      Epoch    GPU_mem   box_loss   cls_loss   dfl_loss  Instances       Size\n"
     ]
    },
    {
     "name": "stderr",
     "output_type": "stream",
     "text": [
      "     63/350      14.7G     0.4544     0.5495      1.141         52        640: 1\n",
      "                 Class     Images  Instances      Box(P          R      mAP50  m\n"
     ]
    },
    {
     "name": "stdout",
     "output_type": "stream",
     "text": [
      "                   all       2972       3744      0.786      0.788      0.794      0.621\n",
      "\n",
      "      Epoch    GPU_mem   box_loss   cls_loss   dfl_loss  Instances       Size\n"
     ]
    },
    {
     "name": "stderr",
     "output_type": "stream",
     "text": [
      "     64/350      14.7G     0.4448     0.5411      1.137         39        640: 1\n",
      "                 Class     Images  Instances      Box(P          R      mAP50  m"
     ]
    },
    {
     "name": "stdout",
     "output_type": "stream",
     "text": [
      "                   all       2972       3744      0.777      0.789      0.794      0.619\n"
     ]
    },
    {
     "name": "stderr",
     "output_type": "stream",
     "text": [
      "\n"
     ]
    },
    {
     "name": "stdout",
     "output_type": "stream",
     "text": [
      "\n",
      "      Epoch    GPU_mem   box_loss   cls_loss   dfl_loss  Instances       Size\n"
     ]
    },
    {
     "name": "stderr",
     "output_type": "stream",
     "text": [
      "     65/350      14.7G     0.4436     0.5329      1.138         47        640: 1\n",
      "                 Class     Images  Instances      Box(P          R      mAP50  m\n"
     ]
    },
    {
     "name": "stdout",
     "output_type": "stream",
     "text": [
      "                   all       2972       3744      0.782      0.787      0.795      0.621\n",
      "\n",
      "      Epoch    GPU_mem   box_loss   cls_loss   dfl_loss  Instances       Size\n"
     ]
    },
    {
     "name": "stderr",
     "output_type": "stream",
     "text": [
      "     66/350      14.7G     0.4373       0.52       1.13         51        640: 1\n",
      "                 Class     Images  Instances      Box(P          R      mAP50  m"
     ]
    },
    {
     "name": "stdout",
     "output_type": "stream",
     "text": [
      "                   all       2972       3744       0.77      0.791       0.79      0.616\n"
     ]
    },
    {
     "name": "stderr",
     "output_type": "stream",
     "text": [
      "\n"
     ]
    },
    {
     "name": "stdout",
     "output_type": "stream",
     "text": [
      "\n",
      "      Epoch    GPU_mem   box_loss   cls_loss   dfl_loss  Instances       Size\n"
     ]
    },
    {
     "name": "stderr",
     "output_type": "stream",
     "text": [
      "     67/350      14.7G     0.4423      0.537      1.134         46        640: 1\n",
      "                 Class     Images  Instances      Box(P          R      mAP50  m"
     ]
    },
    {
     "name": "stdout",
     "output_type": "stream",
     "text": [
      "                   all       2972       3744      0.772      0.783      0.788      0.614\n"
     ]
    },
    {
     "name": "stderr",
     "output_type": "stream",
     "text": [
      "\n"
     ]
    },
    {
     "name": "stdout",
     "output_type": "stream",
     "text": [
      "\n",
      "      Epoch    GPU_mem   box_loss   cls_loss   dfl_loss  Instances       Size\n"
     ]
    },
    {
     "name": "stderr",
     "output_type": "stream",
     "text": [
      "     68/350      14.7G     0.4369     0.5227       1.13         55        640: 1\n",
      "                 Class     Images  Instances      Box(P          R      mAP50  m"
     ]
    },
    {
     "name": "stdout",
     "output_type": "stream",
     "text": [
      "                   all       2972       3744       0.77      0.787      0.785      0.612\n"
     ]
    },
    {
     "name": "stderr",
     "output_type": "stream",
     "text": [
      "\n"
     ]
    },
    {
     "name": "stdout",
     "output_type": "stream",
     "text": [
      "\n",
      "      Epoch    GPU_mem   box_loss   cls_loss   dfl_loss  Instances       Size\n"
     ]
    },
    {
     "name": "stderr",
     "output_type": "stream",
     "text": [
      "     69/350      14.7G     0.4438     0.5214       1.13         55        640: 1\n",
      "                 Class     Images  Instances      Box(P          R      mAP50  m"
     ]
    },
    {
     "name": "stdout",
     "output_type": "stream",
     "text": [
      "                   all       2972       3744      0.767      0.788      0.784      0.612\n"
     ]
    },
    {
     "name": "stderr",
     "output_type": "stream",
     "text": [
      "\n"
     ]
    },
    {
     "name": "stdout",
     "output_type": "stream",
     "text": [
      "\n",
      "      Epoch    GPU_mem   box_loss   cls_loss   dfl_loss  Instances       Size\n"
     ]
    },
    {
     "name": "stderr",
     "output_type": "stream",
     "text": [
      "     70/350      14.7G     0.4376     0.5156       1.13         55        640: 1\n",
      "                 Class     Images  Instances      Box(P          R      mAP50  m"
     ]
    },
    {
     "name": "stdout",
     "output_type": "stream",
     "text": [
      "                   all       2972       3744       0.78      0.777      0.784      0.612\n"
     ]
    },
    {
     "name": "stderr",
     "output_type": "stream",
     "text": [
      "\n"
     ]
    },
    {
     "name": "stdout",
     "output_type": "stream",
     "text": [
      "\n",
      "      Epoch    GPU_mem   box_loss   cls_loss   dfl_loss  Instances       Size\n"
     ]
    },
    {
     "name": "stderr",
     "output_type": "stream",
     "text": [
      "     71/350      14.7G     0.4321     0.5078      1.126         48        640: 1\n",
      "                 Class     Images  Instances      Box(P          R      mAP50  m"
     ]
    },
    {
     "name": "stdout",
     "output_type": "stream",
     "text": [
      "                   all       2972       3744      0.776       0.78      0.784      0.611\n"
     ]
    },
    {
     "name": "stderr",
     "output_type": "stream",
     "text": [
      "\n"
     ]
    },
    {
     "name": "stdout",
     "output_type": "stream",
     "text": [
      "\n",
      "      Epoch    GPU_mem   box_loss   cls_loss   dfl_loss  Instances       Size\n"
     ]
    },
    {
     "name": "stderr",
     "output_type": "stream",
     "text": [
      "     72/350      14.7G        inf      0.514      1.129         62        640: 1\n",
      "                 Class     Images  Instances      Box(P          R      mAP50  m\n"
     ]
    },
    {
     "name": "stdout",
     "output_type": "stream",
     "text": [
      "                   all       2972       3744      0.774      0.781      0.783       0.61\n",
      "\n",
      "      Epoch    GPU_mem   box_loss   cls_loss   dfl_loss  Instances       Size\n"
     ]
    },
    {
     "name": "stderr",
     "output_type": "stream",
     "text": [
      "     73/350      14.7G     0.4326     0.4951      1.124         44        640: 1\n",
      "                 Class     Images  Instances      Box(P          R      mAP50  m\n"
     ]
    },
    {
     "name": "stdout",
     "output_type": "stream",
     "text": [
      "                   all       2972       3744      0.775      0.785      0.785      0.611\n",
      "\n",
      "      Epoch    GPU_mem   box_loss   cls_loss   dfl_loss  Instances       Size\n"
     ]
    },
    {
     "name": "stderr",
     "output_type": "stream",
     "text": [
      "     74/350      14.7G     0.4329      0.498      1.125         44        640: 1\n",
      "                 Class     Images  Instances      Box(P          R      mAP50  m\n"
     ]
    },
    {
     "name": "stdout",
     "output_type": "stream",
     "text": [
      "                   all       2972       3744      0.771      0.789      0.781       0.61\n",
      "\n",
      "      Epoch    GPU_mem   box_loss   cls_loss   dfl_loss  Instances       Size\n"
     ]
    },
    {
     "name": "stderr",
     "output_type": "stream",
     "text": [
      "     75/350      14.7G     0.4277     0.4894      1.117         47        640: 1\n",
      "                 Class     Images  Instances      Box(P          R      mAP50  m\n"
     ]
    },
    {
     "name": "stdout",
     "output_type": "stream",
     "text": [
      "                   all       2972       3744      0.771      0.785       0.78       0.61\n",
      "\n",
      "      Epoch    GPU_mem   box_loss   cls_loss   dfl_loss  Instances       Size\n"
     ]
    },
    {
     "name": "stderr",
     "output_type": "stream",
     "text": [
      "     76/350      14.7G     0.4258     0.4845      1.117         49        640: 1\n",
      "                 Class     Images  Instances      Box(P          R      mAP50  m\n"
     ]
    },
    {
     "name": "stdout",
     "output_type": "stream",
     "text": [
      "                   all       2972       3744      0.772      0.787       0.78      0.609\n",
      "\n",
      "      Epoch    GPU_mem   box_loss   cls_loss   dfl_loss  Instances       Size\n"
     ]
    },
    {
     "name": "stderr",
     "output_type": "stream",
     "text": [
      "     77/350      14.7G     0.4224     0.4775      1.116         51        640: 1\n",
      "                 Class     Images  Instances      Box(P          R      mAP50  m"
     ]
    },
    {
     "name": "stdout",
     "output_type": "stream",
     "text": [
      "                   all       2972       3744      0.773      0.785       0.78      0.608\n"
     ]
    },
    {
     "name": "stderr",
     "output_type": "stream",
     "text": [
      "\n"
     ]
    },
    {
     "name": "stdout",
     "output_type": "stream",
     "text": [
      "\n",
      "      Epoch    GPU_mem   box_loss   cls_loss   dfl_loss  Instances       Size\n"
     ]
    },
    {
     "name": "stderr",
     "output_type": "stream",
     "text": [
      "     78/350      14.7G     0.4286     0.4817      1.119         43        640: 1\n",
      "                 Class     Images  Instances      Box(P          R      mAP50  m"
     ]
    },
    {
     "name": "stdout",
     "output_type": "stream",
     "text": [
      "                   all       2972       3744      0.781      0.778      0.779      0.607\n"
     ]
    },
    {
     "name": "stderr",
     "output_type": "stream",
     "text": [
      "\n"
     ]
    },
    {
     "name": "stdout",
     "output_type": "stream",
     "text": [
      "\n",
      "      Epoch    GPU_mem   box_loss   cls_loss   dfl_loss  Instances       Size\n"
     ]
    },
    {
     "name": "stderr",
     "output_type": "stream",
     "text": [
      "     79/350      14.7G     0.4233      0.481      1.113         50        640: 1\n",
      "                 Class     Images  Instances      Box(P          R      mAP50  m"
     ]
    },
    {
     "name": "stdout",
     "output_type": "stream",
     "text": [
      "                   all       2972       3744      0.782      0.776      0.777      0.607\n"
     ]
    },
    {
     "name": "stderr",
     "output_type": "stream",
     "text": [
      "\n"
     ]
    },
    {
     "name": "stdout",
     "output_type": "stream",
     "text": [
      "\n",
      "      Epoch    GPU_mem   box_loss   cls_loss   dfl_loss  Instances       Size\n"
     ]
    },
    {
     "name": "stderr",
     "output_type": "stream",
     "text": [
      "     80/350      14.7G     0.4198     0.4672       1.11         49        640: 1\n",
      "                 Class     Images  Instances      Box(P          R      mAP50  m"
     ]
    },
    {
     "name": "stdout",
     "output_type": "stream",
     "text": [
      "                   all       2972       3744      0.772      0.781      0.778      0.607\n"
     ]
    },
    {
     "name": "stderr",
     "output_type": "stream",
     "text": [
      "\n"
     ]
    },
    {
     "name": "stdout",
     "output_type": "stream",
     "text": [
      "\n",
      "      Epoch    GPU_mem   box_loss   cls_loss   dfl_loss  Instances       Size\n"
     ]
    },
    {
     "name": "stderr",
     "output_type": "stream",
     "text": [
      "     81/350      14.7G     0.4165     0.4647      1.108         53        640: 1\n",
      "                 Class     Images  Instances      Box(P          R      mAP50  m"
     ]
    },
    {
     "name": "stdout",
     "output_type": "stream",
     "text": [
      "                   all       2972       3744      0.774      0.777       0.78      0.608\n"
     ]
    },
    {
     "name": "stderr",
     "output_type": "stream",
     "text": [
      "\n"
     ]
    },
    {
     "name": "stdout",
     "output_type": "stream",
     "text": [
      "\n",
      "      Epoch    GPU_mem   box_loss   cls_loss   dfl_loss  Instances       Size\n"
     ]
    },
    {
     "name": "stderr",
     "output_type": "stream",
     "text": [
      "     82/350      14.7G     0.4164      0.464      1.106         42        640: 1\n",
      "                 Class     Images  Instances      Box(P          R      mAP50  m"
     ]
    },
    {
     "name": "stdout",
     "output_type": "stream",
     "text": [
      "                   all       2972       3744      0.767      0.787      0.781      0.608\n"
     ]
    },
    {
     "name": "stderr",
     "output_type": "stream",
     "text": [
      "\n"
     ]
    },
    {
     "name": "stdout",
     "output_type": "stream",
     "text": [
      "\n",
      "      Epoch    GPU_mem   box_loss   cls_loss   dfl_loss  Instances       Size\n"
     ]
    },
    {
     "name": "stderr",
     "output_type": "stream",
     "text": [
      "     83/350      14.7G     0.4145     0.4573      1.108         52        640: 1\n",
      "                 Class     Images  Instances      Box(P          R      mAP50  m"
     ]
    },
    {
     "name": "stdout",
     "output_type": "stream",
     "text": [
      "                   all       2972       3744      0.771      0.786      0.777      0.606\n"
     ]
    },
    {
     "name": "stderr",
     "output_type": "stream",
     "text": [
      "\n"
     ]
    },
    {
     "name": "stdout",
     "output_type": "stream",
     "text": [
      "\n",
      "      Epoch    GPU_mem   box_loss   cls_loss   dfl_loss  Instances       Size\n"
     ]
    },
    {
     "name": "stderr",
     "output_type": "stream",
     "text": [
      "     84/350      14.7G     0.4153     0.4539      1.105         42        640: 1\n",
      "                 Class     Images  Instances      Box(P          R      mAP50  m"
     ]
    },
    {
     "name": "stdout",
     "output_type": "stream",
     "text": [
      "                   all       2972       3744      0.768      0.789      0.777      0.605\n"
     ]
    },
    {
     "name": "stderr",
     "output_type": "stream",
     "text": [
      "\n"
     ]
    },
    {
     "name": "stdout",
     "output_type": "stream",
     "text": [
      "\n",
      "      Epoch    GPU_mem   box_loss   cls_loss   dfl_loss  Instances       Size\n"
     ]
    },
    {
     "name": "stderr",
     "output_type": "stream",
     "text": [
      "     85/350      14.7G     0.4156     0.4504      1.104         49        640: 1\n",
      "                 Class     Images  Instances      Box(P          R      mAP50  m"
     ]
    },
    {
     "name": "stdout",
     "output_type": "stream",
     "text": [
      "                   all       2972       3744      0.771      0.785      0.774      0.604\n"
     ]
    },
    {
     "name": "stderr",
     "output_type": "stream",
     "text": [
      "\n"
     ]
    },
    {
     "name": "stdout",
     "output_type": "stream",
     "text": [
      "\n",
      "      Epoch    GPU_mem   box_loss   cls_loss   dfl_loss  Instances       Size\n"
     ]
    },
    {
     "name": "stderr",
     "output_type": "stream",
     "text": [
      "     86/350      14.7G     0.4085     0.4494      1.102         53        640: 1\n",
      "                 Class     Images  Instances      Box(P          R      mAP50  m"
     ]
    },
    {
     "name": "stdout",
     "output_type": "stream",
     "text": [
      "                   all       2972       3744      0.774       0.78      0.774      0.604\n"
     ]
    },
    {
     "name": "stderr",
     "output_type": "stream",
     "text": [
      "\n"
     ]
    },
    {
     "name": "stdout",
     "output_type": "stream",
     "text": [
      "\n",
      "      Epoch    GPU_mem   box_loss   cls_loss   dfl_loss  Instances       Size\n"
     ]
    },
    {
     "name": "stderr",
     "output_type": "stream",
     "text": [
      "     87/350      14.7G     0.4055     0.4422      1.101         43        640: 1\n",
      "                 Class     Images  Instances      Box(P          R      mAP50  m"
     ]
    },
    {
     "name": "stdout",
     "output_type": "stream",
     "text": [
      "                   all       2972       3744      0.769      0.784      0.773      0.602\n"
     ]
    },
    {
     "name": "stderr",
     "output_type": "stream",
     "text": [
      "\n"
     ]
    },
    {
     "name": "stdout",
     "output_type": "stream",
     "text": [
      "\n",
      "      Epoch    GPU_mem   box_loss   cls_loss   dfl_loss  Instances       Size\n"
     ]
    },
    {
     "name": "stderr",
     "output_type": "stream",
     "text": [
      "     88/350      14.7G     0.4086     0.4372      1.101         52        640: 1\n",
      "                 Class     Images  Instances      Box(P          R      mAP50  m"
     ]
    },
    {
     "name": "stdout",
     "output_type": "stream",
     "text": [
      "                   all       2972       3744      0.772      0.783      0.774      0.602\n"
     ]
    },
    {
     "name": "stderr",
     "output_type": "stream",
     "text": [
      "\n"
     ]
    },
    {
     "name": "stdout",
     "output_type": "stream",
     "text": [
      "\n",
      "      Epoch    GPU_mem   box_loss   cls_loss   dfl_loss  Instances       Size\n"
     ]
    },
    {
     "name": "stderr",
     "output_type": "stream",
     "text": [
      "     89/350      14.7G     0.4094     0.4366        1.1         37        640: 1\n",
      "                 Class     Images  Instances      Box(P          R      mAP50  m"
     ]
    },
    {
     "name": "stdout",
     "output_type": "stream",
     "text": [
      "                   all       2972       3744      0.771      0.787      0.776      0.602\n"
     ]
    },
    {
     "name": "stderr",
     "output_type": "stream",
     "text": [
      "\n"
     ]
    },
    {
     "name": "stdout",
     "output_type": "stream",
     "text": [
      "\n",
      "      Epoch    GPU_mem   box_loss   cls_loss   dfl_loss  Instances       Size\n"
     ]
    },
    {
     "name": "stderr",
     "output_type": "stream",
     "text": [
      "     90/350      14.7G     0.3984     0.4292      1.092         40        640: 1\n",
      "                 Class     Images  Instances      Box(P          R      mAP50  m"
     ]
    },
    {
     "name": "stdout",
     "output_type": "stream",
     "text": [
      "                   all       2972       3744      0.776      0.781      0.775      0.602\n"
     ]
    },
    {
     "name": "stderr",
     "output_type": "stream",
     "text": [
      "\n"
     ]
    },
    {
     "name": "stdout",
     "output_type": "stream",
     "text": [
      "\n",
      "      Epoch    GPU_mem   box_loss   cls_loss   dfl_loss  Instances       Size\n"
     ]
    },
    {
     "name": "stderr",
     "output_type": "stream",
     "text": [
      "     91/350      14.7G     0.4005     0.4308      1.092         55        640: 1\n",
      "                 Class     Images  Instances      Box(P          R      mAP50  m"
     ]
    },
    {
     "name": "stdout",
     "output_type": "stream",
     "text": [
      "                   all       2972       3744      0.771      0.783      0.774      0.601\n",
      "\u001b[34m\u001b[1mEarlyStopping: \u001b[0mTraining stopped early as no improvement observed in last 50 epochs. Best results observed at epoch 41, best model saved as best.pt.\n",
      "To update EarlyStopping(patience=50) pass a new patience value, i.e. `patience=300` or use `patience=0` to disable EarlyStopping.\n"
     ]
    },
    {
     "name": "stderr",
     "output_type": "stream",
     "text": [
      "\n"
     ]
    },
    {
     "name": "stdout",
     "output_type": "stream",
     "text": [
      "\n",
      "91 epochs completed in 7.554 hours.\n",
      "Optimizer stripped from runs/detect/train/weights/last.pt, 136.7MB\n",
      "Optimizer stripped from runs/detect/train/weights/best.pt, 136.7MB\n",
      "\n",
      "Validating runs/detect/train/weights/best.pt...\n",
      "Ultralytics YOLOv8.2.5 🚀 Python-3.8.18 torch-2.1.2+cu118 CUDA:0 (NVIDIA GeForce RTX 3090 Ti, 24214MiB)\n",
      "Model summary (fused): 268 layers, 68125494 parameters, 0 gradients, 257.4 GFLOPs\n"
     ]
    },
    {
     "name": "stderr",
     "output_type": "stream",
     "text": [
      "                 Class     Images  Instances      Box(P          R      mAP50  m\n"
     ]
    },
    {
     "name": "stdout",
     "output_type": "stream",
     "text": [
      "                   all       2972       3744      0.771      0.777      0.803      0.636\n",
      "               Opacity       2972       1974      0.639      0.567      0.623      0.288\n",
      "             NoOpacity       2972       1770      0.903      0.986      0.984      0.984\n",
      "Speed: 0.1ms preprocess, 16.1ms inference, 0.0ms loss, 0.8ms postprocess per image\n",
      "Results saved to \u001b[1mruns/detect/train\u001b[0m\n"
     ]
    }
   ],
   "source": [
    "#[SGD, Adam, Adamax, AdamW, NAdam, RAdam, RMSProp, auto]\n",
    "#cos_lr=False\n",
    "#augment=False\n",
    "from ultralytics import YOLO\n",
    "\n",
    "\n",
    "yolon='yolov8n.pt'\n",
    "yolos='yolov8s.pt'\n",
    "yolom='yolov8m.pt'\n",
    "yolol='yolov8l.pt'\n",
    "yolox='yolov8x.pt'\n",
    "yolopretrain='/home/jair/entrenamientos/n/train/weights/best.pt'\n",
    "\n",
    "# Carga modelo con pesos que le pasamos\n",
    "model = YOLO(yolox)  \n",
    "\n",
    "rsna640=\"/home/jair/COVID/rsna/yolo_train_data/rsna640opacity.yml\"\n",
    "rsna640C=\"/home/jair/COVID/rsna/yolo_train_data/rsna640opacity_sano.yml\"\n",
    "rsna1024=\"/home/jair/COVID/rsna/yolo_train_data/rsna1024.yml\"\n",
    "Xray14=\"/home/jair/COVID/NIHX14/datasets/yolo/ChestXray14.yml\"\n",
    "siimcovid=\"/home/jair/COVID/siimcovid/datasets/yolo/SIIMCovid.yml\"\n",
    "\n",
    "\n",
    "#Entrenando el modelo\n",
    "results=model.train(data=rsna640C, epochs=350, imgsz=640, device=0,patience=50,plots=True,batch=-1,optimizer='AdamW',cos_lr=False,augment=True,auto_augment='autoaugment',momentum=0.001,warmup_momentum=0.001,lr0=0.001,lrf=0.001)"
   ]
  },
  {
   "cell_type": "markdown",
   "id": "71facece-e46a-40b6-8fdd-8305d00171b5",
   "metadata": {},
   "source": [
    "<h3>Generar matrices de confusión para imágenes con recuadros delimitadores para opacidades y sin anotaciones para imágenes sin opacidades</h3>"
   ]
  },
  {
   "cell_type": "code",
   "execution_count": null,
   "id": "5b2f6a68-f49f-4603-9175-02b814a136f6",
   "metadata": {},
   "outputs": [],
   "source": [
    "#generar conteo reinterpretado de matrices de confusion\n",
    "import pandas as pd\n",
    "from ultralytics import YOLO\n",
    "from PIL import Image\n",
    "from tqdm import tqdm\n",
    "import seaborn as sns\n",
    "import matplotlib.pyplot as plt\n",
    "from sklearn.metrics import confusion_matrix\n",
    "\n",
    "mode='validation'\n",
    "model = YOLO('/home/jair/COVID/YOLO8/runs/detect/train/weights/best.pt')\n",
    "Sanos=pd.read_csv(\"/home/jair/COVID/rsna/csv_crean_retina_dataset/\"+mode+\"_sanos.csv\")\n",
    "S=list(Sanos['rutas'])\n",
    "fallos_s=0\n",
    "for ruta in tqdm(S):\n",
    "    rutam=ruta.replace('rsna640','rsna640opacity')\n",
    "    results=model(rutam,verbose=False)\n",
    "    \n",
    "    for r in results:\n",
    "        if len(r.boxes.xywh.tolist())!=0:\n",
    "            fallos_s=fallos_s+1\n",
    "TS=len(S)\n",
    "\n",
    "\n",
    "model = YOLO('/home/jair/COVID/YOLO8/runs/detect/train/weights/best.pt')\n",
    "Opacity=pd.read_csv(\"/home/jair/COVID/rsna/csv_crean_retina_dataset/\"+mode+\"_opacity.csv\")\n",
    "O=list(Opacity['rutas'])\n",
    "fallos_o=0\n",
    "for ruta in tqdm(O):\n",
    "    rutam=ruta.replace('rsna640','rsna640opacity')\n",
    "    results=model(rutam,verbose=False)\n",
    "    for r in results:\n",
    "        if len(r.boxes.xywh.tolist())==0:\n",
    "            fallos_o=fallos_o+1\n",
    "TO=len(O)"
   ]
  },
  {
   "cell_type": "code",
   "execution_count": null,
   "id": "f419dfed-f326-496a-97d8-f3cdd3a85767",
   "metadata": {},
   "outputs": [],
   "source": [
    "%matplotlib inline\n",
    "VP = TO-fallos_o\n",
    "FP = fallos_o\n",
    "FN = fallos_s\n",
    "VN = TS-fallos_s\n",
    "\n",
    "# Crear la matriz de confusión\n",
    "matriz_confusion = [[VP, FP],\n",
    "                    [FN, VN]]\n",
    "\n",
    "# Etiquetas para las clases\n",
    "clases = ['Opacidad', 'Sanos']\n",
    "\n",
    "# Configuración del heatmap con Seaborn\n",
    "sns.set(font_scale=1.2)  # Ajusta el tamaño de la fuente\n",
    "plt.figure(figsize=(10, 10))\n",
    "\n",
    "# Crear el heatmap con etiquetas personalizadas\n",
    "sns.heatmap(matriz_confusion, annot=True, fmt=\"d\", cmap=\"Blues\", annot_kws={\"size\": 16},xticklabels=clases, yticklabels=clases)\n",
    "\n",
    "# Configuración adicional\n",
    "plt.xlabel('Predicción')\n",
    "plt.ylabel('Realidad')\n",
    "plt.title('')\n",
    "\n",
    "# Mostrar el gráfico\n",
    "plt.savefig('/home/jair/COVID/YOLO8/runs/detect/train/'+mode+'.png')\n",
    "plt.show()"
   ]
  },
  {
   "cell_type": "markdown",
   "id": "9dbab1d7-3689-4a0e-bb0c-0461eb72aede",
   "metadata": {},
   "source": [
    "<h3>Generar matrices de confusión para imágenes con recuadros delimitadores para opacidades y recuadros que encierran cada pulmón para imágenes sin presenca de opacidades.</h3>"
   ]
  },
  {
   "cell_type": "code",
   "execution_count": null,
   "id": "6a00a4c5-9807-4568-b2ce-5a38ff66f640",
   "metadata": {},
   "outputs": [],
   "source": [
    "#calculando el numero total de opacidades:\n",
    "import pandas as pd\n",
    "from ultralytics import YOLO\n",
    "from PIL import Image\n",
    "from tqdm import tqdm\n",
    "import seaborn as sns\n",
    "import matplotlib.pyplot as plt\n",
    "from sklearn.metrics import confusion_matrix\n",
    "from ast import literal_eval\n",
    "\n",
    "#generemos las matrices por detección en imagen\n",
    "#(cuenta por recuadro cuantos son opacidades cuantos sanos y cuantos predicen bien)\n",
    "mode='validation'\n",
    "san=pd.read_csv(\"/home/jair/COVID/rsna/csv_crean_retina_dataset/\"+mode+'_sanos.csv')\n",
    "opa=pd.read_csv(\"/home/jair/COVID/rsna/csv_crean_retina_dataset/\"+mode+'_opacity.csv')\n",
    "todas=pd.read_csv(\"/home/jair/COVID/rsna/csv_crean_retina_dataset/class_opacity.csv\")\n",
    "\n",
    "nopacities=0\n",
    "for ruta in tqdm(opa['rutas']):\n",
    "    n=ruta.split('/')[-1].replace('.png','')\n",
    "    indice = todas.index[todas['id'] ==n]\n",
    "    n_bb=len(literal_eval(todas['bboxes'][indice[0]]))\n",
    "    nopacities=nopacities+n_bb\n",
    "\n",
    "print('total de opacidades en '+mode+' :', nopacities)\n",
    "\n",
    "#ver cantidad de enotaciones sanas por inagen (2 pues es 1 por pulmon)\n",
    "nimages=len(san['rutas'])\n",
    "print('total de anotaciones sanos en '+mode+' :', nimages*2)"
   ]
  },
  {
   "cell_type": "code",
   "execution_count": null,
   "id": "ec195a78-1b15-41ab-9a29-836b20b73d91",
   "metadata": {},
   "outputs": [],
   "source": [
    "#Los valores calculados:\n",
    "TotOpaTest=885\n",
    "TotOpaVal=1974"
   ]
  },
  {
   "cell_type": "code",
   "execution_count": 81,
   "id": "d26b8caf-daa7-4ad3-882d-0cfd4fa24cb8",
   "metadata": {},
   "outputs": [
    {
     "name": "stderr",
     "output_type": "stream",
     "text": [
      "100%|███████████████████████████████████████| 1770/1770 [00:41<00:00, 42.77it/s]\n",
      "100%|███████████████████████████████████████| 1202/1202 [00:29<00:00, 40.83it/s]\n"
     ]
    }
   ],
   "source": [
    "#generar conteo reinterpretado de matrices de confusion\n",
    "from ast import literal_eval\n",
    "import pandas as pd\n",
    "from ultralytics import YOLO\n",
    "from PIL import Image\n",
    "from tqdm import tqdm\n",
    "import seaborn as sns\n",
    "import matplotlib.pyplot as plt\n",
    "from sklearn.metrics import confusion_matrix\n",
    "\n",
    "mode='validation'\n",
    "model = YOLO('/home/jair/COVID/YOLO8/runs/detect/train/weights/best.pt')\n",
    "Sanos=pd.read_csv(\"/home/jair/COVID/rsna/csv_crean_retina_dataset/\"+mode+\"_sanos.csv\")\n",
    "S=list(Sanos['rutas'])\n",
    "TN=len(S)*2\n",
    "VN=0\n",
    "FN=0\n",
    "for ruta in tqdm(S):\n",
    "    rutam=ruta.replace('rsna640','rsna640opacity')\n",
    "    results=model(rutam,verbose=False)\n",
    "    for r in results:\n",
    "        pred=r.boxes.cls.tolist()\n",
    "        sc=r.boxes.conf.tolist()\n",
    "        if len(pred) == 2:\n",
    "            preds=list(set(pred))\n",
    "            if len(preds)== 1:\n",
    "                if preds[0]>=1:\n",
    "                    VN=VN+2\n",
    "        if len(pred)==1:\n",
    "            if pred[0]>=1:\n",
    "                    VN=VN+1\n",
    "        if len(pred)>2:\n",
    "            #formamos prod carteciano de etiqueta con su score\n",
    "            cart=zip(pred,sc)\n",
    "            #ordenamos prod carteciano acorde al score\n",
    "            cartord= sorted(cart, key=lambda x: x[1], reverse=True)\n",
    "            tuplas=list(cartord)\n",
    "            if tuplas[0][0]>= 1 and tuplas[1][0] >=1:\n",
    "                VN=VN+2\n",
    "            if tuplas[0][0]>=1 and tuplas[1][0] != 1:\n",
    "                VN=VN+1               \n",
    "FN=TN-VN\n",
    "\n",
    "model = YOLO('/home/jair/COVID/YOLO8/runs/detect/train/weights/best.pt')\n",
    "Opacity=pd.read_csv(\"/home/jair/COVID/rsna/csv_crean_retina_dataset/\"+mode+\"_opacity.csv\")\n",
    "O=list(Opacity['rutas'])\n",
    "todas=pd.read_csv(\"/home/jair/COVID/rsna/csv_crean_retina_dataset/class_opacity.csv\")\n",
    "\n",
    "if mode == 'test':\n",
    "    TP=885\n",
    "else:\n",
    "    TP=1974\n",
    "\n",
    "VP=0\n",
    "FP=0\n",
    "for ruta in tqdm(O):\n",
    "    rutam=ruta.replace('rsna640','rsna640opacity')\n",
    "    results=model(rutam,verbose=False)\n",
    "    n=ruta.split('/')[-1].replace('.png','')\n",
    "    indice = todas.index[todas['id'] ==n]\n",
    "    n_bb=len(literal_eval(todas['bboxes'][indice[0]]))\n",
    "    for r in results:\n",
    "        pred=r.boxes.cls.tolist()\n",
    "        sc=r.boxes.conf.tolist()\n",
    "        if len(pred) == n_bb:\n",
    "            Nceros = pred.count(0)\n",
    "            if Nceros == n_bb:\n",
    "                VP=VP+n_bb\n",
    "            if Nceros< n_bb:\n",
    "                #formamos prod carteciano de etiqueta con su score\n",
    "                cart=zip(pred,sc)\n",
    "                #ordenamos prod carteciano acorde al score\n",
    "                cartord= sorted(cart, key=lambda x: x[1], reverse=True)\n",
    "                tuplas=list(cartord)    \n",
    "                for i in range(Nceros):\n",
    "                    if tuplas[i][0]<=0 and tuplas[i+1][0]<=0:\n",
    "                        VP=VP+1\n",
    "                    if tuplas[i][0]<=0 and tuplas[i+1][0]>0:\n",
    "                        VP=VP+1\n",
    "                        break\n",
    "        \n",
    "        if len(pred)>0 and len(pred)<n_bb:\n",
    "            Nceros = pred.count(0)\n",
    "            Nunos=pred.count(1)\n",
    "\n",
    "            if Nunos == 0:\n",
    "                VP=VP+Nceros\n",
    "\n",
    "            if Nunos > 0:\n",
    "                #formamos prod carteciano de etiqueta con su score\n",
    "                cart=zip(pred,sc)\n",
    "                #ordenamos prod carteciano acorde al score\n",
    "                cartord= sorted(cart, key=lambda x: x[1], reverse=True)\n",
    "                tuplas=list(cartord)      \n",
    "                for i in range(len(pred)):\n",
    "                    if tuplas[i][0] <= 0 and tuplas[i+1][0]<=0:\n",
    "                        VP=VP+1\n",
    "                    if tuplas[i][0] <= 0 and tuplas[i+1][0]>0:\n",
    "                        VP=VP+1\n",
    "                        break\n",
    "        if len(pred)>n_bb:\n",
    "            Nceros = pred.count(0)\n",
    "            if Nceros >=1:\n",
    "                #formamos prod carteciano de etiqueta con su score\n",
    "                cart=zip(pred,sc)\n",
    "                #ordenamos prod carteciano acorde al score\n",
    "                cartord= sorted(cart, key=lambda x: x[1], reverse=True)\n",
    "                tuplas=list(cartord) \n",
    "                c=0\n",
    "                for i in range(n_bb):\n",
    "                    if tuplas[i][0] <= 0 and tuplas[i+1][0]<=0 and c<n_bb:\n",
    "                        VP=VP+1\n",
    "                        c=c+1\n",
    "                    if tuplas[i][0] <= 0 and tuplas[i+1][0]>0:\n",
    "                        VP=VP+1\n",
    "                        break\n",
    "        \n",
    "FP=TP-VP           "
   ]
  },
  {
   "cell_type": "code",
   "execution_count": 82,
   "id": "1615ecef-6300-463e-b026-c62026f542f6",
   "metadata": {},
   "outputs": [
    {
     "data": {
      "image/png": "[encoded data removed]",
      "text/plain": [
       "<Figure size 1000x1000 with 2 Axes>"
      ]
     },
     "metadata": {},
     "output_type": "display_data"
    }
   ],
   "source": [
    "%matplotlib inline\n",
    "\n",
    "\n",
    "# Crear la matriz de confusión\n",
    "matriz_confusion = [[VP, FP],\n",
    "                    [FN, VN]]\n",
    "\n",
    "# Etiquetas para las clases\n",
    "clases = ['Opacidad', 'Sanos']\n",
    "\n",
    "# Configuración del heatmap con Seaborn\n",
    "sns.set(font_scale=1.2)  # Ajusta el tamaño de la fuente\n",
    "plt.figure(figsize=(10, 10))\n",
    "\n",
    "# Crear el heatmap con etiquetas personalizadas\n",
    "sns.heatmap(matriz_confusion, annot=True, fmt=\"d\", cmap=\"Blues\", annot_kws={\"size\": 16},xticklabels=clases, yticklabels=clases)\n",
    "\n",
    "# Configuración adicional\n",
    "plt.xlabel('Predicción')\n",
    "plt.ylabel('Realidad')\n",
    "plt.title('')\n",
    "\n",
    "# Mostrar el gráfico\n",
    "plt.savefig('/home/jair/COVID/YOLO8/runs/detect/train/'+mode+'.png')\n",
    "plt.show()"
   ]
  },
  {
   "cell_type": "markdown",
   "id": "355430cc-af7e-4da4-b858-186307686274",
   "metadata": {},
   "source": [
    "<h3>Generar matrices de confusión para imágenes con recuadros delimitadores para opacidades y recuadros que encierran el contorno de la imagen para imágenes sin presenca de opacidades.</h3>"
   ]
  },
  {
   "cell_type": "code",
   "execution_count": 39,
   "id": "d7ab0d9f-892c-4294-bce9-59d3f6974e14",
   "metadata": {},
   "outputs": [
    {
     "name": "stderr",
     "output_type": "stream",
     "text": [
      "100%|███████████████████████████████████████| 1770/1770 [00:53<00:00, 33.04it/s]\n",
      "100%|███████████████████████████████████████| 1202/1202 [00:37<00:00, 32.05it/s]\n"
     ]
    }
   ],
   "source": [
    "#generar conteo reinterpretado de matrices de confusion\n",
    "from ast import literal_eval\n",
    "import pandas as pd\n",
    "from ultralytics import YOLO\n",
    "from PIL import Image\n",
    "from tqdm import tqdm\n",
    "import seaborn as sns\n",
    "import matplotlib.pyplot as plt\n",
    "from sklearn.metrics import confusion_matrix\n",
    "\n",
    "mode='validation'\n",
    "model = YOLO('/home/jair/COVID/YOLO8/runs/detect/train/weights/best.pt')\n",
    "Sanos=pd.read_csv(\"/home/jair/COVID/rsna/csv_crean_retina_dataset/\"+mode+\"_sanos.csv\")\n",
    "S=list(Sanos['rutas'])\n",
    "TN=len(S)\n",
    "VN=0\n",
    "FN=0\n",
    "for ruta in tqdm(S):\n",
    "    rutam=ruta.replace('rsna640','rsna640opacity')\n",
    "    results=model(rutam,verbose=False)\n",
    "    for r in results:\n",
    "        pred=r.boxes.cls.tolist()\n",
    "        if len(pred)>0:\n",
    "            sc=r.boxes.conf.tolist()\n",
    "            idx=sc.index(max(sc))\n",
    "            predmax=pred[idx]\n",
    "            if predmax >= 1:\n",
    "                VN=VN+1    \n",
    "            \n",
    "FN=TN-VN\n",
    "\n",
    "model = YOLO('/home/jair/COVID/YOLO8/runs/detect/train/weights/best.pt')\n",
    "Opacity=pd.read_csv(\"/home/jair/COVID/rsna/csv_crean_retina_dataset/\"+mode+\"_opacity.csv\")\n",
    "O=list(Opacity['rutas'])\n",
    "todas=pd.read_csv(\"/home/jair/COVID/rsna/csv_crean_retina_dataset/class_opacity.csv\")\n",
    "\n",
    "TP=len(O)\n",
    "VP=0\n",
    "FP=0\n",
    "\n",
    "for ruta in tqdm(O):\n",
    "    rutam=ruta.replace('rsna640','rsna640opacity')\n",
    "    results=model(rutam,verbose=False)\n",
    "    n=ruta.split('/')[-1].replace('.png','')\n",
    "    indice = todas.index[todas['id'] ==n]\n",
    "    n_bb=len(literal_eval(todas['bboxes'][indice[0]]))\n",
    "    for r in results:\n",
    "        pred=r.boxes.cls.tolist()\n",
    "        if len(pred)>0:\n",
    "            sc=r.boxes.conf.tolist()\n",
    "            idx=sc.index(max(sc))\n",
    "            predmax=pred[idx]\n",
    "            if predmax <= 0:\n",
    "                VP=VP+1       \n",
    "FP=TP-VP                               "
   ]
  },
  {
   "cell_type": "code",
   "execution_count": 40,
   "id": "de73a7b5-a878-4976-bae0-cc5115c6b2c1",
   "metadata": {},
   "outputs": [
    {
     "data": {
      "image/png": "[encoded data removed]",
      "text/plain": [
       "<Figure size 1000x1000 with 2 Axes>"
      ]
     },
     "metadata": {},
     "output_type": "display_data"
    }
   ],
   "source": [
    "%matplotlib inline\n",
    "\n",
    "# Crear la matriz de confusión\n",
    "matriz_confusion = [[VP, FP],\n",
    "                    [FN, VN]]\n",
    "\n",
    "# Etiquetas para las clases\n",
    "clases = ['Opacidad', 'Sanos']\n",
    "\n",
    "# Configuración del heatmap con Seaborn\n",
    "sns.set(font_scale=1.2)  # Ajusta el tamaño de la fuente\n",
    "plt.figure(figsize=(10, 10))\n",
    "\n",
    "# Crear el heatmap con etiquetas personalizadas\n",
    "sns.heatmap(matriz_confusion, annot=True, fmt=\"d\", cmap=\"Blues\", annot_kws={\"size\": 16},xticklabels=clases, yticklabels=clases)\n",
    "\n",
    "# Configuración adicional\n",
    "plt.xlabel('Predicción')\n",
    "plt.ylabel('Realidad')\n",
    "plt.title('')\n",
    "\n",
    "# Mostrar el gráfico\n",
    "plt.savefig('/home/jair/COVID/YOLO8/runs/detect/train/'+mode+'.png')\n",
    "plt.show()"
   ]
  },
  {
   "cell_type": "markdown",
   "id": "aab03f2b-a95d-4a19-94f9-bd732c406c8a",
   "metadata": {},
   "source": [
    "<h3>Generar conteos para matrices de confusión para Xray14</h3>"
   ]
  },
  {
   "cell_type": "code",
   "execution_count": null,
   "id": "a04dd93a-ab63-4b76-9460-6fb32ed6b12c",
   "metadata": {},
   "outputs": [],
   "source": [
    "mode='test'\n",
    "save-path=''\n",
    "test_csv='/home/jair/COVID/NIHX14/datasets/retinanet/640/'+mode+'.csv'\n",
    "info=pd.read_csv(test_csv)\n",
    "rutas=list(info['rutas'])\n",
    "labelsr=list(info['label'])\n",
    "\n",
    "EA=0\n",
    "CA=0\n",
    "        IA=0\n",
    "        NfA=0\n",
    "        NeA=0\n",
    "        NtA=0\n",
    "        MA=0\n",
    "        NA=0\n",
    "        AE=0\n",
    "        EE=0\n",
    "        CE=0\n",
    "        IE=0\n",
    "        NfE=0\n",
    "        NeE=0\n",
    "        NtE=0\n",
    "        ME=0\n",
    "        NE=0\n",
    "        AC=0\n",
    "        EC=0\n",
    "        CC=0\n",
    "        IC=0\n",
    "        NfC=0\n",
    "        NeC=0\n",
    "        NtC=0\n",
    "        MC=0\n",
    "        NC=0\n",
    "        AI=0\n",
    "        EI=0\n",
    "        CI=0\n",
    "        II=0\n",
    "        NfI=0\n",
    "        NeI=0\n",
    "        NtI=0\n",
    "        MI=0\n",
    "        NI=0\n",
    "        ANf=0\n",
    "        ENf=0\n",
    "        CNf=0\n",
    "        INf=0\n",
    "        NfNf=0\n",
    "        NeNf=0\n",
    "        NtNf=0\n",
    "        MNf=0\n",
    "        NNf=0\n",
    "        ANe=0\n",
    "        ENe=0\n",
    "        CNe=0\n",
    "        INe=0\n",
    "        NfNe=0\n",
    "        NeNe=0\n",
    "        NtNe=0\n",
    "        MNe=0\n",
    "        NNe=0\n",
    "        ANt=0\n",
    "        ENt=0\n",
    "        CNt=0\n",
    "        INt=0\n",
    "        NfNt=0\n",
    "        NeNt=0\n",
    "        NtNt=0\n",
    "        MNt=0\n",
    "        NNt=0\n",
    "        AM=0\n",
    "        EM=0\n",
    "        CM=0\n",
    "        IM=0\n",
    "        NfM=0\n",
    "        NeM=0\n",
    "        NtM=0\n",
    "        MM=0\n",
    "        NM=0\n",
    "        AN=0\n",
    "        EN=0\n",
    "        CN=0\n",
    "        IN=0\n",
    "        NfN=0\n",
    "        NeN=0\n",
    "        NtN=0\n",
    "        MN=0\n",
    "        NN=0\n",
    "\n",
    "model = YOLO('/home/jair/COVID/YOLO8/runs/detect/train/weights/best.pt')\n",
    "for ruta in tqdm(rutas):\n",
    "    results=model(ruta,verbose=False)\n",
    "    for r in results:\n",
    "        pred=r.boxes.cls.tolist()\n",
    "        if len(pred)>0:\n",
    "            sc=r.boxes.conf.tolist()\n",
    "            idx=sc.index(max(sc))\n",
    "            predmax=pred[idx]\n",
    "            if predmax == 0 and true_label == 'Atelectasis':\n",
    "                    AA=AA+1\n",
    "                if predmax == 0 and true_label == 'Effusion':\n",
    "                    EA=EA+1\n",
    "                if predmax == 0 and true_label == 'Cardiomegaly':\n",
    "                    CA=CA+1\n",
    "                if predmax == 0 and true_label == 'Infiltrate':\n",
    "                    IA=IA+1 \n",
    "                if predmax == 0 and true_label == 'No Finding':\n",
    "                    NfA=NfA+1\n",
    "                if predmax == 0 and true_label == 'Pneumonia':\n",
    "                    NeA=NeA+1 \n",
    "                if predmax == 0 and true_label == 'Pneumothorax':\n",
    "                    NtA=NtA+1\n",
    "                if predmax == 0 and true_label == 'Mass':\n",
    "                    MA=MA+1 \n",
    "                if predmax == 0 and true_label == 'Nodule':\n",
    "                    NA=NA+1\n",
    "\n",
    "                if predmax == 1 and true_label == 'Atelectasis':\n",
    "                    AE=AE+1\n",
    "                if predmax == 1 and true_label == 'Effusion':\n",
    "                    EE=EE+1\n",
    "                if predmax == 1 and true_label == 'Cardiomegaly':\n",
    "                    CE=CE+1\n",
    "                if predmax == 1 and true_label == 'Infiltrate':\n",
    "                    IE=IE+1 \n",
    "                if predmax == 1 and true_label == 'No Finding':\n",
    "                    NfE=NfE+1\n",
    "                if predmax == 1 and true_label == 'Pneumonia':\n",
    "                    NeE=NeE+1 \n",
    "                if predmax == 1 and true_label == 'Pneumothorax':\n",
    "                    NtE=NtE+1\n",
    "                if predmax == 1 and true_label == 'Mass':\n",
    "                    ME=ME+1 \n",
    "                if predmax == 1 and true_label == 'Nodule':\n",
    "                    NE=NE+1\n",
    "\n",
    "                if predmax == 2 and true_label == 'Atelectasis':\n",
    "                    AC=AC+1\n",
    "                if predmax == 2 and true_label == 'Effusion':\n",
    "                    EC=EC+1\n",
    "                if predmax == 2 and true_label == 'Cardiomegaly':\n",
    "                    CC=CC+1\n",
    "                if predmax == 2 and true_label == 'Infiltrate':\n",
    "                    IC=IC+1 \n",
    "                if predmax == 2 and true_label == 'No Finding':\n",
    "                    NfC=NfC+1\n",
    "                if predmax == 2 and true_label == 'Pneumonia':\n",
    "                    NeC=NeC+1 \n",
    "                if predmax == 2 and true_label == 'Pneumothorax':\n",
    "                    NtC=NtC+1\n",
    "                if predmax == 2 and true_label == 'Mass':\n",
    "                    MC=MC+1 \n",
    "                if predmax == 2 and true_label == 'Nodule':\n",
    "                    NC=NC+1\n",
    "\n",
    "\n",
    "                if predmax == 3 and true_label == 'Atelectasis':\n",
    "                    AI=AI+1\n",
    "                if predmax == 3 and true_label == 'Effusion':\n",
    "                    EI=EI+1\n",
    "                if predmax == 3 and true_label == 'Cardiomegaly':\n",
    "                    CI=CI+1\n",
    "                if predmax == 3 and true_label == 'Infiltrate':\n",
    "                    II=II+1 \n",
    "                if predmax == 3 and true_label == 'No Finding':\n",
    "                    NfI=NfI+1\n",
    "                if predmax == 3 and true_label == 'Pneumonia':\n",
    "                    NeI=NeI+1 \n",
    "                if predmax == 3 and true_label == 'Pneumothorax':\n",
    "                    NtI=NtI+1\n",
    "                if predmax == 3 and true_label == 'Mass':\n",
    "                    MI=MI+1 \n",
    "                if predmax == 3 and true_label == 'Nodule':\n",
    "                    NI=NI+1\n",
    "\n",
    "\n",
    "                if predmax == 4 and true_label == 'Atelectasis':\n",
    "                    ANf=ANf+1\n",
    "                if predmax == 4 and true_label == 'Effusion':\n",
    "                    ENfENf+1\n",
    "                if predmax == 4 and true_label == 'Cardiomegaly':\n",
    "                    CNf=CNf+1\n",
    "                if predmax == 4 and true_label == 'Infiltrate':\n",
    "                    INf=INf+1 \n",
    "                if predmax == 4 and true_label == 'No Finding':\n",
    "                    NfNf=NfNf+1\n",
    "                if predmax == 4 and true_label == 'Pneumonia':\n",
    "                    NeNf=NeNf+1 \n",
    "                if predmax == 4 and true_label == 'Pneumothorax':\n",
    "                    NtNf=NtNf+1\n",
    "                if predmax == 4 and true_label == 'Mass':\n",
    "                    MNf=MNf+1 \n",
    "                if predmax == 4 and true_label == 'Nodule':\n",
    "                    NNf=NNf+1\n",
    "\n",
    "\n",
    "                if predmax == 5 and true_label == 'Atelectasis':\n",
    "                    ANe=ANe+1\n",
    "                if predmax == 5 and true_label == 'Effusion':\n",
    "                    ENe=ENe+1\n",
    "                if predmax == 5 and true_label == 'Cardiomegaly':\n",
    "                    CNe=CNe+1\n",
    "                if predmax == 5 and true_label == 'Infiltrate':\n",
    "                    INe=INe+1 \n",
    "                if predmax == 5 and true_label == 'No Finding':\n",
    "                    NfNe=NfNe+1\n",
    "                if predmax == 5 and true_label == 'Pneumonia':\n",
    "                    NeNe=NeNe+1 \n",
    "                if predmax == 5 and true_label == 'Pneumothorax':\n",
    "                    NtNe=NtNe+1\n",
    "                if predmax == 5 and true_label == 'Mass':\n",
    "                    MNe=MNe+1 \n",
    "                if predmax == 5 and true_label == 'Nodule':\n",
    "                    NNe=NNe+1\n",
    "\n",
    "\n",
    "                if predmax == 6 and true_label == 'Atelectasis':\n",
    "                    ANt=ANt+1\n",
    "                if predmax == 6 and true_label == 'Effusion':\n",
    "                    ENt=ENt+1\n",
    "                if predmax == 6 and true_label == 'Cardiomegaly':\n",
    "                    CNt=CNt+1\n",
    "                if predmax == 6 and true_label == 'Infiltrate':\n",
    "                    INt=INt+1 \n",
    "                if predmax == 6 and true_label == 'No Finding':\n",
    "                    NfNt=NfNt+1\n",
    "                if predmax == 6 and true_label == 'Pneumonia':\n",
    "                    NeNt=NeNt+1 \n",
    "                if predmax == 6 and true_label == 'Pneumothorax':\n",
    "                    NtNt=NtNt+1\n",
    "                if predmax == 6 and true_label == 'Mass':\n",
    "                    MNt=MNt+1 \n",
    "                if predmax == 6 and true_label == 'Nodule':\n",
    "                    NNt=NNt+1\n",
    "\n",
    "\n",
    "                if predmax == 7 and true_label == 'Atelectasis':\n",
    "                    AM=AM+1\n",
    "                if predmax == 7 and true_label == 'Effusion':\n",
    "                    EM=EM+1\n",
    "                if predmax == 7 and true_label == 'Cardiomegaly':\n",
    "                    CM=CM+1\n",
    "                if predmax == 7 and true_label == 'Infiltrate':\n",
    "                    IM=IM+1 \n",
    "                if predmax == 7 and true_label == 'No Finding':\n",
    "                    NfM=NfM+1\n",
    "                if predmax == 7 and true_label == 'Pneumonia':\n",
    "                    NeM=NeM+1 \n",
    "                if predmax == 7 and true_label == 'Pneumothorax':\n",
    "                    NtM=NtM+1\n",
    "                if predmax == 7 and true_label == 'Mass':\n",
    "                    MM=MM+1 \n",
    "                if predmax == 7 and true_label == 'Nodule':\n",
    "                    NM=NM+1\n",
    "\n",
    "\n",
    "                if predmax == 8 and true_label == 'Atelectasis':\n",
    "                    AN=AN+1\n",
    "                if predmax == 8 and true_label == 'Effusion':\n",
    "                    EN=EN+1\n",
    "                if predmax == 8 and true_label == 'Cardiomegaly':\n",
    "                    CN=CN+1\n",
    "                if predmax == 8 and true_label == 'Infiltrate':\n",
    "                    IN=IN+1 \n",
    "                if predmax == 8 and true_label == 'No Finding':\n",
    "                    NfN=NfN+1\n",
    "                if predmax == 8 and true_label == 'Pneumonia':\n",
    "                    NeN=NeN+1 \n",
    "                if predmax == 8 and true_label == 'Pneumothorax':\n",
    "                    NtN=NtN+1\n",
    "                if predmax == 8 and true_label == 'Mass':\n",
    "                    MN=MN+1 \n",
    "                if predmax == 8 and true_label == 'Nodule':\n",
    "                    NN=NN+1\n",
    "\n",
    "        matriz_confusion = [[AA,EA,CA,IA,NfA,NeA,NtA,MA,NA],[AE,EE,CE,IE,NfE,NeE,NtE,ME,NE],[AC,EC,CC,IC,NfC,NeC,NtC,MC,NC],[AI,EI,CI,II,NfI,NeI,NtI,MI,NI],[ANf,ENf,CNf,INf,NfNf,NeNf,NtNf,MNf,NNf],[ANe,ENe,CNe,INe,NfNe,NeNe,NtNe,MNe,NNe],[ANt,ENt,CNt,INt,NfNt,NeN,NtNt,MNt,NNt],[AM,EM,CM,IM,NfM,NeM,NtM,MM,NM],[AN,EN,CN,IN,NfN,NeN,NtN,MN,NN]]\n",
    "    \n",
    "        clases = ['A', 'E','C','I','Nf','Ne','Nt','M','N']  \n",
    "        sns.set(font_scale=1.2)  # Ajusta el tamaño de la fuente\n",
    "        plt.figure(figsize=(50, 50))\n",
    "        sns.heatmap(matriz_confusion, annot=True, fmt=\"d\", cmap=\"Blues\", annot_kws={\"size\": 16},xticklabels=clases, yticklabels=clases)\n",
    "        plt.xlabel('Predicción')\n",
    "        plt.ylabel('Realidad')\n",
    "        plt.title('')\n",
    "        plt.savefig(save_path+mode+'.png')\n",
    "    "
   ]
  },
  {
   "cell_type": "markdown",
   "id": "a416dceb-98a8-4a35-9e7a-8daba1564ab6",
   "metadata": {},
   "source": [
    "<h3>Generar conteos para matrices de confusión para SIIM</h3>"
   ]
  },
  {
   "cell_type": "code",
   "execution_count": null,
   "id": "746a5439-d0c8-4240-a1e4-1eb4e4cfd3b9",
   "metadata": {},
   "outputs": [],
   "source": [
    "mode='test'\n",
    "\n",
    "test_csv='/home/jair/COVID/siimcovid/datasets/retinanet/'+mode+'.csv'\n",
    "info=pd.read_csv(test_csv)\n",
    "rutas=list(info['rutas'])\n",
    "labelsr=list(info['label'])\n",
    "save-path=''\n",
    "TT=0\n",
    "TN=0\n",
    "TI=0\n",
    "TA=0\n",
    "NT=0\n",
    "NN=0\n",
    "NI=0\n",
    "NA=0\n",
    "IT=0\n",
    "IN=0\n",
    "II=0\n",
    "IA=0\n",
    "AT=0\n",
    "AN=0\n",
    "AI=0\n",
    "AA=0 \n",
    "\n",
    "model = YOLO('/home/jair/COVID/YOLO8/runs/detect/train/weights/best.pt')\n",
    "for ruta in tqdm(rutas):\n",
    "    results=model(ruta,verbose=False)\n",
    "    for r in results:\n",
    "        pred=r.boxes.cls.tolist()\n",
    "        if len(pred)>0:\n",
    "            sc=r.boxes.conf.tolist()\n",
    "            idx=sc.index(max(sc))\n",
    "            predmax=pred[idx]\n",
    "            if predmax == 0 and true_label == 'Typical Appearance':\n",
    "                TT=TT+1\n",
    "            if predmax == 0 and true_label == 'Negative for Pneumonia':\n",
    "                TN=TN+1\n",
    "            if predmax == 0 and true_label == 'Indeterminate Appearance':\n",
    "                TI=TI+1\n",
    "            if predmax == 0 and true_label == 'Atypical Appearance':\n",
    "                TA=TA+1 \n",
    "                \n",
    "\n",
    "            if predmax == 1 and true_label == 'Typical Appearance':\n",
    "                NT=NT+1\n",
    "            if predmax == 1 and true_label == 'Negative for Pneumonia':\n",
    "                NN=NN+1\n",
    "            if predmax == 1 and true_label == 'Indeterminate Appearance':\n",
    "                NI=NI+1\n",
    "            if predmax == 1 and true_label == 'Atypical Appearance':\n",
    "                NA=NA+1 \n",
    "                \n",
    "\n",
    "            if predmax == 2 and true_label == 'Typical Appearance':\n",
    "                IT=IT+1\n",
    "            if predmax == 2 and true_label == 'Negative for Pneumonia':\n",
    "                IN=IN+1\n",
    "            if predmax == 2 and true_label == 'Indeterminate Appearance':\n",
    "                II=II+1\n",
    "            if predmax == 2 and true_label == 'Atypical Appearance':\n",
    "                IA=IA+1 \n",
    "                \n",
    "\n",
    "\n",
    "            if predmax == 3 and true_label == 'Typical Appearance':\n",
    "                AT=AT+1\n",
    "            if predmax == 3 and true_label == 'Negative for Pneumonia':\n",
    "                AN=AN+1\n",
    "            if predmax == 3 and true_label == 'Indeterminate Appearance':\n",
    "                AI=AI+1\n",
    "            if predmax == 3 and true_label == 'Atypical Appearance':\n",
    "                AA=AA+1 \n",
    "\n",
    "matriz_confusion = [[AA,EA,CA,IA,NfA,NeA,NtA,MA,NA],[AE,EE,CE,IE,NfE,NeE,NtE,ME,NE],[AC,EC,CC,IC,NfC,NeC,NtC,MC,NC],[AI,EI,CI,II,NfI,NeI,NtI,MI,NI],[ANf,ENf,CNf,INf,NfNf,NeNf,NtNf,MNf,NNf],[ANe,ENe,CNe,INe,NfNe,NeNe,NtNe,MNe,NNe],[ANt,ENt,CNt,INt,NfNt,NeN,NtNt,MNt,NNt],[AM,EM,CM,IM,NfM,NeM,NtM,MM,NM],[AN,EN,CN,IN,NfN,NeN,NtN,MN,NN]]\n",
    "\n",
    "clases = ['A', 'E','C','I','Nf','Ne','Nt','M','N']  \n",
    "sns.set(font_scale=1.2)  # Ajusta el tamaño de la fuente\n",
    "plt.figure(figsize=(50, 50))\n",
    "sns.heatmap(matriz_confusion, annot=True, fmt=\"d\", cmap=\"Blues\", annot_kws={\"size\": 16},xticklabels=clases, yticklabels=clases)\n",
    "plt.xlabel('Predicción')\n",
    "plt.ylabel('Realidad')\n",
    "plt.title('')\n",
    "plt.savefig(save_path+mode+'.png')"
   ]
  },
  {
   "cell_type": "markdown",
   "id": "4ca81b2d-dbfc-47b7-b04c-f26674d53e8e",
   "metadata": {},
   "source": [
    "<h1>Visualizando anotaciones originales para imagen especifica<h1>"
   ]
  },
  {
   "cell_type": "code",
   "execution_count": 1,
   "id": "66b75e4c-e81f-4d00-99b2-41b753731cb5",
   "metadata": {},
   "outputs": [
    {
     "ename": "IndentationError",
     "evalue": "expected an indented block after 'if' statement on line 40 (2066867510.py, line 42)",
     "output_type": "error",
     "traceback": [
      "\u001b[0;36m  Cell \u001b[0;32mIn[1], line 42\u001b[0;36m\u001b[0m\n\u001b[0;31m    data_img= data.loc[data['id'] == imagen_name.replace('.png','')]\u001b[0m\n\u001b[0m    ^\u001b[0m\n\u001b[0;31mIndentationError\u001b[0m\u001b[0;31m:\u001b[0m expected an indented block after 'if' statement on line 40\n"
     ]
    }
   ],
   "source": [
    "from PIL import Image\n",
    "import numpy as np\n",
    "import matplotlib.pyplot as plt\n",
    "import matplotlib.patches as patches\n",
    "from ultralytics import YOLO\n",
    "import panadas as pd\n",
    "from ast import literal_eval\n",
    "import os\n",
    "\n",
    "\n",
    "def yolon_to_xywh(bb,scale):\n",
    "    x=bb[0]*scale-bb[2]*scale/2\n",
    "    y=bb[1]*scale-bb[3]*scale/2\n",
    "    wp=bb[2]*scale\n",
    "    hp=bb[3]*scale\n",
    "    return [x, y, wp, hp]\n",
    "\n",
    "\n",
    "\n",
    "\n",
    "\n",
    "#conjunto utilizado\n",
    "conj='RSNAS' #RSNAS,RSNAI,RSNAC,Xray14,SIIM\n",
    "\n",
    "#imagen que queremos predecir\n",
    "imagen_name='dc3f50d6-3e8c-4c5b-814b-3f2043165556.png'\n",
    "\n",
    "#abrimos imagen\n",
    "imagen = Image.open(rt+imagen_name)\n",
    "\n",
    "# Convierte la imagen a un arreglo NumPy\n",
    "imagen_array = np.array(imagen)\n",
    "\n",
    "#tamaño de imagen (cuadrada)\n",
    "scale=640\n",
    "\n",
    "bboxes=[]\n",
    "#para RSNA con imagenes que tienen etiquetas de solo opacidad\n",
    "if conj=='RSNAS':\n",
    "    rl='/home/jair/COVID/rsna/datasets/opacity_labels_yolo/labels/test/'\n",
    "    #raiz donde estan las imagens de prueba\n",
    "    rt='/home/jair/COVID/rsna/datasets/rsna640opacity/images/test/'\n",
    "    \n",
    "#para RSNA con imagenes con etiquetas de opacidad y pulmon individual\n",
    "if conj=='RSNAI':\n",
    "    rl='/home/jair/COVID/rsna/datasets/comb_labels_yolo/pulmones_individuales/labels/test/'\n",
    "    #raiz donde estan las imagens de prueba\n",
    "    rt='/home/jair/COVID/rsna/datasets/rsna640opacity/images/test/'\n",
    "\n",
    "#para RSNA con imagenes con etiquetas de opacidad e imagen completa\n",
    "if conj=='RSNAC':\n",
    "    rl='/home/jair/COVID/rsna/datasets/comb_labels_yolo/imagen_completa/labels/test/'\n",
    "    #raiz donde estan las imagens de prueba\n",
    "    rt='/home/jair/COVID/rsna/datasets/rsna640opacity/images/test/'\n",
    "\n",
    "#para Xray14 con imagenes con etiquetas de opacidad e imagen completa\n",
    "if conj=='Xray14':\n",
    "    rl='/home/jair/COVID/NIHX14/datasets/yolo/640/labels/test/'\n",
    "    #raiz donde estan las imagens de prueba\n",
    "    rt='/home/jair/COVID/NIHX14/datasets/yolo/640/images/test/'\n",
    "    \n",
    "#para SIIMCOVID con imagenes con etiquetas de opacidad e imagen completa\n",
    "if conj=='SIIM':\n",
    "    rl='/home/jair/COVID/siimcovid/datasets/yolo/labels/test/'\n",
    "    #raiz donde estan las imagens de prueba\n",
    "    rt='/home/jair/COVID/siimcovid/datasets/yolo/images/test/'\n",
    "\n",
    "anotation=rl+imagen_name.replace('png','txt')\n",
    "if os.path.exists(anotation):\n",
    "    with open(anotation, 'r') as archivo_txt:\n",
    "        for linea in archivo_txt:\n",
    "            partes = linea.split()\n",
    "            valores = [float(valor) for valor in partes[1:]]\n",
    "            bboxes.append(valores)          \n",
    "                \n",
    "#muestra anotaciones de la imagen    \n",
    "fig, ax= plt.subplots(1, 1, figsize=(8, 8), facecolor='w', edgecolor='b')\n",
    "\n",
    "if len(bboxes)>0:\n",
    "    for bb in bboxes:\n",
    "        #convierte bbox de formato yolo a xywh\n",
    "        bbp=yolon_to_xywh(bb,scale)\n",
    "        #dibuja recuadros\n",
    "        patch = ax.add_patch(patches.Rectangle((bbp[0],bbp[1]),bbp[2],bbp[3],fill=False,edgecolor='red',lw=2))\n",
    "        \n",
    "ax.imshow(imagen_array)"
   ]
  },
  {
   "cell_type": "markdown",
   "id": "66a56468-d4e7-404e-9e54-e228ab58f06c",
   "metadata": {},
   "source": [
    "<h1>Visualizando predicciones del modelo para la imagen.</h1> "
   ]
  },
  {
   "cell_type": "code",
   "execution_count": null,
   "id": "734219c3-880a-4872-b959-359323c73a2f",
   "metadata": {},
   "outputs": [],
   "source": [
    "#ruta de pesos del modelo entrenado\n",
    "model_path='/home/jair/entrenamientos/n/train/weights'\n",
    "model = YOLO(model_path)\n",
    "\n",
    "imagen_path=rt+imagen_name\n",
    "\n",
    "#lista de predicicones\n",
    "results = model(imagen_path)  \n",
    "\n",
    "\n",
    "# Mostrando resultados\n",
    "for r in results:\n",
    "    print(r.boxes.cls)\n",
    "    im_array = r.plot() \n",
    "    im = Image.fromarray(im_array[..., ::-1]) \n",
    "    im.show() "
   ]
  }
 ],
 "metadata": {
  "kernelspec": {
   "display_name": "Python 3 (ipykernel)",
   "language": "python",
   "name": "python3"
  },
  "language_info": {
   "codemirror_mode": {
    "name": "ipython",
    "version": 3
   },
   "file_extension": ".py",
   "mimetype": "text/x-python",
   "name": "python",
   "nbconvert_exporter": "python",
   "pygments_lexer": "ipython3",
   "version": "3.8.18"
  }
 },
 "nbformat": 4,
 "nbformat_minor": 5
}
