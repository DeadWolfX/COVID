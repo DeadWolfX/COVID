{
 "cells": [
  {
   "cell_type": "markdown",
   "metadata": {},
   "source": [
    "# Data Augmentation For Object Detection\n",
    "\n",
    "This notebook serves as general manual to using this codebase. We cover all the major augmentations, as well as ways to combine them. "
   ]
  },
  {
   "cell_type": "code",
   "execution_count": 81,
   "metadata": {},
   "outputs": [],
   "source": [
    "from data_aug.data_aug import *\n",
    "from data_aug.bbox_util import *\n",
    "import numpy as np \n",
    "import cv2 \n",
    "import matplotlib.pyplot as plt \n",
    "import pickle as pkl\n",
    "import random\n",
    "from skimage import io\n",
    "import pandas as pd\n",
    "from tqdm import tqdm\n",
    "from ast import literal_eval\n",
    "import os\n",
    "%matplotlib inline"
   ]
  },
  {
   "cell_type": "markdown",
   "metadata": {},
   "source": [
    "Estos códigos se corren y utilizan como lo indica el autor original, el repositorio para instalarse se puede consultar en:\n",
    "\n",
    "https://github.com/Paperspace/DataAugmentationForObjectDetection"
   ]
  },
  {
   "cell_type": "markdown",
   "metadata": {},
   "source": [
    "## Storage Format \n",
    "\n",
    "First things first, we define how the storage formats required for images to work. \n",
    "1. **The Image**: A OpenCV numpy array, of shape *(H x W x C)*. \n",
    "2. **Annotations**: A numpy array of shape *N x 5* where *N* is the number of objects, one represented by each row. 5 columns represent the top-left x-coordinate, top-left y-coordinate, bottom-right x-coordinate, bottom-right y-coordinate, and the class of the object. "
   ]
  },
  {
   "cell_type": "code",
   "execution_count": null,
   "metadata": {},
   "outputs": [],
   "source": [
    "img = cv2.imread(\"messi.jpg\")[:,:,::-1]   #opencv loads images in bgr. the [:,:,::-1] does bgr -> rgb\n",
    "bboxes = np.array([[x1,y1,x2,y2,c],...,[x1,y1,x2,y2,c]])"
   ]
  },
  {
   "cell_type": "markdown",
   "metadata": {},
   "source": [
    "You can use the function `draw_rect` to plot the bounding boxes on an image. "
   ]
  },
  {
   "cell_type": "code",
   "execution_count": null,
   "metadata": {},
   "outputs": [],
   "source": [
    "plotted_img = draw_rect(img, bboxes)\n",
    "plt.imshow(plotted_img)\n",
    "plt.show()"
   ]
  },
  {
   "cell_type": "markdown",
   "metadata": {},
   "source": [
    "Now, we can get started with our image augmentations. The first one is **Horizontal Flipping**. The function takes one arguement, *p* which is the probability that the image will be flipped. "
   ]
  },
  {
   "cell_type": "markdown",
   "metadata": {},
   "source": [
    "**Scaling**. Scales the image. If the argument *diff* is True, then the image is scaled with different values in the vertical and the horizontal directions, i.e. aspect ratio is not maintained. \n",
    "\n",
    "If the first argument is a float, then the scaling factors for both x and y directions are randomly sampled from *(- arg, arg)*. Otherwise, you can specify a tuple for this range."
   ]
  },
  {
   "cell_type": "markdown",
   "metadata": {},
   "source": [
    "**Translation**. Translates the image. If the argument *diff* is True, then the image is translated with different values in the vertical and the horizontal directions.\n",
    "\n",
    "If the first argument is a float, then the translating factors for both x and y directions are randomly sampled from *(- arg, arg)*. Otherwise, you can specify a tuple for this range."
   ]
  },
  {
   "cell_type": "markdown",
   "metadata": {},
   "source": [
    "**Rotation**. Rotates the image. \n",
    "\n",
    "If the first argument is a int, then the rotating angle, in degrees, is sampled from *(- arg, arg)*. Otherwise, you can specify a tuple for this range."
   ]
  },
  {
   "cell_type": "markdown",
   "metadata": {},
   "source": [
    "**Shearing**. Sheares the image horizontally\n",
    "\n",
    "If the first argument is a float, then the shearing factor is sampled from *(- arg, arg)*. Otherwise, you can specify a tuple for this range."
   ]
  },
  {
   "cell_type": "markdown",
   "metadata": {},
   "source": [
    "**Resizing**.  Resizes the image to square dimensions while keeping the aspect ratio constant.\n",
    "\n",
    "The argument to this augmentation is the side of the square."
   ]
  },
  {
   "cell_type": "markdown",
   "metadata": {},
   "source": [
    "<h3>Aumento de datos para SIIM</h3>"
   ]
  },
  {
   "cell_type": "code",
   "execution_count": 151,
   "metadata": {},
   "outputs": [],
   "source": [
    "#transformaciones de formato\n",
    "def xywh_yolo(bb,size):\n",
    "    cx=bb[0]+(bb[2]/2)\n",
    "    cy=bb[1]+(bb[3]/2)\n",
    "    xc=cx/size\n",
    "    yc=cy/size\n",
    "    wc=bb[2]/size\n",
    "    hc=bb[3]/size\n",
    "    return [xc,yc,wc,hc]\n",
    "\n",
    "def yolon_to_xywh(bb,size):\n",
    "    x=bb[0]*size-bb[2]*size/2\n",
    "    y=bb[1]*size-bb[3]*size/2\n",
    "    wp=bb[2]*size\n",
    "    hp=bb[3]*size\n",
    "    return [x, y, wp, hp]\n",
    "\n",
    "def xywh_xiyixfyf(bbox):\n",
    "    x1=bbox[0]\n",
    "    y1=bbox[1]\n",
    "    x2=bbox[0]+bbox[2]\n",
    "    y2=bbox[1]+bbox[3]\n",
    "    return [x1,y1,x2,y2]\n",
    "\n",
    "def xiyixfyf_xywh(bbox):\n",
    "    x = bbox[0]\n",
    "    y = bbox[1]\n",
    "    w = abs(bbox[2] - bbox[0])\n",
    "    h = abs(bbox[3] - bbox[1])\n",
    "    return [x, y, w, h]\n",
    "\n",
    "def txt_bboxes(ruta):\n",
    "    bboxes = []\n",
    "    with open(ruta, 'r') as archivo:\n",
    "        for linea in archivo:\n",
    "            numeros = linea.strip().split()  # Dividir la línea en números\n",
    "            bboxes.append([float(num) for num in numeros])  # Convertir números a enteros y añadir a la lista de listas\n",
    "    return bboxes\n",
    "\n",
    "\n",
    "#aplica transformaciones y guarda imagenes y anotaciones\n",
    "\n",
    "#aplicando una escala\n",
    "def escale_img(img,bboxes_format,gene):\n",
    "    scale= random.uniform(0.2, 0.4)\n",
    "    img_, bboxes_ = RandomScale(scale, diff = True)(img.copy(), bboxes_format.copy())\n",
    "    \n",
    "    if gene=='yolo': \n",
    "        for bbox in bboxes_.tolist():\n",
    "            bb=bbox[:-1]\n",
    "            ann=int(bbox[4])\n",
    "            bbf=xiyixfyf_xywh(bb)\n",
    "            bby=xywh_yolo(bbf,640)\n",
    "            with open(root_dest_img.replace('images','labels')+name_img.replace('.png','_scaled.txt'), 'a') as file:\n",
    "                file.write(str(ann)+' '+str(bby[0])+' '+str(bby[1])+' '+str(bby[2])+' '+str(bby[3])+'\\n')\n",
    "        \n",
    "    else:\n",
    "        xs=[]\n",
    "        ys=[]\n",
    "        xfs=[]\n",
    "        yfs=[]\n",
    "        c=[]\n",
    "        n=[]\n",
    "        io.imsave(root_dest_img+name_img.replace('.png','_scaled.png'), img_)\n",
    "        for bbox in bboxes_.tolist():\n",
    "            bb=bbox[:-1]\n",
    "            ann=int(bbox[4])\n",
    "            xs.append(int(bb[0]))\n",
    "            ys.append(int(bb[1]))\n",
    "            xfs.append(int(bb[2]))\n",
    "            yfs.append(int(bb[3]))\n",
    "            c.append(ann)\n",
    "            n.append(root_dest_img+name_img.replace('.png','_scaled.png'))\n",
    "        \n",
    "        return xs,ys,xfs,yfs,c,n\n",
    "            \n",
    "    \n",
    "    \n",
    "        \n",
    "\n",
    "#aplicando traslación\n",
    "def translate_img(img,bboxes_format,gene):\n",
    "    translate= random.uniform(0.1, 0.3)\n",
    "    img_, bboxes_ = RandomTranslate(translate, diff = True)(img.copy(), bboxes_format.copy())\n",
    "    \n",
    "    if gene=='yolo': \n",
    "        for bbox in bboxes_.tolist():\n",
    "            bb=bbox[:-1]\n",
    "            ann=int(bbox[4])\n",
    "            bbf=xiyixfyf_xywh(bb)\n",
    "            bby=xywh_yolo(bbf,640)\n",
    "            with open(root_dest_img.replace('images','labels')+name_img.replace('.png','_translated.txt'), 'a') as file:\n",
    "                file.write(str(ann)+' '+str(bby[0])+' '+str(bby[1])+' '+str(bby[2])+' '+str(bby[3])+'\\n')\n",
    "    else:\n",
    "        xs=[]\n",
    "        ys=[]\n",
    "        xfs=[]\n",
    "        yfs=[]\n",
    "        c=[]\n",
    "        n=[]\n",
    "        io.imsave(root_dest_img+name_img.replace('.png','_translated.png'), img_)\n",
    "        for bbox in bboxes_.tolist():\n",
    "            bb=bbox[:-1]\n",
    "            ann=int(bbox[4])\n",
    "            xs.append(int(bb[0]))\n",
    "            ys.append(int(bb[1]))\n",
    "            xfs.append(int(bb[2]))\n",
    "            yfs.append(int(bb[3]))\n",
    "            c.append(ann)\n",
    "            n.append(root_dest_img+name_img.replace('.png','_translated.png'))\n",
    "        \n",
    "        return xs,ys,xfs,yfs,c,n\n",
    "    \n",
    "   \n",
    "\n",
    "#aplicando rotación\n",
    "def rotate_img(img,bboxes_format,gene,df):\n",
    "    rotate = random.randint(10, 30)\n",
    "    img_, bboxes_ = RandomRotate(rotate)(img.copy(), bboxes_format.copy())\n",
    "    if gene=='yolo': \n",
    "        for bbox in bboxes_.tolist():\n",
    "            bb=bbox[:-1]\n",
    "            ann=int(bbox[4])\n",
    "            bbf=xiyixfyf_xywh(bb)\n",
    "            bby=xywh_yolo(bbf,640)\n",
    "            with open(root_dest_img.replace('images','labels')+name_img.replace('.png','_rotated.txt'), 'a') as file:\n",
    "                file.write(str(ann)+' '+str(bby[0])+' '+str(bby[1])+' '+str(bby[2])+' '+str(bby[3])+'\\n')\n",
    "    else:\n",
    "        xs=[]\n",
    "        ys=[]\n",
    "        xfs=[]\n",
    "        yfs=[]\n",
    "        c=[]\n",
    "        n=[]\n",
    "        io.imsave(root_dest_img+name_img.replace('.png','_rotated.png'), img_)\n",
    "        for bbox in bboxes_.tolist():\n",
    "            bb=bbox[:-1]\n",
    "            ann=int(bbox[4])\n",
    "            xs.append(int(bb[0]))\n",
    "            ys.append(int(bb[1]))\n",
    "            xfs.append(int(bb[2]))\n",
    "            yfs.append(int(bb[3]))\n",
    "            c.append(ann)\n",
    "            n.append(root_dest_img+name_img.replace('.png','_rotated.png'))\n",
    "        \n",
    "        return xs,ys,xfs,yfs,c,n\n",
    "    \n",
    "    \n",
    "\n",
    "#aplica estiramiento\n",
    "def shear_img(img,bboxes_format,gene,df):\n",
    "    img_, bboxes_ = RandomShear(0.2)(img.copy(), bboxes_format.copy())\n",
    "    if gene=='yolo': \n",
    "        for bbox in bboxes_.tolist():\n",
    "            bb=bbox[:-1]\n",
    "            ann=int(bbox[4])\n",
    "            bbf=xiyixfyf_xywh(bb)\n",
    "            bby=xywh_yolo(bbf,640)\n",
    "            with open(root_dest_img.replace('images','labels')+name_img.replace('.png','_sheared.txt'), 'a') as file:\n",
    "                file.write(str(ann)+' '+str(bby[0])+' '+str(bby[1])+' '+str(bby[2])+' '+str(bby[3])+'\\n')\n",
    "                \n",
    "    else:\n",
    "        xs=[]\n",
    "        ys=[]\n",
    "        xfs=[]\n",
    "        yfs=[]\n",
    "        c=[]\n",
    "        n=[]\n",
    "        io.imsave(root_dest_img+name_img.replace('.png','_sheared.png'), img_)\n",
    "        for bbox in bboxes_.tolist():\n",
    "            bb=bbox[:-1]\n",
    "            ann=int(bbox[4])\n",
    "            xs.append(int(bb[0]))\n",
    "            ys.append(int(bb[1]))\n",
    "            xfs.append(int(bb[2]))\n",
    "            yfs.append(int(bb[3]))\n",
    "            c.append(ann)\n",
    "            n.append(root_dest_img+name_img.replace('.png','_sheared.png'))\n",
    "        \n",
    "        return xs,ys,xfs,yfs,c,n\n",
    "    \n",
    "\n",
    "#aplica una deformación compuesta por composicion de tranformaciones\n",
    "def deform_img(img,bboxes_format,gene,df):\n",
    "    scale= random.uniform(0.2, 0.4)\n",
    "    translate= random.uniform(0.1, 0.3)\n",
    "    rotate = random.randint(10, 30)\n",
    "    seq = Sequence([RandomScale(scale), RandomTranslate(translate), RandomRotate(rotate), RandomShear(0.2)])\n",
    "    img_, bboxes_ = seq(img.copy(), bboxes_format.copy())\n",
    "    \n",
    "    if gene=='yolo': \n",
    "        for bbox in bboxes_.tolist():\n",
    "            bb=bbox[:-1]\n",
    "            ann=int(bbox[4])\n",
    "            bbf=xiyixfyf_xywh(bb)\n",
    "            bby=xywh_yolo(bbf,640)\n",
    "            with open(root_dest_img.replace('images','labels')+name_img.replace('.png','_deformed.txt'), 'a') as file:\n",
    "                file.write(str(ann)+' '+str(bby[0])+' '+str(bby[1])+' '+str(bby[2])+' '+str(bby[3])+'\\n')\n",
    "    else:\n",
    "        xs=[]\n",
    "        ys=[]\n",
    "        xfs=[]\n",
    "        yfs=[]\n",
    "        c=[]\n",
    "        n=[]\n",
    "        io.imsave(root_dest_img+name_img.replace('.png','_deformed.png'), img_)\n",
    "        for bbox in bboxes_.tolist():\n",
    "            bb=bbox[:-1]\n",
    "            ann=int(bbox[4])\n",
    "            xs.append(int(bb[0]))\n",
    "            ys.append(int(bb[1]))\n",
    "            xfs.append(int(bb[2]))\n",
    "            yfs.append(int(bb[3]))\n",
    "            c.append(ann)\n",
    "            n.append(root_dest_img+name_img.replace('.png','_deformed.png'))\n",
    "        \n",
    "        return xs,ys,xfs,yfs,c,n\n",
    "    \n",
    "    \n",
    "    "
   ]
  },
  {
   "cell_type": "code",
   "execution_count": 154,
   "metadata": {
    "tags": []
   },
   "outputs": [
    {
     "name": "stderr",
     "output_type": "stream",
     "text": [
      "1155it [03:40,  5.24it/s]\n"
     ]
    }
   ],
   "source": [
    "#aumento de datos para las clases con baja representación\n",
    "mode='validation'\n",
    "root_img='/home/jair/COVID/siimcovid/datasets/yolo/images/'+mode+'/'\n",
    "root_dest_img='/home/jair/COVID/siimcovid/datasets/retinanet/aumento/images/'+mode+'/'\n",
    "csv=pd.read_csv('/home/jair/COVID/siimcovid/'+mode+'_corrected.csv')\n",
    "anotation={'Typical Appearance':0,'Negative for Pneumonia':1,'Indeterminate Appearance':2,'Atypical Appearance':3}\n",
    "anotationi={0:'Typical Appearance',1:'Negative for Pneumonia',2:'Indeterminate Appearance',3:'Atypical Appearance'}\n",
    "gene='retina'\n",
    "\n",
    "resultados = {\n",
    "    'rutas': [],\n",
    "    'x1': [],\n",
    "    'y1': [],\n",
    "    'x2': [],\n",
    "    'y2': [],\n",
    "    'label': []\n",
    "}\n",
    "for indice, fila in tqdm(csv.iterrows()):\n",
    "    if fila['clase']!='tt': \n",
    "        name_img=fila['id']\n",
    "        ruta_img=root_img+name_img\n",
    "        ruta_txt=root_img.replace('images','labels')+name_img.replace('png','txt')\n",
    "        img = cv2.imread(ruta_img)[:,:,::-1]\n",
    "        bboxes_yolo=literal_eval(fila['bboxes_norm'])\n",
    "        bboxes_format=[]\n",
    "        c=anotation[fila['clase']]\n",
    "        for bbox in bboxes_yolo:\n",
    "            bbox_xyhw=yolon_to_xywh(bbox,640)\n",
    "            bbox_xf=xywh_xiyixfyf(bbox_xyhw)\n",
    "            bbox_xf.append(c)\n",
    "            bboxes_format.append(bbox_xf)\n",
    "        \n",
    "        bboxes_format=np.array(bboxes_format)\n",
    "        try:\n",
    "            xs,ys,xfs,yfs,c,n=escale_img(img,bboxes_format,gene)\n",
    "            for i in range(len(n)):\n",
    "                resultados['x1'].append(xs[i])\n",
    "                resultados['y1'].append(ys[i])\n",
    "                resultados['x2'].append(xfs[i])\n",
    "                resultados['y2'].append(yfs[i])\n",
    "                resultados['label'].append(anotationi[c[i]])\n",
    "                resultados['rutas'].append(n[i])\n",
    "        except Exception as e:\n",
    "            pass\n",
    "        try:\n",
    "            xs,ys,xfs,yfs,c,n=translate_img(img,bboxes_format,gene)\n",
    "            for i in range(len(n)):\n",
    "                resultados['x1'].append(xs[i])\n",
    "                resultados['y1'].append(ys[i])\n",
    "                resultados['x2'].append(xfs[i])\n",
    "                resultados['y2'].append(yfs[i])\n",
    "                resultados['label'].append(anotationi[c[i]])\n",
    "                resultados['rutas'].append(n[i])\n",
    "        except Exception as e:\n",
    "            pass\n",
    "        try:\n",
    "            xs,ys,xfs,yfs,c,n=rotate_img(img,bboxes_format,gene)\n",
    "            for i in range(len(n)):\n",
    "                resultados['x1'].append(xs[i])\n",
    "                resultados['y1'].append(ys[i])\n",
    "                resultados['x2'].append(xfs[i])\n",
    "                resultados['y2'].append(yfs[i])\n",
    "                resultados['label'].append(anotationi[c[i]])\n",
    "                resultados['rutas'].append(n[i])\n",
    "        except Exception as e:\n",
    "            pass\n",
    "        try:\n",
    "            xs,ys,xfs,yfs,c,n=shear_img(img,bboxes_format,gene)\n",
    "            for i in range(len(n)):\n",
    "                resultados['x1'].append(xs[i])\n",
    "                resultados['y1'].append(ys[i])\n",
    "                resultados['x2'].append(xfs[i])\n",
    "                resultados['y2'].append(yfs[i])\n",
    "                resultados['label'].append(anotationi[c[i]])\n",
    "                resultados['rutas'].append(n[i])\n",
    "\n",
    "        except Exception as e:\n",
    "            pass\n",
    "        try:\n",
    "            xs,ys,xfs,yfs,c,n=deform_img(img,bboxes_format,gene)\n",
    "            for i in range(len(n)):\n",
    "                resultados['x1'].append(xs[i])\n",
    "                resultados['y1'].append(ys[i])\n",
    "                resultados['x2'].append(xfs[i])\n",
    "                resultados['y2'].append(yfs[i])\n",
    "                resultados['label'].append(anotationi[c[i]])\n",
    "                resultados['rutas'].append(n[i])\n",
    "        except Exception as e:\n",
    "            pass\n",
    "\n",
    "df= pd.DataFrame(resultados)"
   ]
  },
  {
   "cell_type": "code",
   "execution_count": 155,
   "metadata": {
    "tags": []
   },
   "outputs": [],
   "source": [
    "df.to_csv('/home/jair/COVID/siimcovid/datasets/retinanet/aumento/images/'+mode+'_transf.csv', index=False)"
   ]
  },
  {
   "cell_type": "code",
   "execution_count": 149,
   "metadata": {
    "tags": []
   },
   "outputs": [
    {
     "name": "stderr",
     "output_type": "stream",
     "text": [
      "1155it [00:00, 5292.08it/s]\n"
     ]
    }
   ],
   "source": [
    "mode='validation'\n",
    "root_img='/home/jair/COVID/siimcovid/datasets/yolo/images/'+mode+'/'\n",
    "root_dest_img='/home/jair/COVID/siimcovid/datasets/retinanet/aumento/images/'+mode+'/'\n",
    "csv=pd.read_csv('/home/jair/COVID/siimcovid/'+mode+'_corrected.csv')\n",
    "anotation={'Typical Appearance':0,'Negative for Pneumonia':1,'Indeterminate Appearance':2,'Atypical Appearance':3}\n",
    "anotationi={0:'Typical Appearance',1:'Negative for Pneumonia',2:'Indeterminate Appearance',3:'Atypical Appearance'}\n",
    "resultados = {\n",
    "    'rutas': [],\n",
    "    'x1': [],\n",
    "    'y1': [],\n",
    "    'x2': [],\n",
    "    'y2': [],\n",
    "    'label': []\n",
    "}\n",
    "for indice, fila in tqdm(csv.iterrows()):\n",
    "    if fila['clase']!='tt': \n",
    "        name_img=fila['id']\n",
    "        bboxes_yolo=literal_eval(fila['bboxes_norm'])\n",
    "        for bbox in bboxes_yolo:\n",
    "            bbox_xyhw=yolon_to_xywh(bbox,640)\n",
    "            bbox_xf=xywh_xiyixfyf(bbox_xyhw)\n",
    "            resultados['x1'].append(int(bbox_xf[0]))\n",
    "            resultados['y1'].append(int(bbox_xf[1]))\n",
    "            resultados['x2'].append(int(bbox_xf[2]))\n",
    "            resultados['y2'].append(int(bbox_xf[3]))\n",
    "            resultados['label'].append(fila['clase'])\n",
    "            resultados['rutas'].append(root_dest_img+name_img)\n",
    "\n",
    "df= pd.DataFrame(resultados)"
   ]
  },
  {
   "cell_type": "code",
   "execution_count": 150,
   "metadata": {
    "tags": []
   },
   "outputs": [],
   "source": [
    "df.to_csv('/home/jair/COVID/siimcovid/datasets/retinanet/aumento/images/'+mode+'_orig.csv', index=False)"
   ]
  },
  {
   "cell_type": "code",
   "execution_count": 9,
   "metadata": {},
   "outputs": [],
   "source": [
    "#borrando imagenes sin anotaciones\n",
    "mode='validation'\n",
    "root='/home/jair/COVID/siimcovid/datasets/retinanet/aumento/images/'\n",
    "archivos=os.listdir(root+mode)\n",
    "\n",
    "i=0\n",
    "for archivo in archivos:\n",
    "    if not os.path.exists(root.replace('images','labels')+mode+'/'+archivo.replace('png','txt')):\n",
    "        os.remove(root+mode+'/'+archivo)\n",
    "\n"
   ]
  },
  {
   "cell_type": "code",
   "execution_count": 158,
   "metadata": {
    "tags": []
   },
   "outputs": [],
   "source": [
    "mode='validation'\n",
    "csv=pd.read_csv('/home/jair/COVID/siimcovid/datasets/retinanet/aumento/images/'+mode+'_transf.csv')\n"
   ]
  },
  {
   "cell_type": "code",
   "execution_count": 10,
   "metadata": {
    "tags": []
   },
   "outputs": [
    {
     "data": {
      "text/plain": [
       "label\n",
       "Typical Appearance          2738\n",
       "Negative for Pneumonia      1665\n",
       "Indeterminate Appearance    1000\n",
       "Atypical Appearance          375\n",
       "Name: count, dtype: int64"
      ]
     },
     "execution_count": 10,
     "metadata": {},
     "output_type": "execute_result"
    }
   ],
   "source": [
    "#conteos por clases sin aumento\n",
    "info=pd.read_csv('/home/jair/COVID/siimcovid/info.csv')\n",
    "conteo = info['label'].value_counts()\n",
    "conteo"
   ]
  },
  {
   "cell_type": "code",
   "execution_count": 41,
   "metadata": {
    "tags": []
   },
   "outputs": [
    {
     "name": "stderr",
     "output_type": "stream",
     "text": [
      "5778it [00:00, 9381.68it/s] \n"
     ]
    }
   ],
   "source": [
    "#contando las imagenes que se agregaron para indeterminados y atipicos\n",
    "root_search='/home/jair/COVID/siimcovid/datasets/retinanet/aumento/images/train/'\n",
    "ind=0\n",
    "ati=0\n",
    "tip=0\n",
    "neg=0\n",
    "for indice, fila in tqdm(info.iterrows()):\n",
    "    name=fila['rutas'].split('/')[-1].replace('dcm','png')\n",
    "\n",
    "    if fila['label']=='Indeterminate Appearance':\n",
    "        if os.path.exists(root_search+name):\n",
    "            if os.path.exists(root_search+name.replace('.png','_scaled.png')):\n",
    "                ind=ind+1\n",
    "            if os.path.exists(root_search+name.replace('.png','_translated.png')):\n",
    "                ind=ind+1\n",
    "            if os.path.exists(root_search+name.replace('.png','_rotated.png')):\n",
    "                ind=ind+1\n",
    "            if os.path.exists(root_search+name.replace('.png','_sheared.png')):\n",
    "                ind=ind+1\n",
    "            if os.path.exists(root_search+name.replace('.png','_deformed.png')):\n",
    "                ind=ind+1\n",
    "        elif os.path.exists(root_search.replace('train','validation')+name):\n",
    "            if os.path.exists(root_search.replace('train','validation')+name.replace('.png','_scaled.png')):\n",
    "                ind=ind+1\n",
    "            if os.path.exists(root_search.replace('train','validation')+name.replace('.png','_translated.png')):\n",
    "                ind=ind+1\n",
    "            if os.path.exists(root_search.replace('train','validation')+name.replace('.png','_rotated.png')):\n",
    "                ind=ind+1\n",
    "            if os.path.exists(root_search.replace('train','validation')+name.replace('.png','_sheared.png')):\n",
    "                ind=ind+1\n",
    "            if os.path.exists(root_search.replace('train','validation')+name.replace('.png','_deformed.png')):\n",
    "                ind=ind+1\n",
    "    if fila['label']=='Atypical Appearance':\n",
    "        if os.path.exists(root_search+name):\n",
    "            if os.path.exists(root_search+name.replace('.png','_scaled.png')):\n",
    "                ati=ati+1\n",
    "            if os.path.exists(root_search+name.replace('.png','_translated.png')):\n",
    "                ati=ati+1\n",
    "            if os.path.exists(root_search+name.replace('.png','_rotated.png')):\n",
    "                ati=ati+1\n",
    "            if os.path.exists(root_search+name.replace('.png','_sheared.png')):\n",
    "                ati=ati+1\n",
    "            if os.path.exists(root_search+name.replace('.png','_deformed.png')):\n",
    "                ati=ati+1\n",
    "        elif os.path.exists(root_search.replace('train','validation')+name):\n",
    "            if os.path.exists(root_search.replace('train','validation')+name.replace('.png','_scaled.png')):\n",
    "                ati=ati+1\n",
    "            if os.path.exists(root_search.replace('train','validation')+name.replace('.png','_translated.png')):\n",
    "                ati=ati+1\n",
    "            if os.path.exists(root_search.replace('train','validation')+name.replace('.png','_rotated.png')):\n",
    "                ati=ati+1\n",
    "            if os.path.exists(root_search.replace('train','validation')+name.replace('.png','_sheared.png')):\n",
    "                ati=ati+1\n",
    "            if os.path.exists(root_search.replace('train','validation')+name.replace('.png','_deformed.png')):\n",
    "                ati=ati+1\n",
    "    if fila['label']=='Typical Appearance':\n",
    "        if os.path.exists(root_search+name):\n",
    "            if os.path.exists(root_search+name.replace('.png','_scaled.png')):\n",
    "                tip=tip+1\n",
    "            if os.path.exists(root_search+name.replace('.png','_translated.png')):\n",
    "                tip=tip+1\n",
    "            if os.path.exists(root_search+name.replace('.png','_rotated.png')):\n",
    "                tip=tip+1\n",
    "            if os.path.exists(root_search+name.replace('.png','_sheared.png')):\n",
    "                tip=tip+1\n",
    "            if os.path.exists(root_search+name.replace('.png','_deformed.png')):\n",
    "                tip=tip+1\n",
    "        elif os.path.exists(root_search.replace('train','validation')+name):\n",
    "            if os.path.exists(root_search.replace('train','validation')+name.replace('.png','_scaled.png')):\n",
    "                tip=tip+1\n",
    "            if os.path.exists(root_search.replace('train','validation')+name.replace('.png','_translated.png')):\n",
    "                tip=tip+1\n",
    "            if os.path.exists(root_search.replace('train','validation')+name.replace('.png','_rotated.png')):\n",
    "                tip=tip+1\n",
    "            if os.path.exists(root_search.replace('train','validation')+name.replace('.png','_sheared.png')):\n",
    "                tip=tip+1\n",
    "            if os.path.exists(root_search.replace('train','validation')+name.replace('.png','_deformed.png')):\n",
    "                tip=tip+1\n",
    "    if fila['label']=='Negative for Pneumonia':\n",
    "        if os.path.exists(root_search+name):\n",
    "            if os.path.exists(root_search+name.replace('.png','_scaled.png')):\n",
    "                neg=neg+1\n",
    "            if os.path.exists(root_search+name.replace('.png','_translated.png')):\n",
    "                neg=neg+1\n",
    "            if os.path.exists(root_search+name.replace('.png','_rotated.png')):\n",
    "                neg=neg+1\n",
    "            if os.path.exists(root_search+name.replace('.png','_sheared.png')):\n",
    "                neg=neg+1\n",
    "            if os.path.exists(root_search+name.replace('.png','_deformed.png')):\n",
    "                neg=neg+1\n",
    "        elif os.path.exists(root_search.replace('train','validation')+name):\n",
    "            if os.path.exists(root_search.replace('train','validation')+name.replace('.png','_scaled.png')):\n",
    "                neg=neg+1\n",
    "            if os.path.exists(root_search.replace('train','validation')+name.replace('.png','_translated.png')):\n",
    "                neg=neg+1\n",
    "            if os.path.exists(root_search.replace('train','validation')+name.replace('.png','_rotated.png')):\n",
    "                neg=neg+1\n",
    "            if os.path.exists(root_search.replace('train','validation')+name.replace('.png','_sheared.png')):\n",
    "                neg=neg+1\n",
    "            if os.path.exists(root_search.replace('train','validation')+name.replace('.png','_deformed.png')):\n",
    "                neg=neg+1"
   ]
  },
  {
   "cell_type": "code",
   "execution_count": 37,
   "metadata": {
    "tags": []
   },
   "outputs": [
    {
     "name": "stdout",
     "output_type": "stream",
     "text": [
      "Atipicos agregados 0\n",
      "Indeterminados agregados 0\n",
      "nega add 0\n",
      "tipi add 0\n"
     ]
    }
   ],
   "source": [
    "print('Atipicos agregados',ati)\n",
    "print('Indeterminados agregados',ind)\n",
    "print('nega add',neg)\n",
    "print('tipi add',tip)"
   ]
  },
  {
   "cell_type": "markdown",
   "metadata": {},
   "source": [
    "Conteos despues de aumento\n",
    "\n",
    "Typical Appearance          2738\n",
    "\n",
    "Negative for Pneumonia      1665\n",
    "\n",
    "Indeterminate Appearance    5462\n",
    "\n",
    "Atypical Appearance         2050"
   ]
  },
  {
   "cell_type": "code",
   "execution_count": 78,
   "metadata": {},
   "outputs": [],
   "source": [
    "mode='validation'\n",
    "root='/home/jair/COVID/siimcovid/datasets/yolo/labels/'\n",
    "names={0:'Typical Appearance',1:'Negative for Pneumonia',2: 'Indeterminate Appearance',3: 'Atypical Appearance'}\n",
    "archivos=os.listdir(root+mode)\n",
    "ids=[]\n",
    "bboxes=[]\n",
    "clase=[]\n",
    "df = pd.DataFrame(columns=['id','bboxes_norm','clase'])\n",
    "for archivo in archivos:\n",
    "    idn=archivo.replace('txt','png')\n",
    "    Cbboxes=txt_bboxes(root+mode+'/'+archivo)\n",
    "    clss=int(Cbboxes[0][0])\n",
    "    ids.append(idn)\n",
    "    clase.append(names[clss])\n",
    "    bbs=[]\n",
    "    for bb in Cbboxes:\n",
    "        bbs.append(bb[1:])\n",
    "    bboxes.append(str(bbs))          "
   ]
  },
  {
   "cell_type": "code",
   "execution_count": 79,
   "metadata": {
    "tags": []
   },
   "outputs": [],
   "source": [
    "df['id']=ids\n",
    "df['bboxes_norm']=bboxes\n",
    "df['clase']=clase"
   ]
  },
  {
   "cell_type": "code",
   "execution_count": 80,
   "metadata": {
    "tags": []
   },
   "outputs": [],
   "source": [
    "df.to_csv('/home/jair/COVID/siimcovid/'+mode+'_corrected.csv', index=False)"
   ]
  }
 ],
 "metadata": {
  "anaconda-cloud": {},
  "kernelspec": {
   "display_name": "Python 3 (ipykernel)",
   "language": "python",
   "name": "python3"
  },
  "language_info": {
   "codemirror_mode": {
    "name": "ipython",
    "version": 3
   },
   "file_extension": ".py",
   "mimetype": "text/x-python",
   "name": "python",
   "nbconvert_exporter": "python",
   "pygments_lexer": "ipython3",
   "version": "3.11.4"
  }
 },
 "nbformat": 4,
 "nbformat_minor": 4
}
